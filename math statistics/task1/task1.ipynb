{
 "cells": [
  {
   "cell_type": "markdown",
   "metadata": {
    "colab_type": "text",
    "id": "S2-HzF6p45A3"
   },
   "source": [
    "# Задача 1\n",
    "Загрузим данные"
   ]
  },
  {
   "cell_type": "code",
   "execution_count": 1,
   "metadata": {
    "colab": {
     "base_uri": "https://localhost:8080/",
     "height": 421
    },
    "colab_type": "code",
    "id": "aC8vvwQB3Q6d",
    "outputId": "d51b7afc-2d50-44cf-cf82-23cc14fd38c0"
   },
   "outputs": [
    {
     "data": {
      "text/html": [
       "<div>\n",
       "<style scoped>\n",
       "    .dataframe tbody tr th:only-of-type {\n",
       "        vertical-align: middle;\n",
       "    }\n",
       "\n",
       "    .dataframe tbody tr th {\n",
       "        vertical-align: top;\n",
       "    }\n",
       "\n",
       "    .dataframe thead th {\n",
       "        text-align: right;\n",
       "    }\n",
       "</style>\n",
       "<table border=\"1\" class=\"dataframe\">\n",
       "  <thead>\n",
       "    <tr style=\"text-align: right;\">\n",
       "      <th></th>\n",
       "      <th>0</th>\n",
       "      <th>1</th>\n",
       "      <th>2</th>\n",
       "      <th>3</th>\n",
       "      <th>4</th>\n",
       "      <th>5</th>\n",
       "      <th>6</th>\n",
       "      <th>7</th>\n",
       "      <th>8</th>\n",
       "      <th>9</th>\n",
       "    </tr>\n",
       "  </thead>\n",
       "  <tbody>\n",
       "    <tr>\n",
       "      <th>0</th>\n",
       "      <td>0.415</td>\n",
       "      <td>0.420</td>\n",
       "      <td>0.120</td>\n",
       "      <td>0.506</td>\n",
       "      <td>1.074</td>\n",
       "      <td>0.532</td>\n",
       "      <td>0.016</td>\n",
       "      <td>0.025</td>\n",
       "      <td>0.434000</td>\n",
       "      <td>0.387</td>\n",
       "    </tr>\n",
       "    <tr>\n",
       "      <th>1</th>\n",
       "      <td>0.448</td>\n",
       "      <td>0.263</td>\n",
       "      <td>0.069</td>\n",
       "      <td>1.107</td>\n",
       "      <td>1.052</td>\n",
       "      <td>0.246</td>\n",
       "      <td>0.443</td>\n",
       "      <td>0.234</td>\n",
       "      <td>0.064000</td>\n",
       "      <td>0.387</td>\n",
       "    </tr>\n",
       "    <tr>\n",
       "      <th>2</th>\n",
       "      <td>0.097</td>\n",
       "      <td>0.478</td>\n",
       "      <td>0.135</td>\n",
       "      <td>0.066</td>\n",
       "      <td>1.259</td>\n",
       "      <td>0.381</td>\n",
       "      <td>0.011</td>\n",
       "      <td>0.128</td>\n",
       "      <td>0.004673</td>\n",
       "      <td>0.088</td>\n",
       "    </tr>\n",
       "    <tr>\n",
       "      <th>3</th>\n",
       "      <td>0.142</td>\n",
       "      <td>1.029</td>\n",
       "      <td>0.204</td>\n",
       "      <td>0.279</td>\n",
       "      <td>0.107</td>\n",
       "      <td>0.187</td>\n",
       "      <td>0.056</td>\n",
       "      <td>0.560</td>\n",
       "      <td>0.512000</td>\n",
       "      <td>0.070</td>\n",
       "    </tr>\n",
       "    <tr>\n",
       "      <th>4</th>\n",
       "      <td>0.024</td>\n",
       "      <td>0.215</td>\n",
       "      <td>0.253</td>\n",
       "      <td>2.073</td>\n",
       "      <td>0.119</td>\n",
       "      <td>0.215</td>\n",
       "      <td>0.056</td>\n",
       "      <td>0.512</td>\n",
       "      <td>0.407000</td>\n",
       "      <td>0.550</td>\n",
       "    </tr>\n",
       "    <tr>\n",
       "      <th>5</th>\n",
       "      <td>0.085</td>\n",
       "      <td>0.043</td>\n",
       "      <td>0.055</td>\n",
       "      <td>0.595</td>\n",
       "      <td>0.565</td>\n",
       "      <td>0.128</td>\n",
       "      <td>0.171</td>\n",
       "      <td>0.065</td>\n",
       "      <td>0.391000</td>\n",
       "      <td>0.052</td>\n",
       "    </tr>\n",
       "    <tr>\n",
       "      <th>6</th>\n",
       "      <td>0.313</td>\n",
       "      <td>0.108</td>\n",
       "      <td>0.041</td>\n",
       "      <td>0.065</td>\n",
       "      <td>0.201</td>\n",
       "      <td>0.255</td>\n",
       "      <td>0.122</td>\n",
       "      <td>0.500</td>\n",
       "      <td>0.735000</td>\n",
       "      <td>0.036</td>\n",
       "    </tr>\n",
       "    <tr>\n",
       "      <th>7</th>\n",
       "      <td>0.228</td>\n",
       "      <td>0.380</td>\n",
       "      <td>0.255</td>\n",
       "      <td>0.117</td>\n",
       "      <td>0.319</td>\n",
       "      <td>0.086</td>\n",
       "      <td>0.362</td>\n",
       "      <td>0.328</td>\n",
       "      <td>0.330000</td>\n",
       "      <td>0.075</td>\n",
       "    </tr>\n",
       "    <tr>\n",
       "      <th>8</th>\n",
       "      <td>0.604</td>\n",
       "      <td>0.207</td>\n",
       "      <td>0.202</td>\n",
       "      <td>0.127</td>\n",
       "      <td>0.060</td>\n",
       "      <td>0.127</td>\n",
       "      <td>0.262</td>\n",
       "      <td>0.119</td>\n",
       "      <td>0.066000</td>\n",
       "      <td>0.464</td>\n",
       "    </tr>\n",
       "    <tr>\n",
       "      <th>9</th>\n",
       "      <td>0.025</td>\n",
       "      <td>0.323</td>\n",
       "      <td>0.137</td>\n",
       "      <td>0.831</td>\n",
       "      <td>0.460</td>\n",
       "      <td>0.606</td>\n",
       "      <td>0.054</td>\n",
       "      <td>0.417</td>\n",
       "      <td>0.101000</td>\n",
       "      <td>0.284</td>\n",
       "    </tr>\n",
       "    <tr>\n",
       "      <th>10</th>\n",
       "      <td>0.915</td>\n",
       "      <td>0.283</td>\n",
       "      <td>0.143</td>\n",
       "      <td>0.038</td>\n",
       "      <td>0.078</td>\n",
       "      <td>0.673</td>\n",
       "      <td>0.218</td>\n",
       "      <td>0.312</td>\n",
       "      <td>0.367000</td>\n",
       "      <td>1.008</td>\n",
       "    </tr>\n",
       "    <tr>\n",
       "      <th>11</th>\n",
       "      <td>0.067</td>\n",
       "      <td>1.118</td>\n",
       "      <td>0.603</td>\n",
       "      <td>0.563</td>\n",
       "      <td>1.246</td>\n",
       "      <td>0.108</td>\n",
       "      <td>0.124</td>\n",
       "      <td>0.156</td>\n",
       "      <td>0.951000</td>\n",
       "      <td>0.940</td>\n",
       "    </tr>\n",
       "  </tbody>\n",
       "</table>\n",
       "</div>"
      ],
      "text/plain": [
       "        0      1      2      3      4      5      6      7         8      9\n",
       "0   0.415  0.420  0.120  0.506  1.074  0.532  0.016  0.025  0.434000  0.387\n",
       "1   0.448  0.263  0.069  1.107  1.052  0.246  0.443  0.234  0.064000  0.387\n",
       "2   0.097  0.478  0.135  0.066  1.259  0.381  0.011  0.128  0.004673  0.088\n",
       "3   0.142  1.029  0.204  0.279  0.107  0.187  0.056  0.560  0.512000  0.070\n",
       "4   0.024  0.215  0.253  2.073  0.119  0.215  0.056  0.512  0.407000  0.550\n",
       "5   0.085  0.043  0.055  0.595  0.565  0.128  0.171  0.065  0.391000  0.052\n",
       "6   0.313  0.108  0.041  0.065  0.201  0.255  0.122  0.500  0.735000  0.036\n",
       "7   0.228  0.380  0.255  0.117  0.319  0.086  0.362  0.328  0.330000  0.075\n",
       "8   0.604  0.207  0.202  0.127  0.060  0.127  0.262  0.119  0.066000  0.464\n",
       "9   0.025  0.323  0.137  0.831  0.460  0.606  0.054  0.417  0.101000  0.284\n",
       "10  0.915  0.283  0.143  0.038  0.078  0.673  0.218  0.312  0.367000  1.008\n",
       "11  0.067  1.118  0.603  0.563  1.246  0.108  0.124  0.156  0.951000  0.940"
      ]
     },
     "execution_count": 1,
     "metadata": {},
     "output_type": "execute_result"
    }
   ],
   "source": [
    "import numpy as np\n",
    "import pandas as pd\n",
    "import matplotlib.pyplot as plt\n",
    "\n",
    "X = np.array(pd.read_csv('data.csv', sep=' ', header=None))\n",
    "pd.DataFrame(data=X)"
   ]
  },
  {
   "cell_type": "markdown",
   "metadata": {
    "colab_type": "text",
    "id": "3k4h5a0j5Gsa"
   },
   "source": [
    "**1) Найти крайние члены вариационного ряда и размах выборки**"
   ]
  },
  {
   "cell_type": "code",
   "execution_count": 2,
   "metadata": {
    "colab": {
     "base_uri": "https://localhost:8080/",
     "height": 68
    },
    "colab_type": "code",
    "id": "yJBw8Dgw5O9h",
    "outputId": "7347ea67-d99c-4ef6-e98d-6effa2f7a9db"
   },
   "outputs": [
    {
     "name": "stdout",
     "output_type": "stream",
     "text": [
      "Min:  0.004673\n",
      "Max:  2.073\n",
      "Размах:  2.068327\n",
      "Длина выборки:  120\n"
     ]
    }
   ],
   "source": [
    "print('Min: ', X.min())\n",
    "print('Max: ', X.max())\n",
    "print('Размах: ', X.max()-X.min())\n",
    "print('Длина выборки: ', X.shape[0] * X.shape[1])"
   ]
  },
  {
   "cell_type": "markdown",
   "metadata": {
    "colab_type": "text",
    "id": "HMvRXsgc67bG"
   },
   "source": [
    "**2) Осуществить группировку данных (количество интервалов по правилу Стерджеса)**"
   ]
  },
  {
   "cell_type": "code",
   "execution_count": 3,
   "metadata": {
    "colab": {
     "base_uri": "https://localhost:8080/",
     "height": 34
    },
    "colab_type": "code",
    "id": "gAcFTNPF7FN6",
    "outputId": "80fb77fe-3894-4aef-a62f-b8e11a6e740e"
   },
   "outputs": [
    {
     "name": "stdout",
     "output_type": "stream",
     "text": [
      "Количество интервалов:  7\n"
     ]
    }
   ],
   "source": [
    "from math import log2, trunc\n",
    "\n",
    "l = 1 + trunc(log2(X.shape[0] * X.shape[1]))\n",
    "print('Количество интервалов: ', l)"
   ]
  },
  {
   "cell_type": "code",
   "execution_count": 4,
   "metadata": {
    "colab": {
     "base_uri": "https://localhost:8080/",
     "height": 34
    },
    "colab_type": "code",
    "id": "fhudgz768vTo",
    "outputId": "8157effa-9006-4bf3-a437-6e9a4aa040aa"
   },
   "outputs": [
    {
     "name": "stdout",
     "output_type": "stream",
     "text": [
      "h:  0.2954752857142857\n"
     ]
    }
   ],
   "source": [
    "h = (X.max() - X.min()) / l\n",
    "print('h: ', h)"
   ]
  },
  {
   "cell_type": "code",
   "execution_count": 5,
   "metadata": {},
   "outputs": [
    {
     "data": {
      "text/plain": [
       "array([0.004673  , 0.30014829, 0.59562357, 0.89109886, 1.18657414,\n",
       "       1.48204943, 1.77752471, 2.073     ])"
      ]
     },
     "execution_count": 5,
     "metadata": {},
     "output_type": "execute_result"
    }
   ],
   "source": [
    "np.linspace(X.min(), X.max(), l + 1)"
   ]
  },
  {
   "cell_type": "code",
   "execution_count": 6,
   "metadata": {},
   "outputs": [
    {
     "data": {
      "text/plain": [
       "(array([69, 33,  6,  9,  2,  0,  1], dtype=int32),\n",
       " array([0.004673  , 0.30014829, 0.59562357, 0.89109886, 1.18657414,\n",
       "        1.48204943, 1.77752471, 2.073     ]))"
      ]
     },
     "execution_count": 6,
     "metadata": {},
     "output_type": "execute_result"
    }
   ],
   "source": [
    "i = X.min()\n",
    "bins = []\n",
    "while i != X.max():\n",
    "    bins.append(i)\n",
    "    i += h\n",
    "bins[-1] += 0.001\n",
    "np.histogram(X.reshape(X.shape[0]*X.shape[1],), bins=np.linspace(X.min(), X.max(), l + 1))"
   ]
  },
  {
   "cell_type": "code",
   "execution_count": 7,
   "metadata": {
    "colab": {
     "base_uri": "https://localhost:8080/",
     "height": 266
    },
    "colab_type": "code",
    "id": "bLxOhhs9_XIY",
    "outputId": "ae86f919-54e6-406c-daf5-64f5bd1e07a5"
   },
   "outputs": [
    {
     "data": {
      "text/html": [
       "<div>\n",
       "<style scoped>\n",
       "    .dataframe tbody tr th:only-of-type {\n",
       "        vertical-align: middle;\n",
       "    }\n",
       "\n",
       "    .dataframe tbody tr th {\n",
       "        vertical-align: top;\n",
       "    }\n",
       "\n",
       "    .dataframe thead th {\n",
       "        text-align: right;\n",
       "    }\n",
       "</style>\n",
       "<table border=\"1\" class=\"dataframe\">\n",
       "  <thead>\n",
       "    <tr style=\"text-align: right;\">\n",
       "      <th></th>\n",
       "      <th>0</th>\n",
       "      <th>1</th>\n",
       "    </tr>\n",
       "  </thead>\n",
       "  <tbody>\n",
       "    <tr>\n",
       "      <th>0</th>\n",
       "      <td>0.004673</td>\n",
       "      <td>69.0</td>\n",
       "    </tr>\n",
       "    <tr>\n",
       "      <th>1</th>\n",
       "      <td>0.300148</td>\n",
       "      <td>33.0</td>\n",
       "    </tr>\n",
       "    <tr>\n",
       "      <th>2</th>\n",
       "      <td>0.595624</td>\n",
       "      <td>6.0</td>\n",
       "    </tr>\n",
       "    <tr>\n",
       "      <th>3</th>\n",
       "      <td>0.891099</td>\n",
       "      <td>9.0</td>\n",
       "    </tr>\n",
       "    <tr>\n",
       "      <th>4</th>\n",
       "      <td>1.186574</td>\n",
       "      <td>2.0</td>\n",
       "    </tr>\n",
       "    <tr>\n",
       "      <th>5</th>\n",
       "      <td>1.482049</td>\n",
       "      <td>0.0</td>\n",
       "    </tr>\n",
       "    <tr>\n",
       "      <th>6</th>\n",
       "      <td>1.777525</td>\n",
       "      <td>1.0</td>\n",
       "    </tr>\n",
       "  </tbody>\n",
       "</table>\n",
       "</div>"
      ],
      "text/plain": [
       "          0     1\n",
       "0  0.004673  69.0\n",
       "1  0.300148  33.0\n",
       "2  0.595624   6.0\n",
       "3  0.891099   9.0\n",
       "4  1.186574   2.0\n",
       "5  1.482049   0.0\n",
       "6  1.777525   1.0"
      ]
     },
     "execution_count": 7,
     "metadata": {},
     "output_type": "execute_result"
    }
   ],
   "source": [
    "def count(data, beg, h):\n",
    "  c = 0\n",
    "  for i in range(data.shape[0]):\n",
    "    for j in range(data.shape[1]):\n",
    "      if data[i][j] < beg + h and data[i][j] >= beg:\n",
    "        c += 1\n",
    "  return c\n",
    "\n",
    "f = np.zeros((0, 2))\n",
    "step = X.min() \n",
    "while step < X.max():\n",
    "  val = count(X, step, h)\n",
    "  # нужно включить max в последний интервал\n",
    "  if step + h >= X.max():\n",
    "    val += 1\n",
    "  \n",
    "  f = np.vstack((f, [step, val]))\n",
    "  step += h\n",
    "pd.DataFrame(data=f)"
   ]
  },
  {
   "cell_type": "code",
   "execution_count": 8,
   "metadata": {
    "colab": {
     "base_uri": "https://localhost:8080/",
     "height": 266
    },
    "colab_type": "code",
    "id": "E1pgsxnf_9D9",
    "outputId": "01f1387e-2e0c-474b-898a-be7069cd7d7a"
   },
   "outputs": [
    {
     "data": {
      "text/html": [
       "<div>\n",
       "<style scoped>\n",
       "    .dataframe tbody tr th:only-of-type {\n",
       "        vertical-align: middle;\n",
       "    }\n",
       "\n",
       "    .dataframe tbody tr th {\n",
       "        vertical-align: top;\n",
       "    }\n",
       "\n",
       "    .dataframe thead th {\n",
       "        text-align: right;\n",
       "    }\n",
       "</style>\n",
       "<table border=\"1\" class=\"dataframe\">\n",
       "  <thead>\n",
       "    <tr style=\"text-align: right;\">\n",
       "      <th></th>\n",
       "      <th>p</th>\n",
       "    </tr>\n",
       "  </thead>\n",
       "  <tbody>\n",
       "    <tr>\n",
       "      <th>0</th>\n",
       "      <td>0.575000</td>\n",
       "    </tr>\n",
       "    <tr>\n",
       "      <th>1</th>\n",
       "      <td>0.275000</td>\n",
       "    </tr>\n",
       "    <tr>\n",
       "      <th>2</th>\n",
       "      <td>0.050000</td>\n",
       "    </tr>\n",
       "    <tr>\n",
       "      <th>3</th>\n",
       "      <td>0.075000</td>\n",
       "    </tr>\n",
       "    <tr>\n",
       "      <th>4</th>\n",
       "      <td>0.016667</td>\n",
       "    </tr>\n",
       "    <tr>\n",
       "      <th>5</th>\n",
       "      <td>0.000000</td>\n",
       "    </tr>\n",
       "    <tr>\n",
       "      <th>6</th>\n",
       "      <td>0.008333</td>\n",
       "    </tr>\n",
       "  </tbody>\n",
       "</table>\n",
       "</div>"
      ],
      "text/plain": [
       "          p\n",
       "0  0.575000\n",
       "1  0.275000\n",
       "2  0.050000\n",
       "3  0.075000\n",
       "4  0.016667\n",
       "5  0.000000\n",
       "6  0.008333"
      ]
     },
     "execution_count": 8,
     "metadata": {},
     "output_type": "execute_result"
    }
   ],
   "source": [
    "p = np.array(pd.DataFrame(data=f)[1]) / (X.shape[0] * X.shape[1])\n",
    "pd.DataFrame(data=p, columns=['p'])"
   ]
  },
  {
   "cell_type": "code",
   "execution_count": 9,
   "metadata": {
    "colab": {
     "base_uri": "https://localhost:8080/",
     "height": 266
    },
    "colab_type": "code",
    "id": "VOCu7LtEF4zJ",
    "outputId": "a35d72c7-2a43-4c80-ae53-f1f3da7f4732"
   },
   "outputs": [
    {
     "data": {
      "text/html": [
       "<div>\n",
       "<style scoped>\n",
       "    .dataframe tbody tr th:only-of-type {\n",
       "        vertical-align: middle;\n",
       "    }\n",
       "\n",
       "    .dataframe tbody tr th {\n",
       "        vertical-align: top;\n",
       "    }\n",
       "\n",
       "    .dataframe thead th {\n",
       "        text-align: right;\n",
       "    }\n",
       "</style>\n",
       "<table border=\"1\" class=\"dataframe\">\n",
       "  <thead>\n",
       "    <tr style=\"text-align: right;\">\n",
       "      <th></th>\n",
       "      <th>f1</th>\n",
       "    </tr>\n",
       "  </thead>\n",
       "  <tbody>\n",
       "    <tr>\n",
       "      <th>0</th>\n",
       "      <td>1.946017</td>\n",
       "    </tr>\n",
       "    <tr>\n",
       "      <th>1</th>\n",
       "      <td>0.930704</td>\n",
       "    </tr>\n",
       "    <tr>\n",
       "      <th>2</th>\n",
       "      <td>0.169219</td>\n",
       "    </tr>\n",
       "    <tr>\n",
       "      <th>3</th>\n",
       "      <td>0.253828</td>\n",
       "    </tr>\n",
       "    <tr>\n",
       "      <th>4</th>\n",
       "      <td>0.056406</td>\n",
       "    </tr>\n",
       "    <tr>\n",
       "      <th>5</th>\n",
       "      <td>0.000000</td>\n",
       "    </tr>\n",
       "    <tr>\n",
       "      <th>6</th>\n",
       "      <td>0.028203</td>\n",
       "    </tr>\n",
       "  </tbody>\n",
       "</table>\n",
       "</div>"
      ],
      "text/plain": [
       "         f1\n",
       "0  1.946017\n",
       "1  0.930704\n",
       "2  0.169219\n",
       "3  0.253828\n",
       "4  0.056406\n",
       "5  0.000000\n",
       "6  0.028203"
      ]
     },
     "execution_count": 9,
     "metadata": {},
     "output_type": "execute_result"
    }
   ],
   "source": [
    "f1 = p / h\n",
    "pd.DataFrame(data=f1, columns=['f1'])"
   ]
  },
  {
   "cell_type": "code",
   "execution_count": 10,
   "metadata": {
    "colab": {
     "base_uri": "https://localhost:8080/",
     "height": 266
    },
    "colab_type": "code",
    "id": "AfolBUu4GDi5",
    "outputId": "e2b6f63f-ff97-4b12-8de0-3d29c92b5058"
   },
   "outputs": [
    {
     "data": {
      "text/html": [
       "<div>\n",
       "<style scoped>\n",
       "    .dataframe tbody tr th:only-of-type {\n",
       "        vertical-align: middle;\n",
       "    }\n",
       "\n",
       "    .dataframe tbody tr th {\n",
       "        vertical-align: top;\n",
       "    }\n",
       "\n",
       "    .dataframe thead th {\n",
       "        text-align: right;\n",
       "    }\n",
       "</style>\n",
       "<table border=\"1\" class=\"dataframe\">\n",
       "  <thead>\n",
       "    <tr style=\"text-align: right;\">\n",
       "      <th></th>\n",
       "      <th>int</th>\n",
       "    </tr>\n",
       "  </thead>\n",
       "  <tbody>\n",
       "    <tr>\n",
       "      <th>0</th>\n",
       "      <td>0.004673</td>\n",
       "    </tr>\n",
       "    <tr>\n",
       "      <th>1</th>\n",
       "      <td>0.300148</td>\n",
       "    </tr>\n",
       "    <tr>\n",
       "      <th>2</th>\n",
       "      <td>0.595624</td>\n",
       "    </tr>\n",
       "    <tr>\n",
       "      <th>3</th>\n",
       "      <td>0.891099</td>\n",
       "    </tr>\n",
       "    <tr>\n",
       "      <th>4</th>\n",
       "      <td>1.186574</td>\n",
       "    </tr>\n",
       "    <tr>\n",
       "      <th>5</th>\n",
       "      <td>1.482049</td>\n",
       "    </tr>\n",
       "    <tr>\n",
       "      <th>6</th>\n",
       "      <td>1.777525</td>\n",
       "    </tr>\n",
       "  </tbody>\n",
       "</table>\n",
       "</div>"
      ],
      "text/plain": [
       "        int\n",
       "0  0.004673\n",
       "1  0.300148\n",
       "2  0.595624\n",
       "3  0.891099\n",
       "4  1.186574\n",
       "5  1.482049\n",
       "6  1.777525"
      ]
     },
     "execution_count": 10,
     "metadata": {},
     "output_type": "execute_result"
    }
   ],
   "source": [
    "int_ = np.array(pd.DataFrame(data=f)[0])\n",
    "pd.DataFrame(data=int_, columns=['int'])"
   ]
  },
  {
   "cell_type": "code",
   "execution_count": 11,
   "metadata": {
    "colab": {
     "base_uri": "https://localhost:8080/",
     "height": 266
    },
    "colab_type": "code",
    "id": "jnjagGGsGKSA",
    "outputId": "2b66a158-2724-4e0d-fdc1-0c49bf0d6ace"
   },
   "outputs": [
    {
     "data": {
      "text/html": [
       "<div>\n",
       "<style scoped>\n",
       "    .dataframe tbody tr th:only-of-type {\n",
       "        vertical-align: middle;\n",
       "    }\n",
       "\n",
       "    .dataframe tbody tr th {\n",
       "        vertical-align: top;\n",
       "    }\n",
       "\n",
       "    .dataframe thead th {\n",
       "        text-align: right;\n",
       "    }\n",
       "</style>\n",
       "<table border=\"1\" class=\"dataframe\">\n",
       "  <thead>\n",
       "    <tr style=\"text-align: right;\">\n",
       "      <th></th>\n",
       "      <th>int1</th>\n",
       "    </tr>\n",
       "  </thead>\n",
       "  <tbody>\n",
       "    <tr>\n",
       "      <th>0</th>\n",
       "      <td>0.004673</td>\n",
       "    </tr>\n",
       "    <tr>\n",
       "      <th>1</th>\n",
       "      <td>0.300148</td>\n",
       "    </tr>\n",
       "    <tr>\n",
       "      <th>2</th>\n",
       "      <td>0.595624</td>\n",
       "    </tr>\n",
       "    <tr>\n",
       "      <th>3</th>\n",
       "      <td>0.891099</td>\n",
       "    </tr>\n",
       "    <tr>\n",
       "      <th>4</th>\n",
       "      <td>1.186574</td>\n",
       "    </tr>\n",
       "    <tr>\n",
       "      <th>5</th>\n",
       "      <td>1.482049</td>\n",
       "    </tr>\n",
       "    <tr>\n",
       "      <th>6</th>\n",
       "      <td>1.777525</td>\n",
       "    </tr>\n",
       "  </tbody>\n",
       "</table>\n",
       "</div>"
      ],
      "text/plain": [
       "       int1\n",
       "0  0.004673\n",
       "1  0.300148\n",
       "2  0.595624\n",
       "3  0.891099\n",
       "4  1.186574\n",
       "5  1.482049\n",
       "6  1.777525"
      ]
     },
     "execution_count": 11,
     "metadata": {},
     "output_type": "execute_result"
    }
   ],
   "source": [
    "int1 = int_\n",
    "pd.DataFrame(data=int1, columns=['int1'])"
   ]
  },
  {
   "cell_type": "markdown",
   "metadata": {
    "colab_type": "text",
    "id": "32IPOYKLPP4X"
   },
   "source": [
    "**3) По сгруппированным данным постройте гистограмму относительных частот**"
   ]
  },
  {
   "cell_type": "code",
   "execution_count": 12,
   "metadata": {
    "colab": {
     "base_uri": "https://localhost:8080/",
     "height": 542
    },
    "colab_type": "code",
    "id": "nW_PV12JManT",
    "outputId": "2a1568ee-8ba7-4187-de2d-ac20160dc98a"
   },
   "outputs": [
    {
     "data": {
      "image/png": "[encoded data removed]",
      "text/plain": [
       "<Figure size 864x608.451 with 1 Axes>"
      ]
     },
     "metadata": {
      "needs_background": "light"
     },
     "output_type": "display_data"
    }
   ],
   "source": [
    "import matplotlib.pyplot as plt\n",
    "\n",
    "def draw_hystogram(int1, f1):\n",
    "  x = int1\n",
    "  y = f1\n",
    "\n",
    "  fig, ax = plt.subplots()\n",
    "\n",
    "  # строю гистограмму\n",
    "  ax.bar(x, y, width=h, color='cyan', edgecolor='black', align='edge')\n",
    "\n",
    "  # соединяю середины столбцов гистограммы\n",
    "  ax.plot(x + h/2, y, c='red', label='соединенные середины столбцов гистограммы')\n",
    "\n",
    "  # строю аппроксимацию середин столбцов гистограммы\n",
    "  z = np.polyfit(x, y, 4)\n",
    "  p = np.poly1d(z)\n",
    "  ax.plot(x + h/2, p(x), c='blue', linestyle='--', label='их аппроксимация')\n",
    "\n",
    "  ax.set_ylabel('f1', fontsize=14)\n",
    "  ax.set_xlabel('int1', fontsize=14)\n",
    "  ax.set_title('Гистограмма относительных частот', fontsize=14)\n",
    "\n",
    "  fig.set_figwidth(12)\n",
    "  fig.set_figheight(12/ 1.42)\n",
    "\n",
    "  plt.legend(fontsize=12)\n",
    "  plt.show()\n",
    "\n",
    "draw_hystogram(int1, f1)"
   ]
  },
  {
   "cell_type": "markdown",
   "metadata": {
    "colab_type": "text",
    "id": "tDmquDsAP2Mq"
   },
   "source": [
    "**4) Вычислите выборочное среднее и выборочную дисперсию**"
   ]
  },
  {
   "cell_type": "code",
   "execution_count": 13,
   "metadata": {
    "colab": {
     "base_uri": "https://localhost:8080/",
     "height": 51
    },
    "colab_type": "code",
    "id": "dRTgNjaMP4XH",
    "outputId": "b548728f-49ff-48e3-81c9-5955cd0c425f"
   },
   "outputs": [
    {
     "name": "stdout",
     "output_type": "stream",
     "text": [
      "Выборочное среднее:  0.3404389416666667\n",
      "Выборочная дисперсия:  0.11536431156768566\n"
     ]
    }
   ],
   "source": [
    "print('Выборочное среднее: ', X.mean())\n",
    "print('Выборочная дисперсия: ', X.var(ddof=1))"
   ]
  },
  {
   "cell_type": "markdown",
   "metadata": {
    "colab_type": "text",
    "id": "F3I86gcIQz3q"
   },
   "source": [
    "**5) По виду гистограммы определите возможный закон распределения, оцените параметры этого закона по методу моментов, постройте совмещенные графики гистограммы и плотности предполагаемого закона**\n",
    "\n",
    "Рассмотрим показательное распределение"
   ]
  },
  {
   "cell_type": "code",
   "execution_count": 14,
   "metadata": {
    "colab": {
     "base_uri": "https://localhost:8080/",
     "height": 68
    },
    "colab_type": "code",
    "id": "V2B_tETPeJoD",
    "outputId": "f2185901-1bff-40f7-dc90-f37f9090b13f"
   },
   "outputs": [
    {
     "name": "stdout",
     "output_type": "stream",
     "text": [
      "Первый момент:  1/lambda\n",
      "Параметр лямбда:  1/m\n"
     ]
    }
   ],
   "source": [
    "from sympy import symbols, exp, integrate, simplify, solve, oo\n",
    "\n",
    "x_sym, m_sym, lamb_sym = symbols('x m lambda', positive=True)\n",
    "\n",
    "dens = lamb_sym * exp(-lamb_sym * x_sym)\n",
    "m_xi = integrate(x_sym * dens, (x_sym, 0, oo))\n",
    "print('Первый момент: ', m_xi)\n",
    "print('Параметр лямбда: ', solve(m_xi - m_sym, lamb_sym)[0])"
   ]
  },
  {
   "cell_type": "markdown",
   "metadata": {},
   "source": [
    "Оценка параметра:\n",
    "\n",
    "$xm$ - выборочное среднее, $M\\xi$ - первый момент\n",
    "$$M\\xi=\\int_{-\\infty}^\\infty xp_{\\xi}(x)dx = \\int_{0}^\\infty x\\lambda e^{-\\lambda x}dx = \\frac{1}{\\lambda}$$\n",
    "$$M\\xi = xm = 0.34 \\to \\lambda = \\frac{1}{xm} = 2.941$$"
   ]
  },
  {
   "cell_type": "code",
   "execution_count": 15,
   "metadata": {
    "colab": {
     "base_uri": "https://localhost:8080/",
     "height": 483
    },
    "colab_type": "code",
    "id": "ttJaO5cqj0uE",
    "outputId": "e823cf08-d227-4a90-ef99-5a3245a47899"
   },
   "outputs": [
    {
     "data": {
      "image/png": "[encoded data removed]",
      "text/plain": [
       "<Figure size 864x576 with 1 Axes>"
      ]
     },
     "metadata": {
      "needs_background": "light"
     },
     "output_type": "display_data"
    }
   ],
   "source": [
    "def exp_distribution(x, lamb):\n",
    "    return lamb * np.exp(-lamb * x)\n",
    "\n",
    "def draw_shedule(func, int_, lamb, int1, f1):\n",
    "  x = [i / 10 for i in range(1, 23)]\n",
    "  y = [func(arg, lamb) for arg in x]\n",
    "\n",
    "  plt.figure(figsize=(12,8))\n",
    "  plt.title('Совмещенные графики гистограммы и плотности предполагаемого закона', fontsize=16)\n",
    "  plt.plot(x, y, c = \"r\")\n",
    "  x = int1\n",
    "  y = f1\n",
    "  plt.bar(x, y, width=h, color='cyan', edgecolor='black', align='edge')\n",
    "\n",
    "  plt.show()\n",
    "\n",
    "lamb = 1 / X.mean()\n",
    "draw_shedule(exp_distribution, int_, lamb, int1, f1)"
   ]
  },
  {
   "cell_type": "markdown",
   "metadata": {
    "colab_type": "text",
    "id": "3tYMN4nJO0SD"
   },
   "source": [
    "По виду гистограммы заключаем, что распределение эмпирических частот похоже на показательный закон"
   ]
  },
  {
   "cell_type": "markdown",
   "metadata": {
    "colab_type": "text",
    "id": "VGDSQAIaPWdO"
   },
   "source": [
    "**6) Найдите эмпирическую функцию распределения и постройте совмещенные графики эмпирической и теоретической функций распределения**"
   ]
  },
  {
   "cell_type": "code",
   "execution_count": 16,
   "metadata": {
    "colab": {
     "base_uri": "https://localhost:8080/",
     "height": 297
    },
    "colab_type": "code",
    "id": "Jj2IRaIZPLu2",
    "outputId": "572522a0-e946-41cc-8ae5-e40d6ce81fe4"
   },
   "outputs": [
    {
     "data": {
      "text/html": [
       "<div>\n",
       "<style scoped>\n",
       "    .dataframe tbody tr th:only-of-type {\n",
       "        vertical-align: middle;\n",
       "    }\n",
       "\n",
       "    .dataframe tbody tr th {\n",
       "        vertical-align: top;\n",
       "    }\n",
       "\n",
       "    .dataframe thead th {\n",
       "        text-align: right;\n",
       "    }\n",
       "</style>\n",
       "<table border=\"1\" class=\"dataframe\">\n",
       "  <thead>\n",
       "    <tr style=\"text-align: right;\">\n",
       "      <th></th>\n",
       "      <th>kum</th>\n",
       "    </tr>\n",
       "  </thead>\n",
       "  <tbody>\n",
       "    <tr>\n",
       "      <th>0</th>\n",
       "      <td>0.000000</td>\n",
       "    </tr>\n",
       "    <tr>\n",
       "      <th>1</th>\n",
       "      <td>0.575000</td>\n",
       "    </tr>\n",
       "    <tr>\n",
       "      <th>2</th>\n",
       "      <td>0.850000</td>\n",
       "    </tr>\n",
       "    <tr>\n",
       "      <th>3</th>\n",
       "      <td>0.900000</td>\n",
       "    </tr>\n",
       "    <tr>\n",
       "      <th>4</th>\n",
       "      <td>0.975000</td>\n",
       "    </tr>\n",
       "    <tr>\n",
       "      <th>5</th>\n",
       "      <td>0.991667</td>\n",
       "    </tr>\n",
       "    <tr>\n",
       "      <th>6</th>\n",
       "      <td>0.991667</td>\n",
       "    </tr>\n",
       "    <tr>\n",
       "      <th>7</th>\n",
       "      <td>1.000000</td>\n",
       "    </tr>\n",
       "  </tbody>\n",
       "</table>\n",
       "</div>"
      ],
      "text/plain": [
       "        kum\n",
       "0  0.000000\n",
       "1  0.575000\n",
       "2  0.850000\n",
       "3  0.900000\n",
       "4  0.975000\n",
       "5  0.991667\n",
       "6  0.991667\n",
       "7  1.000000"
      ]
     },
     "execution_count": 16,
     "metadata": {},
     "output_type": "execute_result"
    }
   ],
   "source": [
    "kum = np.zeros((0, 1))\n",
    "kum = np.vstack((kum, [0,]))\n",
    "\n",
    "for i in range(1, len(p) + 1):\n",
    "  kum = np.vstack((kum, [kum[i - 1] + p[i - 1],]))\n",
    "pd.DataFrame(data=kum, columns=['kum'])"
   ]
  },
  {
   "cell_type": "code",
   "execution_count": 17,
   "metadata": {
    "colab": {
     "base_uri": "https://localhost:8080/",
     "height": 501
    },
    "colab_type": "code",
    "id": "pzCggd9IUb4y",
    "outputId": "3cd63358-8892-4912-dcad-4be66cf30f83"
   },
   "outputs": [
    {
     "data": {
      "image/png": "[encoded data removed]",
      "text/plain": [
       "<Figure size 1008x576 with 1 Axes>"
      ]
     },
     "metadata": {
      "needs_background": "light"
     },
     "output_type": "display_data"
    }
   ],
   "source": [
    "def exp_func(x, lamb):\n",
    "    return 1 - np.exp(-lamb * x)\n",
    "\n",
    "def draw_empyr_func(kum, int_, lamb):\n",
    "  int_1 = np.zeros((0, 1))\n",
    "  for i in range(0, len(int_)):\n",
    "    int_1 = np.vstack((int_1, [int_[i] + h/2,]))\n",
    "  int_1 = np.vstack((int_1, [X.max(),]))\n",
    "\n",
    "  plt.figure(figsize=(14,8))\n",
    "  plt.title('Совмещенные графики эмпирической и теоретической функций распределения', fontsize=16)\n",
    "  plt.grid()\n",
    "  \n",
    "  # рисую y = 1\n",
    "  plt.hlines(1, 0, X.max(), colors='blue', linestyle = 'solid', label='y=1')\n",
    "\n",
    "  # строю и рисую эмпирическую функцию распределения\n",
    "  for i in range(len(int_1) - 1):\n",
    "    if i == 0:\n",
    "      x = [0, int_1[i]]\n",
    "      y = 0\n",
    "      plt.hlines(y, x[0], x[1], colors='green', linestyle = '--', label='Эмпирическая ФР')\n",
    "\n",
    "    x = [int_1[i], int_1[i + 1]]\n",
    "    y = kum[i + 1]\n",
    "    plt.hlines(y, x[0], x[1], colors='green', linestyle = '--')\n",
    "    plt.vlines(x[0], kum[i], kum[i + 1], colors='green', linestyle = '--')\n",
    "  \n",
    "  # рисую теоретическую функцию распределения\n",
    "  x = [i / 100 for i in range(0, int(round(X.max(), 1) * 100))]\n",
    "  y = [exp_func(i / 100, lamb) for i in range(0, int(round(X.max(), 1) * 100))]\n",
    "  plt.plot(x, y, c = \"black\", linestyle='dotted', label='Теоретическая ФР')\n",
    "\n",
    "  plt.legend(loc='lower right', fontsize=12)\n",
    "  plt.show()\n",
    "draw_empyr_func(kum, int_, lamb)"
   ]
  },
  {
   "cell_type": "markdown",
   "metadata": {
    "colab_type": "text",
    "id": "w5psiz-Yl2pr"
   },
   "source": [
    "**Вывод**: Первоначальная обработка позволяет предварительно отнести выборку к показательному закону с параметром $\\lambda=2.941$."
   ]
  }
 ],
 "metadata": {
  "colab": {
   "collapsed_sections": [],
   "name": "mat-stat-1.ipynb",
   "provenance": [],
   "toc_visible": true
  },
  "kernelspec": {
   "display_name": "Python 3",
   "language": "python",
   "name": "python3"
  },
  "language_info": {
   "codemirror_mode": {
    "name": "ipython",
    "version": 3
   },
   "file_extension": ".py",
   "mimetype": "text/x-python",
   "name": "python",
   "nbconvert_exporter": "python",
   "pygments_lexer": "ipython3",
   "version": "3.7.3"
  }
 },
 "nbformat": 4,
 "nbformat_minor": 1
}
