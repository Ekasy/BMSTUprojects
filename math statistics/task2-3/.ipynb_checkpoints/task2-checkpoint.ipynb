{
 "cells": [
  {
   "cell_type": "markdown",
   "metadata": {},
   "source": [
    "**Задача 2.** *Моделирование и обработка выборки из дискретного закона распределения.*\n",
    "\n",
    "\n",
    "Задание:\n",
    "1. Для данного n смоделируйте выборку из биномиального закона распределения: $P(ξ=j)=p_j=C_k^j\\cdot p^j\\cdot (1-p)^{(k-j)},j=\\overline{0,k}.$\n",
    "2. Для полученной выборки постройте статистический ряд. Найдите эмпирическую функцию распределения $\\hat{F_n}(x)$. Постройте на одном рисунке графики $F(x)$ и $\\hat{F_n}(x)$. Вычислите статистику Колмогорова.\n",
    "3. Вычислите выборочное среднее и выборочную дисперсию и сравните с истинными значениями этих характеристик."
   ]
  },
  {
   "cell_type": "code",
   "execution_count": 1,
   "metadata": {},
   "outputs": [
    {
     "name": "stdout",
     "output_type": "stream",
     "text": [
      "Вариант 8\n",
      "Количество испытаний k:  15\n",
      "Вероятность успеха в одном испытании p:  0.8\n",
      "Объем выборки n:  180\n"
     ]
    }
   ],
   "source": [
    "print('Вариант 8')\n",
    "k = 15\n",
    "print('Количество испытаний k: ', k)\n",
    "p = 0.8\n",
    "print('Вероятность успеха в одном испытании p: ', p)\n",
    "n = 180\n",
    "print('Объем выборки n: ', n)"
   ]
  },
  {
   "cell_type": "code",
   "execution_count": 2,
   "metadata": {},
   "outputs": [],
   "source": [
    "import numpy as np\n",
    "import pandas as pd\n",
    "import matplotlib.pyplot as plt\n",
    "from math import factorial"
   ]
  },
  {
   "cell_type": "markdown",
   "metadata": {},
   "source": [
    "Сгенерирую биномиальный закон распределения для k = 15"
   ]
  },
  {
   "cell_type": "code",
   "execution_count": 3,
   "metadata": {},
   "outputs": [
    {
     "name": "stdout",
     "output_type": "stream",
     "text": [
      "Теоретические вероятности биномиального закона:\n",
      " [0.    0.    0.    0.    0.    0.    0.001 0.003 0.014 0.043 0.103 0.188\n",
      " 0.25  0.231 0.132 0.035]\n"
     ]
    }
   ],
   "source": [
    "def binomial(k, j, p):\n",
    "    return (factorial(k) / (factorial(j) * factorial(k - j))) * (p ** j) * ((1 - p) ** (k - j))\n",
    "\n",
    "probabilities = np.zeros((k + 1,), dtype=np.float64)\n",
    "for i in range(k + 1):\n",
    "    probabilities[i] = round(binomial(k, i, p), 3)\n",
    "print('Теоретические вероятности биномиального закона:\\n', probabilities)"
   ]
  },
  {
   "cell_type": "markdown",
   "metadata": {},
   "source": [
    "Смоделирую массив из данного закона распределения"
   ]
  },
  {
   "cell_type": "code",
   "execution_count": 4,
   "metadata": {
    "scrolled": false
   },
   "outputs": [
    {
     "name": "stdout",
     "output_type": "stream",
     "text": [
      "Массив данного закона распределения:\n",
      " [0.    0.    0.    0.    0.    0.    0.001 0.004 0.018 0.061 0.164 0.352\n",
      " 0.602 0.833 0.965 1.   ]\n"
     ]
    }
   ],
   "source": [
    "u = np.zeros((k + 1,))\n",
    "u[0] = probabilities[0]\n",
    "for i in range(0, k + 1):\n",
    "    u[i] = round(u[i - 1] + probabilities[i], 3)\n",
    "print('Массив данного закона распределения:\\n', u)"
   ]
  },
  {
   "cell_type": "markdown",
   "metadata": {},
   "source": [
    "Сгенерирую выборку случайных чисел из $[0, 1]$"
   ]
  },
  {
   "cell_type": "code",
   "execution_count": 5,
   "metadata": {},
   "outputs": [
    {
     "data": {
      "text/plain": [
       "array([0.92277529, 0.05786116, 0.48644255, 0.51006758, 0.87367905,\n",
       "       0.27278283, 0.016568  , 0.73207008, 0.89636353, 0.043636  ,\n",
       "       0.28070658, 0.73453979, 0.3987914 , 0.18018292, 0.61149231,\n",
       "       0.89361767, 0.05602126, 0.34476637, 0.15523371, 0.6173784 ,\n",
       "       0.22854472, 0.78332886, 0.60696615, 0.48671465, 0.58434853,\n",
       "       0.55701216, 0.87634697, 0.81312402, 0.06511386, 0.12614906,\n",
       "       0.77713752, 0.8097023 , 0.5831222 , 0.29504232, 0.25698545,\n",
       "       0.7948969 , 0.36510865, 0.07587161, 0.50318476, 0.26239069,\n",
       "       0.59638297, 0.75364113, 0.10132986, 0.12518888, 0.70927365,\n",
       "       0.9582507 , 0.23738004, 0.1085961 , 0.08415168, 0.29072715,\n",
       "       0.88075164, 0.62129583, 0.56658485, 0.30052814, 0.55215309,\n",
       "       0.80692641, 0.64041468, 0.15165258, 0.83075157, 0.81522982,\n",
       "       0.87063152, 0.29231683, 0.15001605, 0.91303443, 0.04729667,\n",
       "       0.11652997, 0.28065436, 0.9229492 , 0.92547974, 0.72657362,\n",
       "       0.0226724 , 0.8767784 , 0.10867439, 0.59031861, 0.02269521,\n",
       "       0.58489252, 0.07859328, 0.95321526, 0.25878953, 0.65343163,\n",
       "       0.13150731, 0.93467482, 0.34655074, 0.04236151, 0.53611884,\n",
       "       0.7151252 , 0.32562753, 0.47246076, 0.42109765, 0.50963825,\n",
       "       0.609953  , 0.80417032, 0.14816362, 0.35604615, 0.42416194,\n",
       "       0.73792775, 0.62304232, 0.86857423, 0.30815697, 0.93225834,\n",
       "       0.29484825, 0.74101516, 0.32196537, 0.89506373, 0.43973903,\n",
       "       0.9226389 , 0.75623274, 0.57956045, 0.7501212 , 0.23083696,\n",
       "       0.21959547, 0.67699527, 0.38699577, 0.93283078, 0.73980119,\n",
       "       0.323392  , 0.04853704, 0.97287238, 0.06531573, 0.59118518,\n",
       "       0.9879744 , 0.74210813, 0.73517271, 0.18857635, 0.65840592,\n",
       "       0.58427952, 0.15636743, 0.6107985 , 0.51920826, 0.60506725,\n",
       "       0.62452973, 0.49288421, 0.01302618, 0.03333174, 0.86384067,\n",
       "       0.96467199, 0.85599333, 0.15775446, 0.54052371, 0.15042566,\n",
       "       0.70042204, 0.38730745, 0.28343817, 0.53666751, 0.25144972,\n",
       "       0.10749174, 0.40238843, 0.09047137, 0.23736357, 0.45589898,\n",
       "       0.59527707, 0.92681412, 0.4248552 , 0.95685845, 0.87360963,\n",
       "       0.35085034, 0.70222316, 0.93058642, 0.25841712, 0.01551602,\n",
       "       0.08828727, 0.18178576, 0.56920094, 0.61037712, 0.43635615,\n",
       "       0.85783779, 0.93430581, 0.42791873, 0.21235927, 0.0326165 ,\n",
       "       0.24032717, 0.2378104 , 0.02134953, 0.66347632, 0.43624922,\n",
       "       0.30059427, 0.78008121, 0.00693929, 0.97498854, 0.2459092 ],\n",
       "      dtype=float64)"
      ]
     },
     "execution_count": 5,
     "metadata": {},
     "output_type": "execute_result"
    }
   ],
   "source": [
    "\"\"\"\n",
    "values = np.zeros((n,))\n",
    "for i in range(n):\n",
    "    values[i] = np.random.rand()\n",
    "#pd.DataFrame(values).to_csv('task2_ver2.csv', header=None, sep=' ', columns=[0])\n",
    "rand_numbers = values\n",
    "\"\"\"\n",
    "rand_numbers = np.array(pd.read_csv('task2_ver2.csv', header=None, sep=' ')[1], dtype=np.longdouble)\n",
    "rand_numbers"
   ]
  },
  {
   "cell_type": "code",
   "execution_count": 7,
   "metadata": {
    "scrolled": false
   },
   "outputs": [
    {
     "name": "stdout",
     "output_type": "stream",
     "text": [
      "Смоделированный массив из данного закона распределения:\n",
      " [14.  9. 12. 12. 14. 11.  8. 13. 14.  9. 11. 13. 12. 11. 13. 14.  9. 11.\n",
      " 10. 13. 11. 13. 13. 12. 12. 12. 14. 13. 10. 10. 13. 13. 12. 11. 11. 13.\n",
      " 12. 10. 12. 11. 12. 13. 10. 10. 13. 14. 11. 10. 10. 11. 14. 13. 12. 11.\n",
      " 12. 13. 13. 10. 13. 13. 14. 11. 10. 14.  9. 10. 11. 14. 14. 13.  9. 14.\n",
      " 10. 12.  9. 12. 10. 14. 11. 13. 10. 14. 11.  9. 12. 13. 11. 12. 12. 12.\n",
      " 13. 13. 10. 12. 12. 13. 13. 14. 11. 14. 11. 13. 11. 14. 12. 14. 13. 12.\n",
      " 13. 11. 11. 13. 12. 14. 13. 11.  9. 15. 10. 12. 15. 13. 13. 11. 13. 12.\n",
      " 10. 13. 12. 13. 13. 12.  8.  9. 14. 14. 14. 10. 12. 10. 13. 12. 11. 12.\n",
      " 11. 10. 12. 10. 11. 12. 12. 14. 12. 14. 14. 11. 13. 14. 11.  8. 10. 11.\n",
      " 12. 13. 12. 14. 14. 12. 11.  9. 11. 11.  9. 13. 12. 11. 13.  8. 15. 11.]\n"
     ]
    }
   ],
   "source": [
    "X = np.zeros((n,))\n",
    "\n",
    "for i in range(n):\n",
    "    for j in range(n):\n",
    "        if rand_numbers[i] < u[j]:\n",
    "            X[i] = j\n",
    "            break\n",
    "print('Смоделированный массив из данного закона распределения:\\n', X)\n",
    "#pd.DataFrame(X).to_csv('task4.csv', header=None, sep=' ', columns=[0])"
   ]
  },
  {
   "cell_type": "code",
   "execution_count": 19,
   "metadata": {},
   "outputs": [
    {
     "name": "stdout",
     "output_type": "stream",
     "text": [
      "Кумулятивный массив:\n",
      " [0.    0.    0.    0.    0.    0.    0.    0.    0.022 0.083 0.206 0.394\n",
      " 0.606 0.828 0.983 1.   ]\n"
     ]
    }
   ],
   "source": [
    "val = np.zeros((k + 1,))\n",
    "for i in range(n):\n",
    "    for j in range(k + 1):\n",
    "        if rand_numbers[i] < u[j]:\n",
    "            val[j] += 1\n",
    "            break\n",
    "cum = np.zeros((k + 1,))\n",
    "cum[0] = val[0]\n",
    "for i in range(1, k + 1):\n",
    "    cum[i] = cum[i - 1] + val[i]\n",
    "cum /= n\n",
    "cum = np.array([round(cum[i], 3) for i in range(len(cum))])\n",
    "print('Кумулятивный массив:\\n', cum)\n",
    "xlist = np.array([i for i in range(0, k+1)])"
   ]
  },
  {
   "cell_type": "markdown",
   "metadata": {},
   "source": [
    "Таблица вероятностей, эмпирических частот и относительных частот (полная таблица на печать не поместилась, поэтому разделил)"
   ]
  },
  {
   "cell_type": "code",
   "execution_count": 20,
   "metadata": {},
   "outputs": [
    {
     "data": {
      "text/html": [
       "<div>\n",
       "<style scoped>\n",
       "    .dataframe tbody tr th:only-of-type {\n",
       "        vertical-align: middle;\n",
       "    }\n",
       "\n",
       "    .dataframe tbody tr th {\n",
       "        vertical-align: top;\n",
       "    }\n",
       "\n",
       "    .dataframe thead th {\n",
       "        text-align: right;\n",
       "    }\n",
       "</style>\n",
       "<table border=\"1\" class=\"dataframe\">\n",
       "  <thead>\n",
       "    <tr style=\"text-align: right;\">\n",
       "      <th></th>\n",
       "      <th>0</th>\n",
       "      <th>1</th>\n",
       "      <th>2</th>\n",
       "      <th>3</th>\n",
       "      <th>4</th>\n",
       "      <th>5</th>\n",
       "      <th>6</th>\n",
       "      <th>7</th>\n",
       "      <th>8</th>\n",
       "    </tr>\n",
       "  </thead>\n",
       "  <tbody>\n",
       "    <tr>\n",
       "      <th>значения</th>\n",
       "      <td>0.0</td>\n",
       "      <td>1.0</td>\n",
       "      <td>2.0</td>\n",
       "      <td>3.0</td>\n",
       "      <td>4.0</td>\n",
       "      <td>5.0</td>\n",
       "      <td>6.000</td>\n",
       "      <td>7.000</td>\n",
       "      <td>8.000</td>\n",
       "    </tr>\n",
       "    <tr>\n",
       "      <th>вероятности</th>\n",
       "      <td>0.0</td>\n",
       "      <td>0.0</td>\n",
       "      <td>0.0</td>\n",
       "      <td>0.0</td>\n",
       "      <td>0.0</td>\n",
       "      <td>0.0</td>\n",
       "      <td>0.001</td>\n",
       "      <td>0.003</td>\n",
       "      <td>0.014</td>\n",
       "    </tr>\n",
       "    <tr>\n",
       "      <th>эмпирические частоты</th>\n",
       "      <td>0.0</td>\n",
       "      <td>0.0</td>\n",
       "      <td>0.0</td>\n",
       "      <td>0.0</td>\n",
       "      <td>0.0</td>\n",
       "      <td>0.0</td>\n",
       "      <td>0.000</td>\n",
       "      <td>0.000</td>\n",
       "      <td>4.000</td>\n",
       "    </tr>\n",
       "    <tr>\n",
       "      <th>относительные частоты</th>\n",
       "      <td>0.0</td>\n",
       "      <td>0.0</td>\n",
       "      <td>0.0</td>\n",
       "      <td>0.0</td>\n",
       "      <td>0.0</td>\n",
       "      <td>0.0</td>\n",
       "      <td>0.000</td>\n",
       "      <td>0.000</td>\n",
       "      <td>0.022</td>\n",
       "    </tr>\n",
       "  </tbody>\n",
       "</table>\n",
       "</div>"
      ],
      "text/plain": [
       "                         0    1    2    3    4    5      6      7      8\n",
       "значения               0.0  1.0  2.0  3.0  4.0  5.0  6.000  7.000  8.000\n",
       "вероятности            0.0  0.0  0.0  0.0  0.0  0.0  0.001  0.003  0.014\n",
       "эмпирические частоты   0.0  0.0  0.0  0.0  0.0  0.0  0.000  0.000  4.000\n",
       "относительные частоты  0.0  0.0  0.0  0.0  0.0  0.0  0.000  0.000  0.022"
      ]
     },
     "execution_count": 20,
     "metadata": {},
     "output_type": "execute_result"
    }
   ],
   "source": [
    "rel_freq = np.array([round(val[i] / n, 3) for i in range(k + 1)])\n",
    "table = pd.DataFrame([xlist, probabilities, val, rel_freq], \n",
    "                     index=['значения', 'вероятности', 'эмпирические частоты', 'относительные частоты'])\n",
    "table[[0, 1, 2, 3, 4, 5, 6, 7, 8]]"
   ]
  },
  {
   "cell_type": "code",
   "execution_count": 21,
   "metadata": {},
   "outputs": [
    {
     "data": {
      "text/html": [
       "<div>\n",
       "<style scoped>\n",
       "    .dataframe tbody tr th:only-of-type {\n",
       "        vertical-align: middle;\n",
       "    }\n",
       "\n",
       "    .dataframe tbody tr th {\n",
       "        vertical-align: top;\n",
       "    }\n",
       "\n",
       "    .dataframe thead th {\n",
       "        text-align: right;\n",
       "    }\n",
       "</style>\n",
       "<table border=\"1\" class=\"dataframe\">\n",
       "  <thead>\n",
       "    <tr style=\"text-align: right;\">\n",
       "      <th></th>\n",
       "      <th>9</th>\n",
       "      <th>10</th>\n",
       "      <th>11</th>\n",
       "      <th>12</th>\n",
       "      <th>13</th>\n",
       "      <th>14</th>\n",
       "      <th>15</th>\n",
       "    </tr>\n",
       "  </thead>\n",
       "  <tbody>\n",
       "    <tr>\n",
       "      <th>значения</th>\n",
       "      <td>9.000</td>\n",
       "      <td>10.000</td>\n",
       "      <td>11.000</td>\n",
       "      <td>12.000</td>\n",
       "      <td>13.000</td>\n",
       "      <td>14.000</td>\n",
       "      <td>15.000</td>\n",
       "    </tr>\n",
       "    <tr>\n",
       "      <th>вероятности</th>\n",
       "      <td>0.043</td>\n",
       "      <td>0.103</td>\n",
       "      <td>0.188</td>\n",
       "      <td>0.250</td>\n",
       "      <td>0.231</td>\n",
       "      <td>0.132</td>\n",
       "      <td>0.035</td>\n",
       "    </tr>\n",
       "    <tr>\n",
       "      <th>эмпирические частоты</th>\n",
       "      <td>11.000</td>\n",
       "      <td>22.000</td>\n",
       "      <td>34.000</td>\n",
       "      <td>38.000</td>\n",
       "      <td>40.000</td>\n",
       "      <td>28.000</td>\n",
       "      <td>3.000</td>\n",
       "    </tr>\n",
       "    <tr>\n",
       "      <th>относительные частоты</th>\n",
       "      <td>0.061</td>\n",
       "      <td>0.122</td>\n",
       "      <td>0.189</td>\n",
       "      <td>0.211</td>\n",
       "      <td>0.222</td>\n",
       "      <td>0.156</td>\n",
       "      <td>0.017</td>\n",
       "    </tr>\n",
       "  </tbody>\n",
       "</table>\n",
       "</div>"
      ],
      "text/plain": [
       "                           9       10      11      12      13      14      15\n",
       "значения                9.000  10.000  11.000  12.000  13.000  14.000  15.000\n",
       "вероятности             0.043   0.103   0.188   0.250   0.231   0.132   0.035\n",
       "эмпирические частоты   11.000  22.000  34.000  38.000  40.000  28.000   3.000\n",
       "относительные частоты   0.061   0.122   0.189   0.211   0.222   0.156   0.017"
      ]
     },
     "execution_count": 21,
     "metadata": {},
     "output_type": "execute_result"
    }
   ],
   "source": [
    "table[[9, 10, 11, 12, 13, 14, 15]]"
   ]
  },
  {
   "cell_type": "code",
   "execution_count": 22,
   "metadata": {},
   "outputs": [
    {
     "data": {
      "image/png": "[encoded data removed]",
      "text/plain": [
       "<Figure size 864x576 with 1 Axes>"
      ]
     },
     "metadata": {
      "needs_background": "light"
     },
     "output_type": "display_data"
    }
   ],
   "source": [
    "xlist = np.append(xlist, k+1)\n",
    "cum = np.insert(cum, 0, 0)\n",
    "u = np.insert(u, 0, 0)\n",
    "\n",
    "plt.figure(figsize=(12, 8))\n",
    "plt.step(xlist, cum, linestyle='solid', linewidth=2, color='dodgerblue', label='Эмпирическая функция распределения')\n",
    "plt.step(xlist, u, linestyle=':', linewidth=3, color='red', label='Теоретическая функция распределения')\n",
    "plt.xlabel('$x$')\n",
    "plt.title('Совмещенные графики эмпирической и теоретической функции распределения', fontdict={'fontsize':14})\n",
    "plt.legend(fontsize=12)\n",
    "plt.grid()\n",
    "plt.show()"
   ]
  },
  {
   "cell_type": "markdown",
   "metadata": {},
   "source": [
    "В 6 на самом деле есть скачок в 0.001, но масштаб не позволяет отобразить это в лучшем виде. Поэтому ниже нарисовал часть графика, позволяющего рассмотреть этот самый скачок"
   ]
  },
  {
   "cell_type": "code",
   "execution_count": 23,
   "metadata": {},
   "outputs": [
    {
     "data": {
      "image/png": "[encoded data removed]",
      "text/plain": [
       "<Figure size 648x432 with 1 Axes>"
      ]
     },
     "metadata": {
      "needs_background": "light"
     },
     "output_type": "display_data"
    }
   ],
   "source": [
    "fig = plt.figure(figsize=(9, 6))\n",
    "ax = fig.add_subplot(1, 1, 1)\n",
    "ax.step(xlist[0:11], cum[0:11], linestyle='--', linewidth=2, color='dodgerblue', label='Эмпирическая функция распределения')\n",
    "ax.step(xlist[0:11], u[0:11], linestyle='solid', linewidth=1, color='red', label='Теоретическая функция распределения')\n",
    "ax.grid(True, which='both')\n",
    "ax.set_ylim(0, 0.1)\n",
    "ax.set_xlim(0, 10)\n",
    "ax.legend()\n",
    "plt.show()"
   ]
  },
  {
   "cell_type": "code",
   "execution_count": 24,
   "metadata": {},
   "outputs": [
    {
     "name": "stdout",
     "output_type": "stream",
     "text": [
      "Выборочное среднее E[X] = 11.878\n",
      "Выборочная дисперсия D[X] = 2.577\n",
      "Теоретическое мат ожидание = 12.0\n",
      "Теоретическая дисперсия = 2.4\n",
      "Разница мат ожиданий: -0.122\n",
      "Разница дисперсий: 0.177\n",
      "Статистика колмогорова delta = 0.042\n"
     ]
    }
   ],
   "source": [
    "print('Выборочное среднее E[X] =', round(X.mean(), 3))\n",
    "print('Выборочная дисперсия D[X] =', round(X.var(ddof=1), 3))\n",
    "print('Теоретическое мат ожидание =', k*p)\n",
    "print('Теоретическая дисперсия =', round(k*p*(1-p), 3))\n",
    "print('Разница мат ожиданий:', round(X.mean() - k*p, 3))\n",
    "print('Разница дисперсий:', round(X.var(ddof=1) - k*p*(1-p), 3))\n",
    "print('Статистика колмогорова delta =', round(max(abs(cum - u)), 3))"
   ]
  },
  {
   "cell_type": "markdown",
   "metadata": {},
   "source": [
    "**Вывод**: Значения мат ожиданий и дисперсий близки, а с учетом того, что значение статистики Колмогорова < 0.05, можно говорить, что смоделированная нами выборка действительно подчиняется биномиальному закону"
   ]
  }
 ],
 "metadata": {
  "kernelspec": {
   "display_name": "Python 3",
   "language": "python",
   "name": "python3"
  },
  "language_info": {
   "codemirror_mode": {
    "name": "ipython",
    "version": 3
   },
   "file_extension": ".py",
   "mimetype": "text/x-python",
   "name": "python",
   "nbconvert_exporter": "python",
   "pygments_lexer": "ipython3",
   "version": "3.7.3"
  }
 },
 "nbformat": 4,
 "nbformat_minor": 4
}
