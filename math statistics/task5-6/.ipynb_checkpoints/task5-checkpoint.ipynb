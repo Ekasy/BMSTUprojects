{
 "cells": [
  {
   "cell_type": "markdown",
   "metadata": {},
   "source": [
    "**Задача 5.** *Проверка гипотез  о параметрах нормального распределения*\n",
    "\n",
    "Задание:\n",
    "\n",
    "По данной выборке из нормально  распределенной генеральной совокупности:\n",
    "1. постройте критерий $S_2$ уровня $\\alpha$ и проверьте гипотезу $H_0$: $a=a_0$  против  односторонней альтернативы  $H_2$, если $\\sigma$ неизвестно;\n",
    "2.  постройте  критерий $S_3$ уровня $\\alpha$ и проверьте гипотезу $H_{01}$: $\\sigma=\\sigma_0$  против  альтернативы $H_3$, если $a$ неизвестно;\n",
    "3. постройте оптимальный критерий $S_1$ уровня $\\alpha$ и проверьте $H_0$ против простой альтернативы $H_1:a=a_1$, если $\\sigma=\\sigma_1$ известно;\n",
    "4. найдите ошибку второго рода  $\\beta=P(\\overline{S_1}│H_1)$ критерия $S_1$;\n",
    "5. найдите такие значения $a_1$, для которых ошибка второго рода  критерия $S_1$ не превосходит $\\varepsilon$;\n",
    "6. постройте совмещенные графики гистограммы относительных частот данной выборки и плотностей нормального распределения с параметрами $(a_0, \\sigma_1)$ и $(a_1, \\sigma_1)$\n",
    "\n",
    "Сформулируйте выводы."
   ]
  },
  {
   "cell_type": "markdown",
   "metadata": {},
   "source": [
    "Вариант 8\n",
    "\n",
    "Дано:\n",
    "\n",
    "$\\alpha=0.05$, $a_0=-2$, $H_2: a<a_0$, $\\sigma_0=1.7$, $H_3: \\sigma>\\sigma_0$, $H_1:a=a_1=-2.5$, $\\sigma_1=1.75$, $\\varepsilon=0.1$, $n=80$"
   ]
  },
  {
   "cell_type": "code",
   "execution_count": 1,
   "metadata": {},
   "outputs": [],
   "source": [
    "alpha = 0.05\n",
    "a0 = -2\n",
    "sigma0 = 1.7\n",
    "a1 = -2.5\n",
    "sigma1 = 1.75\n",
    "epsilon = 0.1\n",
    "n = 80"
   ]
  },
  {
   "cell_type": "code",
   "execution_count": 2,
   "metadata": {},
   "outputs": [],
   "source": [
    "import numpy as np\n",
    "import pandas as pd\n",
    "import matplotlib.pyplot as plt\n",
    "from math import sqrt, log2, trunc\n",
    "from scipy.optimize import root_scalar\n",
    "import scipy.stats as stats"
   ]
  },
  {
   "cell_type": "markdown",
   "metadata": {},
   "source": [
    "Импортирую выборку и провожу первоначальную предобработку данных"
   ]
  },
  {
   "cell_type": "code",
   "execution_count": 3,
   "metadata": {},
   "outputs": [
    {
     "data": {
      "text/html": [
       "<div>\n",
       "<style scoped>\n",
       "    .dataframe tbody tr th:only-of-type {\n",
       "        vertical-align: middle;\n",
       "    }\n",
       "\n",
       "    .dataframe tbody tr th {\n",
       "        vertical-align: top;\n",
       "    }\n",
       "\n",
       "    .dataframe thead th {\n",
       "        text-align: right;\n",
       "    }\n",
       "</style>\n",
       "<table border=\"1\" class=\"dataframe\">\n",
       "  <thead>\n",
       "    <tr style=\"text-align: right;\">\n",
       "      <th></th>\n",
       "      <th>0</th>\n",
       "      <th>1</th>\n",
       "      <th>2</th>\n",
       "      <th>3</th>\n",
       "      <th>4</th>\n",
       "      <th>5</th>\n",
       "      <th>6</th>\n",
       "      <th>7</th>\n",
       "      <th>8</th>\n",
       "      <th>9</th>\n",
       "    </tr>\n",
       "  </thead>\n",
       "  <tbody>\n",
       "    <tr>\n",
       "      <th>0</th>\n",
       "      <td>-7.934</td>\n",
       "      <td>-4.058</td>\n",
       "      <td>-2.114</td>\n",
       "      <td>-3.192</td>\n",
       "      <td>-0.833</td>\n",
       "      <td>-4.188</td>\n",
       "      <td>-1.501</td>\n",
       "      <td>-3.423</td>\n",
       "      <td>-4.898</td>\n",
       "      <td>-4.386</td>\n",
       "    </tr>\n",
       "    <tr>\n",
       "      <th>1</th>\n",
       "      <td>1.593</td>\n",
       "      <td>-4.623</td>\n",
       "      <td>-6.764</td>\n",
       "      <td>-2.357</td>\n",
       "      <td>-2.036</td>\n",
       "      <td>-4.244</td>\n",
       "      <td>-2.723</td>\n",
       "      <td>-5.344</td>\n",
       "      <td>-1.090</td>\n",
       "      <td>-2.410</td>\n",
       "    </tr>\n",
       "    <tr>\n",
       "      <th>2</th>\n",
       "      <td>-0.421</td>\n",
       "      <td>0.569</td>\n",
       "      <td>-2.322</td>\n",
       "      <td>-2.671</td>\n",
       "      <td>-0.537</td>\n",
       "      <td>-1.112</td>\n",
       "      <td>2.407</td>\n",
       "      <td>-1.990</td>\n",
       "      <td>-3.624</td>\n",
       "      <td>-0.709</td>\n",
       "    </tr>\n",
       "    <tr>\n",
       "      <th>3</th>\n",
       "      <td>-3.069</td>\n",
       "      <td>-1.672</td>\n",
       "      <td>-6.772</td>\n",
       "      <td>-3.571</td>\n",
       "      <td>-2.100</td>\n",
       "      <td>-0.728</td>\n",
       "      <td>-2.568</td>\n",
       "      <td>-1.321</td>\n",
       "      <td>-2.690</td>\n",
       "      <td>-1.317</td>\n",
       "    </tr>\n",
       "    <tr>\n",
       "      <th>4</th>\n",
       "      <td>-2.048</td>\n",
       "      <td>-1.370</td>\n",
       "      <td>-2.172</td>\n",
       "      <td>-4.354</td>\n",
       "      <td>-2.840</td>\n",
       "      <td>-2.423</td>\n",
       "      <td>-1.277</td>\n",
       "      <td>-4.225</td>\n",
       "      <td>-2.537</td>\n",
       "      <td>-1.557</td>\n",
       "    </tr>\n",
       "    <tr>\n",
       "      <th>5</th>\n",
       "      <td>-4.385</td>\n",
       "      <td>-4.432</td>\n",
       "      <td>-1.593</td>\n",
       "      <td>-2.833</td>\n",
       "      <td>0.800</td>\n",
       "      <td>-4.341</td>\n",
       "      <td>-0.841</td>\n",
       "      <td>-4.071</td>\n",
       "      <td>-0.872</td>\n",
       "      <td>-4.323</td>\n",
       "    </tr>\n",
       "    <tr>\n",
       "      <th>6</th>\n",
       "      <td>-1.386</td>\n",
       "      <td>-3.551</td>\n",
       "      <td>-1.647</td>\n",
       "      <td>-1.441</td>\n",
       "      <td>-4.588</td>\n",
       "      <td>-0.749</td>\n",
       "      <td>-2.423</td>\n",
       "      <td>-2.835</td>\n",
       "      <td>0.449</td>\n",
       "      <td>-2.276</td>\n",
       "    </tr>\n",
       "    <tr>\n",
       "      <th>7</th>\n",
       "      <td>-2.628</td>\n",
       "      <td>-0.658</td>\n",
       "      <td>-2.699</td>\n",
       "      <td>1.314</td>\n",
       "      <td>-1.347</td>\n",
       "      <td>-4.041</td>\n",
       "      <td>-0.714</td>\n",
       "      <td>-2.496</td>\n",
       "      <td>-5.954</td>\n",
       "      <td>-2.171</td>\n",
       "    </tr>\n",
       "  </tbody>\n",
       "</table>\n",
       "</div>"
      ],
      "text/plain": [
       "       0      1      2      3      4      5      6      7      8      9\n",
       "0 -7.934 -4.058 -2.114 -3.192 -0.833 -4.188 -1.501 -3.423 -4.898 -4.386\n",
       "1  1.593 -4.623 -6.764 -2.357 -2.036 -4.244 -2.723 -5.344 -1.090 -2.410\n",
       "2 -0.421  0.569 -2.322 -2.671 -0.537 -1.112  2.407 -1.990 -3.624 -0.709\n",
       "3 -3.069 -1.672 -6.772 -3.571 -2.100 -0.728 -2.568 -1.321 -2.690 -1.317\n",
       "4 -2.048 -1.370 -2.172 -4.354 -2.840 -2.423 -1.277 -4.225 -2.537 -1.557\n",
       "5 -4.385 -4.432 -1.593 -2.833  0.800 -4.341 -0.841 -4.071 -0.872 -4.323\n",
       "6 -1.386 -3.551 -1.647 -1.441 -4.588 -0.749 -2.423 -2.835  0.449 -2.276\n",
       "7 -2.628 -0.658 -2.699  1.314 -1.347 -4.041 -0.714 -2.496 -5.954 -2.171"
      ]
     },
     "execution_count": 3,
     "metadata": {},
     "output_type": "execute_result"
    }
   ],
   "source": [
    "X = np.array(pd.read_csv('var8.csv', sep='\\t', header=None))\n",
    "pd.DataFrame(data=X)"
   ]
  },
  {
   "cell_type": "code",
   "execution_count": 4,
   "metadata": {},
   "outputs": [
    {
     "name": "stdout",
     "output_type": "stream",
     "text": [
      "Min: -7.934\n",
      "Max: 2.407\n",
      "Размах: 10.341000000000001\n",
      "Объем выборки: 80\n",
      "Количество интервалов: 7\n",
      "h: 1.4772857142857145\n"
     ]
    }
   ],
   "source": [
    "l = 1 + trunc(log2(X.shape[0] * X.shape[1]))\n",
    "h = (X.max() - X.min()) / l\n",
    "\n",
    "print('Min:', X.min())\n",
    "print('Max:', X.max())\n",
    "print('Размах:', X.max()-X.min())\n",
    "print('Объем выборки:', n)\n",
    "print('Количество интервалов:', l)\n",
    "print('h:', h)"
   ]
  },
  {
   "cell_type": "markdown",
   "metadata": {},
   "source": [
    "Сформирую необходимые массивы"
   ]
  },
  {
   "cell_type": "code",
   "execution_count": 5,
   "metadata": {},
   "outputs": [
    {
     "name": "stdout",
     "output_type": "stream",
     "text": [
      "Гистограмма эмпирических частот:\n",
      "[[-7.934  3.   ]\n",
      " [-6.457  2.   ]\n",
      " [-4.979 18.   ]\n",
      " [-3.502 26.   ]\n",
      " [-2.025 23.   ]\n",
      " [-0.548  5.   ]\n",
      " [ 0.93   3.   ]]\n",
      "\n",
      "Гистограмма относительных частот\n",
      "[0.038 0.025 0.225 0.325 0.288 0.062 0.038]\n",
      "\n",
      "Высоты столбцов:\n",
      "[0.025 0.017 0.152 0.22  0.195 0.042 0.025]\n"
     ]
    }
   ],
   "source": [
    "def count(data, beg, h):\n",
    "    c = 0\n",
    "    for i in range(data.shape[0]):\n",
    "        for j in range(data.shape[1]):\n",
    "            if data[i][j] < beg + h and data[i][j] >= beg:\n",
    "                c += 1\n",
    "    return c\n",
    "\n",
    "f = np.zeros((0, 2))\n",
    "step = X.min() \n",
    "while step < X.max():\n",
    "    val = count(X, step, h)\n",
    "  \n",
    "    f = np.vstack((f, [step, val]))\n",
    "    step += h\n",
    "\n",
    "print('Гистограмма эмпирических частот:')\n",
    "print(f.round(3))\n",
    "\n",
    "p = np.array(pd.DataFrame(data=f)[1]) / (X.shape[0] * X.shape[1])\n",
    "print('\\nГистограмма относительных частот')\n",
    "print(p.round(3))\n",
    "\n",
    "print('\\nВысоты столбцов:')\n",
    "f1 = p / h\n",
    "print(f1.round(3))\n",
    "int_ = np.array(pd.DataFrame(data=f)[0])"
   ]
  },
  {
   "cell_type": "code",
   "execution_count": 6,
   "metadata": {},
   "outputs": [
    {
     "name": "stdout",
     "output_type": "stream",
     "text": [
      "Выборочное среднее: -2.453\n",
      "Выборочная дисперсия: 3.526\n"
     ]
    }
   ],
   "source": [
    "print('Выборочное среднее:', round(X.mean(), 3))\n",
    "print('Выборочная дисперсия:', round(X.var(ddof=1), 3))"
   ]
  },
  {
   "cell_type": "markdown",
   "metadata": {},
   "source": [
    "Найдем критическое множество для среднего при альтернативе $H_2: a<a_0$ при неизвестной $\\sigma$\n",
    "\n",
    "$$X_1, X_2, ..., X_n \\sim N(a, \\sigma)$$\n",
    "$$\\frac{\\overline{x}-a}{S}\\sqrt{n} \\sim t(n-1)$$\n",
    "Построим критическое множество\n",
    "$$S_2=\\{ \\overline{x} < c_2 \\}$$\n",
    "Тогда\n",
    "$$\\alpha = P(\\overline{x} < c_2 | a=a_0) = P\\Bigr(\\frac{\\overline{x}-a}{S}\\sqrt{n} < \\frac{c_2-a}{S}\\sqrt{n}\\Bigl) = F_{t (n-1)}\\Bigr(\\frac{c_2-a_0}{S}\\sqrt{n}\\Bigl)$$\n",
    "$$\\frac{c_2-a_0}{S}\\sqrt{n}=-t_{1-\\alpha}(n-1)$$\n",
    "$$c_2=a_0-\\frac{t_{1-\\alpha}(n-1)S}{\\sqrt{n}}$$"
   ]
  },
  {
   "cell_type": "code",
   "execution_count": 7,
   "metadata": {},
   "outputs": [
    {
     "name": "stdout",
     "output_type": "stream",
     "text": [
      "c2 = -2.349\n"
     ]
    }
   ],
   "source": [
    "c2 = a0 - stats.t.ppf(1 - alpha, n - 1) / sqrt(n) * sqrt(X.var(ddof=1))\n",
    "print('c2 =', round(c2, 3))"
   ]
  },
  {
   "cell_type": "markdown",
   "metadata": {},
   "source": [
    "Вывод: гипотеза $H_0$ отвергается, так как $\\overline{x}=-2.453$ принадлежит критическому множесту"
   ]
  },
  {
   "cell_type": "markdown",
   "metadata": {},
   "source": [
    "Найдем критическое множество для средне квадратической ошибки при альтернативе $H_3: \\sigma>\\sigma_0$ при неизвестной $a$\n",
    "\n",
    "$$X_1, X_2, ..., X_n \\sim N(a, \\sigma)$$\n",
    "\n",
    "$$\\frac{(n-1)S^2}{\\sigma^2} \\sim \\chi^2(n-1)$$\n",
    "Построим критическое множество\n",
    "$$S_3=\\{ S^2 > c_3 \\}$$\n",
    "Тогда\n",
    "$$\\alpha = P(S^2 > c_3 | \\sigma=\\sigma_0) = P\\Bigr(\\frac{(n-1)S^2}{\\sigma^2} > \\frac{(n-1)c_{3}}{\\sigma^2}\\Bigl) = 1-Chi2_{n-1}\\Bigr(\\frac{(n-1)c_{3}}{\\sigma^2}\\Bigl)$$\n",
    "\n",
    "$$\\frac{(n-1)c_3}{\\sigma^2} \\sim \\chi^2_{1-\\alpha}(n-1)$$\n",
    "$$c_3=\\frac{\\sigma^2}{n-1}\\chi^2_{1-\\alpha}(n-1)$$"
   ]
  },
  {
   "cell_type": "code",
   "execution_count": 8,
   "metadata": {},
   "outputs": [
    {
     "name": "stdout",
     "output_type": "stream",
     "text": [
      "c3 = 3.686\n"
     ]
    }
   ],
   "source": [
    "c3 = sigma0**2 / (n - 1) * stats.chi2.ppf(0.95, n - 1)\n",
    "print('c3 =', round(c3, 3))"
   ]
  },
  {
   "cell_type": "markdown",
   "metadata": {},
   "source": [
    "Вывод: гипотеза $H_{01}$ принимается, так как $S^2=3.526$ не принадлежит критическому множесту"
   ]
  },
  {
   "cell_type": "markdown",
   "metadata": {},
   "source": [
    "Построим оптимальный критерий $S_1$ уровня $\\alpha$ и проверим $H_0$ против простой альтернативы $H_1:a=a_1$, если $\\sigma=\\sigma_1$ известно\n",
    "\n",
    "$$X_1, X_2, ..., X_n \\sim N(a, \\sigma_1)$$\n",
    "\n",
    "$$\\frac{\\overline{x}-a}{\\sigma_1} \\sqrt{n} \\sim N(0, 1)$$\n",
    "\n",
    "$$0.05=P(\\overline{x}<c_1 | a=a_0) = P\\Bigl(\\frac{\\overline{x}-a_0}{\\sigma_1} \\sqrt{n} < \\frac{c_1-a_0}{\\sigma_1} \\sqrt{n}\\Bigr) = Ф\\Bigl(\\frac{c_1-a_0}{\\sigma_1} \\sqrt{n}\\Bigr)$$\n",
    "\n",
    "$$\\frac{c_1-a_0}{\\sigma_1} \\sqrt{n} \\sim N(0, 1)$$\n",
    "$$c_1 = a_0 + \\frac{\\sigma_1 u_{0.05}}{\\sqrt{n}}$$"
   ]
  },
  {
   "cell_type": "code",
   "execution_count": 9,
   "metadata": {},
   "outputs": [
    {
     "name": "stdout",
     "output_type": "stream",
     "text": [
      "c1 = -2.322\n"
     ]
    }
   ],
   "source": [
    "c1 = a0 + sigma1 / sqrt(n) * stats.norm.ppf(0.05, loc=0, scale=1)\n",
    "print('c1 =', round(c1, 3))"
   ]
  },
  {
   "cell_type": "markdown",
   "metadata": {},
   "source": [
    "Вывод: гипотеза $H_0$ отвергается, так как $\\overline{x} = -2.453$ принадлежит критическому множеству"
   ]
  },
  {
   "cell_type": "markdown",
   "metadata": {},
   "source": [
    "Найдем ошибку второго рода критерия $S_1$\n",
    "\n",
    "$$\\beta = P(\\overline{x} \\geqslant c_1 | a=a_1) = P\\Bigl(\\frac{\\overline{x}-a_1}{\\sigma_1} \\sqrt{n} \\geqslant \\frac{c_1-a_1}{\\sigma_1} \\sqrt{n}\\Bigr) = 1 - Ф\\Bigl(\\frac{c_1-a_1}{\\sigma_1} \\sqrt{n}\\Bigr)$$"
   ]
  },
  {
   "cell_type": "code",
   "execution_count": 10,
   "metadata": {},
   "outputs": [
    {
     "name": "stdout",
     "output_type": "stream",
     "text": [
      "beta =  0.181\n"
     ]
    }
   ],
   "source": [
    "beta = 1 - stats.norm.cdf((c1 - a1) / sigma1 * sqrt(n), loc=0, scale=1)\n",
    "print('beta = ', round(beta, 3))"
   ]
  },
  {
   "cell_type": "markdown",
   "metadata": {},
   "source": [
    "Найдем такие значения $a_1$, для которых ошибка второго рода  критерия $S_1$ не превосходит $\\varepsilon = 0.1$\n",
    "\n",
    "$$\\varepsilon = 0.1 \\geqslant \\beta = P(\\overline{x} \\geqslant c_1 | a=a_1) = P\\Bigl(\\frac{\\overline{x}-a_1}{\\sigma_1} \\sqrt{n} \\geqslant \\frac{c_1-a_1}{\\sigma_1} \\sqrt{n}\\Bigr) = 1 - Ф\\Bigl(\\frac{c_1-a_1}{\\sigma_1} \\sqrt{n}\\Bigr)$$\n",
    "\n",
    "$$\\frac{c_1-a_1}{\\sigma_1} \\sqrt{n} \\geqslant u_{0.9}$$\n",
    "\n",
    "$$a_1 \\leqslant c_1 - \\frac{\\sigma_1}{\\sqrt{n}}u_{0.9}$$"
   ]
  },
  {
   "cell_type": "code",
   "execution_count": 11,
   "metadata": {},
   "outputs": [
    {
     "name": "stdout",
     "output_type": "stream",
     "text": [
      "a1 = -2.573\n"
     ]
    }
   ],
   "source": [
    "a_1 = c1 - sigma1 / sqrt(n) * stats.norm.ppf(q=1-epsilon, loc=0, scale=1)\n",
    "print('a1 =', round(a_1, 3))"
   ]
  },
  {
   "cell_type": "markdown",
   "metadata": {},
   "source": [
    "При $a_1 \\leqslant -2.573$ ошибка второго рода не превосходит 0.1"
   ]
  },
  {
   "cell_type": "markdown",
   "metadata": {},
   "source": [
    "Построим совмещенные графики гистограммы относительных частот данной выборки и плотностей нормального распределения с параметрами $(a_0, \\sigma_1)$ и $(a_1, \\sigma_1)$"
   ]
  },
  {
   "cell_type": "code",
   "execution_count": 12,
   "metadata": {},
   "outputs": [
    {
     "data": {
      "image/png": "[encoded data removed]",
      "text/plain": [
       "<Figure size 864x576 with 1 Axes>"
      ]
     },
     "metadata": {
      "needs_background": "light"
     },
     "output_type": "display_data"
    }
   ],
   "source": [
    "fig, ax = plt.subplots()\n",
    "    \n",
    "# строю гистограмму\n",
    "ax.bar(int_, f1, width=h, color='cyan', edgecolor='black', align='edge')\n",
    "\n",
    "# строю плотность нормального распределения с параметрами(a0, sigma1)\n",
    "xlist = np.linspace(X.min() - 1, X.max() + 1.5, 100)\n",
    "ylist = [stats.norm.pdf(i, a0, sigma1) for i in xlist]\n",
    "ax.plot(xlist, ylist, c='blue', linestyle='--', label='$N(a_0,\\sigma_1)$')\n",
    "\n",
    "# строю плотность нормального распределения с параметрами(a1, sigma1)\n",
    "xlist = np.linspace(X.min() - 1, X.max() + 1.5, 100)\n",
    "ylist = [stats.norm.pdf(i, a1, sigma1) for i in xlist]\n",
    "ax.plot(xlist, ylist, c='red', linestyle=':', label='$N(a_1,\\sigma_1)$', linewidth=3)\n",
    "\n",
    "ax.set_ylabel('f', fontsize=14)\n",
    "ax.set_xlabel('z', fontsize=14)\n",
    "ax.set_title('Гистограмма относительных частот', fontsize=14)\n",
    "   \n",
    "fig.set_figwidth(12)\n",
    "fig.set_figheight(8)\n",
    "    \n",
    "plt.legend(fontsize=12)\n",
    "plt.show()"
   ]
  },
  {
   "cell_type": "markdown",
   "metadata": {},
   "source": [
    "**Вывод**: исходя из построенного графика, можно определить, что $N(a_1,\\sigma_1)$ лучше ложится на гистограмму, нежели $N(a_0,\\sigma_1)$. Данный вывод согласуется с выводом, заключенным в пункте 3 - об отвержении основной гипотезы $H_0 : a=-2$ в пользу альтернативной гипотезы $H_1 : a=-2.5$."
   ]
  }
 ],
 "metadata": {
  "kernelspec": {
   "display_name": "Python 3",
   "language": "python",
   "name": "python3"
  },
  "language_info": {
   "codemirror_mode": {
    "name": "ipython",
    "version": 3
   },
   "file_extension": ".py",
   "mimetype": "text/x-python",
   "name": "python",
   "nbconvert_exporter": "python",
   "pygments_lexer": "ipython3",
   "version": "3.7.3"
  }
 },
 "nbformat": 4,
 "nbformat_minor": 4
}
