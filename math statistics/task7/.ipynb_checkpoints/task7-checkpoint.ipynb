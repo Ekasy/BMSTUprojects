{
 "cells": [
  {
   "cell_type": "markdown",
   "metadata": {},
   "source": [
    "**Задача 7**. *Критерий согласия для проверки простой непараметрической гипотезы*\n",
    "\n",
    "Постройте с помощью стохастического эксперимента на основе указанной метрики приближенный критерий для проверки основной гипотезы. Найдите критические значения $D_{кр}$ для трех уровней значимости $\\alpha=0.1,0.05$ и $0.01$.\n",
    "Протестируйте критерий на двух-трех примерах и сформулируйте выводы.\n",
    "\n",
    "Вариант 28:\n",
    "- Основная гипотеза: $A=0$ - выборка получена из распределения $R[0,1]$\n",
    "- Метрика: $D=3$ - $D(n,l)=\\frac{1}{n}\\sqrt{\\sum\\limits_{j}^l(\\nu_j-np_j)^2}$\n",
    "- Объем выборки: $100$"
   ]
  },
  {
   "cell_type": "code",
   "execution_count": 1,
   "metadata": {},
   "outputs": [],
   "source": [
    "import numpy as np\n",
    "import pandas as pd\n",
    "import matplotlib.pyplot as plt\n",
    "from scipy import stats\n",
    "from math import log2, trunc"
   ]
  },
  {
   "cell_type": "code",
   "execution_count": 2,
   "metadata": {},
   "outputs": [],
   "source": [
    "n = 100\n",
    "m = 25000 # выбрана самостоятельно\n",
    "\n",
    "def D_stat(n, l, hyst):\n",
    "    stat = 0\n",
    "    pj = 1 / l\n",
    "    for j in range(0, l):\n",
    "        stat += (hyst[j] - n*pj)**2\n",
    "    return np.sqrt(stat) / n"
   ]
  },
  {
   "cell_type": "markdown",
   "metadata": {},
   "source": [
    "Идея эксперимента состоит в следующем: сгенерируем m раз равномерную выборку и для каждой выборки применим заданную метрику. Получим статистику D, у которой можно вычислить квантили указанных выше уровней. После всех этих действий получим критерий, способный, для данного варианта, дигностировать равномерную выборку"
   ]
  },
  {
   "cell_type": "code",
   "execution_count": 3,
   "metadata": {},
   "outputs": [],
   "source": [
    "Dmas = []\n",
    "for k in range(m):\n",
    "    # генерирую случайную выборку из R[0, 1] размера n\n",
    "    X = np.random.uniform(0, 1, n)\n",
    "    \n",
    "    # определяю количество интервалов\n",
    "    l = 1 + trunc(log2(X.shape[0]))\n",
    "    \n",
    "    # создаю гистограмму\n",
    "    x = np.linspace(X.min(), X.max(), l + 1)\n",
    "    hist = np.histogram(X, bins=x)\n",
    "    \n",
    "    # определяю Dk статистику\n",
    "    Dmas.append(D_stat(n, l, hist[0]))"
   ]
  },
  {
   "cell_type": "markdown",
   "metadata": {},
   "source": [
    "Произведу первоначальную предобработку данных"
   ]
  },
  {
   "cell_type": "code",
   "execution_count": 4,
   "metadata": {},
   "outputs": [
    {
     "name": "stdout",
     "output_type": "stream",
     "text": [
      "Минимальный элемент: 0.012\n",
      "Максимальный элемент: 0.209\n",
      "Размах: 0.197\n",
      "Количество интервалов (l): 15\n",
      "Длина интервала (h): 0.0131\n"
     ]
    }
   ],
   "source": [
    "D = np.array(Dmas)\n",
    "l = 1 + trunc(log2(D.shape[0]))\n",
    "h = (D.max() - D.min()) / l\n",
    "\n",
    "print('Минимальный элемент:', round(D.min(), 3))\n",
    "print('Максимальный элемент:', round(D.max(), 3))\n",
    "print('Размах:', round(D.max() - D.min(), 3))\n",
    "print('Количество интервалов (l):', l)\n",
    "print('Длина интервала (h):', round(h, 4))"
   ]
  },
  {
   "cell_type": "code",
   "execution_count": 5,
   "metadata": {},
   "outputs": [
    {
     "name": "stdout",
     "output_type": "stream",
     "text": [
      "Массив эмпирических частот:\n",
      " [  47  288 1237 2873 4278 4947 4658 3109 2048  926  377  144   51   13\n",
      "    4]\n",
      "Массив относительных частот:\n",
      " [0.002 0.012 0.049 0.115 0.171 0.198 0.186 0.124 0.082 0.037 0.015 0.006\n",
      " 0.002 0.001 0.   ]\n",
      "Высоты столбцов гистограммы:\n",
      " [0.143, 0.876, 3.764, 8.742, 13.017, 15.052, 14.173, 9.46, 6.231, 2.818, 1.147, 0.438, 0.155, 0.04, 0.012]\n",
      "Интервалы столбцов гистограммы:\n",
      " [0.012 0.025 0.038 0.051 0.065 0.078 0.091 0.104 0.117 0.13  0.143 0.157\n",
      " 0.17  0.183 0.196 0.209]\n"
     ]
    }
   ],
   "source": [
    "x = np.linspace(D.min(), D.max(), l + 1)\n",
    "hist = np.histogram(D, bins=x)\n",
    "\n",
    "print('Массив эмпирических частот:\\n', hist[0])\n",
    "p = hist[0] / D.shape[0]\n",
    "print('Массив относительных частот:\\n', p.round(3))\n",
    "f1 = p / h\n",
    "print('Высоты столбцов гистограммы:\\n', [round(i, 3) for i in f1])\n",
    "print('Интервалы столбцов гистограммы:\\n', hist[1].round(3))"
   ]
  },
  {
   "cell_type": "code",
   "execution_count": 13,
   "metadata": {},
   "outputs": [
    {
     "data": {
      "image/png": "[encoded data removed]",
      "text/plain": [
       "<Figure size 864x576 with 1 Axes>"
      ]
     },
     "metadata": {
      "needs_background": "light"
     },
     "output_type": "display_data"
    }
   ],
   "source": [
    "fig, ax = plt.subplots()\n",
    "    \n",
    "# строю гистограмму\n",
    "ax.bar(hist[1][:-1], f1, width=h, color='cyan', edgecolor='black', align='edge')\n",
    "\n",
    "ax.set_title('Гистограмма', fontsize=14)\n",
    "\n",
    "fig.set_figwidth(12)\n",
    "fig.set_figheight(8)\n",
    "\n",
    "plt.show()"
   ]
  },
  {
   "cell_type": "markdown",
   "metadata": {},
   "source": [
    "Найду выборочные квантили. Для этого необходимо отсортировать полученную статистику D и взять его квантили уровней $\\alpha=0.1,0.05$ и $0.01$"
   ]
  },
  {
   "cell_type": "code",
   "execution_count": 7,
   "metadata": {},
   "outputs": [
    {
     "name": "stdout",
     "output_type": "stream",
     "text": [
      "Эмпирические квантили:\n",
      "уровня 0.9: 0.123\n",
      "уровня 0.95: 0.133\n",
      "уровня 0.99: 0.155\n"
     ]
    }
   ],
   "source": [
    "def get_quantile(D, alpha):\n",
    "    return round(np.sort(D)[int(np.ceil((1-alpha) * D.shape[0]))], 3)\n",
    "\n",
    "alphas = [0.1, 0.05, 0.01]\n",
    "print('Эмпирические квантили:')\n",
    "for alpha in alphas:\n",
    "    print('уровня {}: {}'.format(1 - alpha, get_quantile(D, alpha)))"
   ]
  },
  {
   "cell_type": "markdown",
   "metadata": {},
   "source": [
    "Выведу окрестности квантилей уровней 0.9, 0.95, 0.99"
   ]
  },
  {
   "cell_type": "code",
   "execution_count": 8,
   "metadata": {},
   "outputs": [
    {
     "name": "stdout",
     "output_type": "stream",
     "text": [
      "уровень доверия 0.9:\n",
      "D[22499]=0.123\n",
      "D[22500]=0.123\n",
      "D[22501]=0.123\n",
      "\n",
      "уровень доверия 0.95:\n",
      "D[23749]=0.133\n",
      "D[23750]=0.133\n",
      "D[23751]=0.133\n",
      "\n",
      "уровень доверия 0.99:\n",
      "D[24749]=0.155\n",
      "D[24750]=0.155\n",
      "D[24751]=0.155\n",
      "\n"
     ]
    }
   ],
   "source": [
    "for alpha in alphas:\n",
    "    print('уровень доверия {}:\\nD[{}]={}\\nD[{}]={}\\nD[{}]={}\\n'.\n",
    "          format(\n",
    "              1 - alpha, \n",
    "              int(np.ceil((1-alpha) * D.shape[0])) - 1, round(np.sort(D)[int(np.ceil((1-alpha) * D.shape[0])) - 1], 3),\n",
    "              int(np.ceil((1-alpha) * D.shape[0])), round(np.sort(D)[int(np.ceil((1-alpha) * D.shape[0])) - 1], 3),\n",
    "              int(np.ceil((1-alpha) * D.shape[0])) + 1, round(np.sort(D)[int(np.ceil((1-alpha) * D.shape[0])) + 1], 3)\n",
    "          ))"
   ]
  },
  {
   "cell_type": "markdown",
   "metadata": {},
   "source": [
    "по сортированной выборке получил, что при m=25000 экспериментах квантили перестали меняться"
   ]
  },
  {
   "cell_type": "code",
   "execution_count": 9,
   "metadata": {},
   "outputs": [],
   "source": [
    "# ФУНКЦИЯ ДЛЯ ТЕСТИРОВАНИЯ ПОСТРОЕННОГО КРИТЕРИЯ\n",
    "def getDstat(X):\n",
    "    # определяю количество интервалов\n",
    "    l = 1 + trunc(log2(X.shape[0]))\n",
    "    \n",
    "    # определяю ширину интервалов\n",
    "    h = (X.max() - X.min()) / l\n",
    "\n",
    "    # создаю гистограмму\n",
    "    x = np.linspace(X.min(), X.max(), l + 1)\n",
    "    hist = np.histogram(X, bins=x)\n",
    "\n",
    "    return round(D_stat(n, l, hist[0]), 3)"
   ]
  },
  {
   "cell_type": "markdown",
   "metadata": {},
   "source": [
    "Проверю свою гипотезу $A=0$ - выборка получена из распределения $R[0,1]$"
   ]
  },
  {
   "cell_type": "code",
   "execution_count": 10,
   "metadata": {},
   "outputs": [
    {
     "name": "stdout",
     "output_type": "stream",
     "text": [
      "Результат применения критерия: 0.077\n"
     ]
    }
   ],
   "source": [
    "X = np.random.uniform(0, 1, n)\n",
    "print('Результат применения критерия:', getDstat(X))"
   ]
  },
  {
   "cell_type": "markdown",
   "metadata": {},
   "source": [
    "0.077 < квантилей заданных уровней. Таким образом гипотеза принимается"
   ]
  },
  {
   "cell_type": "markdown",
   "metadata": {},
   "source": [
    "Тестирование критерия\n",
    "\n",
    "1) Выборка получена из корня равномерного распределения"
   ]
  },
  {
   "cell_type": "code",
   "execution_count": 11,
   "metadata": {},
   "outputs": [
    {
     "name": "stdout",
     "output_type": "stream",
     "text": [
      "Результат применения критерия: 0.197\n"
     ]
    }
   ],
   "source": [
    "X = np.sqrt(np.random.uniform(0, 1, n))\n",
    "print('Результат применения критерия:', getDstat(X))"
   ]
  },
  {
   "cell_type": "markdown",
   "metadata": {},
   "source": [
    "0.197 > квантилей заданных уровней. Таким образом гипотеза отвергается"
   ]
  },
  {
   "cell_type": "markdown",
   "metadata": {},
   "source": [
    "2) Выборка получена из бета-распределния с параметрами 2, 5"
   ]
  },
  {
   "cell_type": "code",
   "execution_count": 12,
   "metadata": {},
   "outputs": [
    {
     "name": "stdout",
     "output_type": "stream",
     "text": [
      "Результат применения критерия: 0.263\n"
     ]
    }
   ],
   "source": [
    "X = np.random.beta(2, 5, n)\n",
    "print('Результат применения критерия:', getDstat(X))"
   ]
  },
  {
   "cell_type": "markdown",
   "metadata": {},
   "source": [
    "0.263 > квантилей заданных уровней. Таким образом гипотеза отвергается"
   ]
  },
  {
   "cell_type": "markdown",
   "metadata": {},
   "source": [
    "**Вывод**: в результате данной работы успешно построен критерий, определяющий получена ли выборка из равномерного распределения. Проведено 3 теста, подтвердившие построенный критерий"
   ]
  }
 ],
 "metadata": {
  "kernelspec": {
   "display_name": "Python 3",
   "language": "python",
   "name": "python3"
  },
  "language_info": {
   "codemirror_mode": {
    "name": "ipython",
    "version": 3
   },
   "file_extension": ".py",
   "mimetype": "text/x-python",
   "name": "python",
   "nbconvert_exporter": "python",
   "pygments_lexer": "ipython3",
   "version": "3.7.3"
  }
 },
 "nbformat": 4,
 "nbformat_minor": 4
}
