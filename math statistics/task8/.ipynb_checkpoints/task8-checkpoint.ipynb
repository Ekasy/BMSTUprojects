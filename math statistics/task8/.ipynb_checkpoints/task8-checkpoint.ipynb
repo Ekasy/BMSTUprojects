{
 "cells": [
  {
   "cell_type": "markdown",
   "metadata": {},
   "source": [
    "**Задача 8**. *Применение критерия $\\chi^2$ Пирсона к проверке гипотезы о виде функции распределения*\n",
    "\n",
    "Задание:\n",
    "1) Используя группированную выборку из задачи №1 проверьте на уровне доверия $1-\\alpha$ гипотезу $H_0$: выборка взята из генеральной совокупности, распределенной по закону $F(x)$\n",
    "\n",
    "2) Неизвестные параметры распределения $F(x)$, если это необходимо, найдите методом максимального правдоподобия (или методом моментов) по выборке\n",
    "\n",
    "3) Постройте совмещенные графики гистограммы относительных частот и плотности, соответсвующей функции распределения $F(x)$"
   ]
  },
  {
   "cell_type": "markdown",
   "metadata": {},
   "source": [
    "Вариант 8\n",
    "\n",
    "Закон распределения: Показательный $E(\\lambda)$\n",
    "\n",
    "$\\alpha$: 0.05"
   ]
  },
  {
   "cell_type": "code",
   "execution_count": 1,
   "metadata": {},
   "outputs": [],
   "source": [
    "import numpy as np\n",
    "import pandas as pd\n",
    "import matplotlib.pyplot as plt\n",
    "from scipy import stats\n",
    "from math import log2, trunc"
   ]
  },
  {
   "cell_type": "code",
   "execution_count": 2,
   "metadata": {},
   "outputs": [
    {
     "data": {
      "text/html": [
       "<div>\n",
       "<style scoped>\n",
       "    .dataframe tbody tr th:only-of-type {\n",
       "        vertical-align: middle;\n",
       "    }\n",
       "\n",
       "    .dataframe tbody tr th {\n",
       "        vertical-align: top;\n",
       "    }\n",
       "\n",
       "    .dataframe thead th {\n",
       "        text-align: right;\n",
       "    }\n",
       "</style>\n",
       "<table border=\"1\" class=\"dataframe\">\n",
       "  <thead>\n",
       "    <tr style=\"text-align: right;\">\n",
       "      <th></th>\n",
       "      <th>0</th>\n",
       "      <th>1</th>\n",
       "      <th>2</th>\n",
       "      <th>3</th>\n",
       "      <th>4</th>\n",
       "      <th>5</th>\n",
       "      <th>6</th>\n",
       "      <th>7</th>\n",
       "      <th>8</th>\n",
       "      <th>9</th>\n",
       "    </tr>\n",
       "  </thead>\n",
       "  <tbody>\n",
       "    <tr>\n",
       "      <th>0</th>\n",
       "      <td>0.415</td>\n",
       "      <td>0.420</td>\n",
       "      <td>0.120</td>\n",
       "      <td>0.506</td>\n",
       "      <td>1.074</td>\n",
       "      <td>0.532</td>\n",
       "      <td>0.016</td>\n",
       "      <td>0.025</td>\n",
       "      <td>0.434000</td>\n",
       "      <td>0.387</td>\n",
       "    </tr>\n",
       "    <tr>\n",
       "      <th>1</th>\n",
       "      <td>0.448</td>\n",
       "      <td>0.263</td>\n",
       "      <td>0.069</td>\n",
       "      <td>1.107</td>\n",
       "      <td>1.052</td>\n",
       "      <td>0.246</td>\n",
       "      <td>0.443</td>\n",
       "      <td>0.234</td>\n",
       "      <td>0.064000</td>\n",
       "      <td>0.387</td>\n",
       "    </tr>\n",
       "    <tr>\n",
       "      <th>2</th>\n",
       "      <td>0.097</td>\n",
       "      <td>0.478</td>\n",
       "      <td>0.135</td>\n",
       "      <td>0.066</td>\n",
       "      <td>1.259</td>\n",
       "      <td>0.381</td>\n",
       "      <td>0.011</td>\n",
       "      <td>0.128</td>\n",
       "      <td>0.004673</td>\n",
       "      <td>0.088</td>\n",
       "    </tr>\n",
       "    <tr>\n",
       "      <th>3</th>\n",
       "      <td>0.142</td>\n",
       "      <td>1.029</td>\n",
       "      <td>0.204</td>\n",
       "      <td>0.279</td>\n",
       "      <td>0.107</td>\n",
       "      <td>0.187</td>\n",
       "      <td>0.056</td>\n",
       "      <td>0.560</td>\n",
       "      <td>0.512000</td>\n",
       "      <td>0.070</td>\n",
       "    </tr>\n",
       "    <tr>\n",
       "      <th>4</th>\n",
       "      <td>0.024</td>\n",
       "      <td>0.215</td>\n",
       "      <td>0.253</td>\n",
       "      <td>2.073</td>\n",
       "      <td>0.119</td>\n",
       "      <td>0.215</td>\n",
       "      <td>0.056</td>\n",
       "      <td>0.512</td>\n",
       "      <td>0.407000</td>\n",
       "      <td>0.550</td>\n",
       "    </tr>\n",
       "    <tr>\n",
       "      <th>5</th>\n",
       "      <td>0.085</td>\n",
       "      <td>0.043</td>\n",
       "      <td>0.055</td>\n",
       "      <td>0.595</td>\n",
       "      <td>0.565</td>\n",
       "      <td>0.128</td>\n",
       "      <td>0.171</td>\n",
       "      <td>0.065</td>\n",
       "      <td>0.391000</td>\n",
       "      <td>0.052</td>\n",
       "    </tr>\n",
       "    <tr>\n",
       "      <th>6</th>\n",
       "      <td>0.313</td>\n",
       "      <td>0.108</td>\n",
       "      <td>0.041</td>\n",
       "      <td>0.065</td>\n",
       "      <td>0.201</td>\n",
       "      <td>0.255</td>\n",
       "      <td>0.122</td>\n",
       "      <td>0.500</td>\n",
       "      <td>0.735000</td>\n",
       "      <td>0.036</td>\n",
       "    </tr>\n",
       "    <tr>\n",
       "      <th>7</th>\n",
       "      <td>0.228</td>\n",
       "      <td>0.380</td>\n",
       "      <td>0.255</td>\n",
       "      <td>0.117</td>\n",
       "      <td>0.319</td>\n",
       "      <td>0.086</td>\n",
       "      <td>0.362</td>\n",
       "      <td>0.328</td>\n",
       "      <td>0.330000</td>\n",
       "      <td>0.075</td>\n",
       "    </tr>\n",
       "    <tr>\n",
       "      <th>8</th>\n",
       "      <td>0.604</td>\n",
       "      <td>0.207</td>\n",
       "      <td>0.202</td>\n",
       "      <td>0.127</td>\n",
       "      <td>0.060</td>\n",
       "      <td>0.127</td>\n",
       "      <td>0.262</td>\n",
       "      <td>0.119</td>\n",
       "      <td>0.066000</td>\n",
       "      <td>0.464</td>\n",
       "    </tr>\n",
       "    <tr>\n",
       "      <th>9</th>\n",
       "      <td>0.025</td>\n",
       "      <td>0.323</td>\n",
       "      <td>0.137</td>\n",
       "      <td>0.831</td>\n",
       "      <td>0.460</td>\n",
       "      <td>0.606</td>\n",
       "      <td>0.054</td>\n",
       "      <td>0.417</td>\n",
       "      <td>0.101000</td>\n",
       "      <td>0.284</td>\n",
       "    </tr>\n",
       "    <tr>\n",
       "      <th>10</th>\n",
       "      <td>0.915</td>\n",
       "      <td>0.283</td>\n",
       "      <td>0.143</td>\n",
       "      <td>0.038</td>\n",
       "      <td>0.078</td>\n",
       "      <td>0.673</td>\n",
       "      <td>0.218</td>\n",
       "      <td>0.312</td>\n",
       "      <td>0.367000</td>\n",
       "      <td>1.008</td>\n",
       "    </tr>\n",
       "    <tr>\n",
       "      <th>11</th>\n",
       "      <td>0.067</td>\n",
       "      <td>1.118</td>\n",
       "      <td>0.603</td>\n",
       "      <td>0.563</td>\n",
       "      <td>1.246</td>\n",
       "      <td>0.108</td>\n",
       "      <td>0.124</td>\n",
       "      <td>0.156</td>\n",
       "      <td>0.951000</td>\n",
       "      <td>0.940</td>\n",
       "    </tr>\n",
       "  </tbody>\n",
       "</table>\n",
       "</div>"
      ],
      "text/plain": [
       "        0      1      2      3      4      5      6      7         8      9\n",
       "0   0.415  0.420  0.120  0.506  1.074  0.532  0.016  0.025  0.434000  0.387\n",
       "1   0.448  0.263  0.069  1.107  1.052  0.246  0.443  0.234  0.064000  0.387\n",
       "2   0.097  0.478  0.135  0.066  1.259  0.381  0.011  0.128  0.004673  0.088\n",
       "3   0.142  1.029  0.204  0.279  0.107  0.187  0.056  0.560  0.512000  0.070\n",
       "4   0.024  0.215  0.253  2.073  0.119  0.215  0.056  0.512  0.407000  0.550\n",
       "5   0.085  0.043  0.055  0.595  0.565  0.128  0.171  0.065  0.391000  0.052\n",
       "6   0.313  0.108  0.041  0.065  0.201  0.255  0.122  0.500  0.735000  0.036\n",
       "7   0.228  0.380  0.255  0.117  0.319  0.086  0.362  0.328  0.330000  0.075\n",
       "8   0.604  0.207  0.202  0.127  0.060  0.127  0.262  0.119  0.066000  0.464\n",
       "9   0.025  0.323  0.137  0.831  0.460  0.606  0.054  0.417  0.101000  0.284\n",
       "10  0.915  0.283  0.143  0.038  0.078  0.673  0.218  0.312  0.367000  1.008\n",
       "11  0.067  1.118  0.603  0.563  1.246  0.108  0.124  0.156  0.951000  0.940"
      ]
     },
     "execution_count": 2,
     "metadata": {},
     "output_type": "execute_result"
    }
   ],
   "source": [
    "data = pd.read_csv('var8.csv', sep=' ', header=None)\n",
    "data"
   ]
  },
  {
   "cell_type": "markdown",
   "metadata": {},
   "source": [
    "Произведу первоначальную предобработку данных"
   ]
  },
  {
   "cell_type": "code",
   "execution_count": 3,
   "metadata": {},
   "outputs": [
    {
     "name": "stdout",
     "output_type": "stream",
     "text": [
      "Объем выборки: 120\n",
      "Минимальный элемент: 0.005\n",
      "Максимальный элемент: 2.073\n",
      "Размах: 2.068\n",
      "Количество интервалов (l): 7\n",
      "Длина интервала (h): 0.2955\n"
     ]
    }
   ],
   "source": [
    "X = np.reshape(np.array(data), (data.shape[0]*data.shape[1]))\n",
    "l = 1 + trunc(log2(X.shape[0]))\n",
    "h = (X.max() - X.min()) / l\n",
    "\n",
    "print('Объем выборки:', X.shape[0])\n",
    "print('Минимальный элемент:', round(X.min(), 3))\n",
    "print('Максимальный элемент:', round(X.max(), 3))\n",
    "print('Размах:', round(X.max() - X.min(), 3))\n",
    "print('Количество интервалов (l):', l)\n",
    "print('Длина интервала (h):', round(h, 4))"
   ]
  },
  {
   "cell_type": "code",
   "execution_count": 4,
   "metadata": {},
   "outputs": [
    {
     "name": "stdout",
     "output_type": "stream",
     "text": [
      "Массив эмпирических частот:\n",
      " [69 33  6  9  2  0  1]\n",
      "Массив относительных частот:\n",
      " [0.575 0.275 0.05  0.075 0.017 0.    0.008]\n",
      "Высоты столбцов гистограммы:\n",
      " [1.946, 0.931, 0.169, 0.254, 0.056, 0.0, 0.028]\n",
      "Интервалы столбцов гистограммы:\n",
      " [0.005 0.3   0.596 0.891 1.187 1.482 1.778 2.073]\n"
     ]
    }
   ],
   "source": [
    "x = np.linspace(X.min(), X.max(), l + 1)\n",
    "hist = np.histogram(X, bins=x)\n",
    "\n",
    "print('Массив эмпирических частот:\\n', hist[0])\n",
    "p = hist[0] / X.shape[0]\n",
    "print('Массив относительных частот:\\n', p.round(3))\n",
    "f1 = p / h\n",
    "print('Высоты столбцов гистограммы:\\n', [round(i, 3) for i in f1])\n",
    "print('Интервалы столбцов гистограммы:\\n', hist[1].round(3))"
   ]
  },
  {
   "cell_type": "markdown",
   "metadata": {},
   "source": [
    "Методом максимального правдоподобия найду оценку неизвестного параметра $\\lambda$ показательного закона:\n",
    "$$L(\\lambda) = \\prod\\limits_{i = 1}^n f(x_i, \\lambda) = \\prod\\limits_{i = 1}^n \\lambda e^{-\\lambda x_i} = \\lambda^n e^{-\\lambda  \\sum\\limits_{i = 1}^n x_i}$$\n",
    "$$ln L(\\lambda) = ln \\lambda^n e^{-\\lambda  \\sum\\limits_{i = 1}^n x_i} = n\\cdot ln\\lambda -\\lambda \\sum\\limits_{i = 1}^n x_i$$\n",
    "$$\\frac{dln L}{d\\lambda} = n\\frac{1}{\\lambda} - \\sum\\limits_{i = 1}^n x_i = 0$$\n",
    "$$\\lambda = \\frac{n}{\\sum\\limits_{i = 1}^n x_i} = \\frac{1}{\\overline{X_в}}$$"
   ]
  },
  {
   "cell_type": "code",
   "execution_count": 5,
   "metadata": {},
   "outputs": [
    {
     "name": "stdout",
     "output_type": "stream",
     "text": [
      "Выборочное среднее: 0.34\n",
      "Оценка параметра: 2.937\n"
     ]
    }
   ],
   "source": [
    "print('Выборочное среднее:', round(X.mean(), 3))\n",
    "lambda_ = 1 / X.mean()\n",
    "print('Оценка параметра:', round(lambda_, 3))"
   ]
  },
  {
   "cell_type": "markdown",
   "metadata": {},
   "source": [
    "Построю совмещенные графики"
   ]
  },
  {
   "cell_type": "code",
   "execution_count": 6,
   "metadata": {
    "scrolled": false
   },
   "outputs": [
    {
     "data": {
      "image/png": "[encoded data removed]",
      "text/plain": [
       "<Figure size 1008x576 with 1 Axes>"
      ]
     },
     "metadata": {
      "needs_background": "light"
     },
     "output_type": "display_data"
    }
   ],
   "source": [
    "plt.figure(figsize=(14, 8))\n",
    "# строю гистограмму\n",
    "plt.bar(hist[1][:-1], f1, width=h, color='cyan', edgecolor='black', align='edge')\n",
    "\n",
    "# строю плотность распределения\n",
    "x = np.linspace(X.min(), X.max() + 0.1, 100)\n",
    "y = stats.expon.pdf(x, scale=1/lambda_)\n",
    "plt.plot(x, y, label=r'Плотность $E(\\lambda)$ закона при $\\lambda=2.937$')\n",
    "\n",
    "plt.legend(fontsize=12)\n",
    "plt.title(r'Совмещенные графики гистограммы относительных частот и плотности $E(\\lambda)$ закона')\n",
    "plt.grid()\n",
    "\n",
    "plt.show()"
   ]
  },
  {
   "cell_type": "markdown",
   "metadata": {},
   "source": [
    "Вычисление статистики $\\chi_в^2$"
   ]
  },
  {
   "cell_type": "code",
   "execution_count": 7,
   "metadata": {},
   "outputs": [
    {
     "name": "stdout",
     "output_type": "stream",
     "text": [
      "Массив pj:\n",
      " [0.586 0.24  0.101 0.042 0.018 0.007 0.005]\n",
      "Массив n*pj:\n",
      " [70.308 28.83  12.104  5.081  2.133  0.896  0.648]\n",
      "\n",
      "Проверка sum(pj) = 1.0\n",
      "Проверка sum(npj) = 120.0\n"
     ]
    }
   ],
   "source": [
    "def get_pj(l, intervals):\n",
    "    pj = np.zeros((l,))\n",
    "    \n",
    "    pj[0] = stats.expon.cdf(intervals[1], scale=1/lambda_)\n",
    "    for i in range(1, l - 1):\n",
    "        pj[i] = stats.expon.cdf(intervals[i + 1], scale=1/lambda_) - stats.expon.cdf(intervals[i], scale=1/lambda_)\n",
    "    pj[l - 1] = stats.expon.cdf(1000, scale=1/lambda_) - stats.expon.cdf(intervals[l - 1], scale=1/lambda_)\n",
    "    \n",
    "    return pj\n",
    "\n",
    "pj = get_pj(l, hist[1])\n",
    "npj = pj * X.shape[0]\n",
    "\n",
    "print('Массив pj:\\n', np.round(pj, 3))\n",
    "print('Массив n*pj:\\n', np.round(npj, 3))\n",
    "\n",
    "print('\\nПроверка sum(pj) =', np.round(pj.sum(), 0))\n",
    "print('Проверка sum(npj) =', np.round(npj.sum(), 0))"
   ]
  },
  {
   "cell_type": "markdown",
   "metadata": {},
   "source": [
    "Проверка на адекватность пройдена. Осталось вычислить сам критерий.\n",
    "\n",
    "Как видно по последним значениям массива npj: только сумма последних четырех элементов >= 5 => объединим их в один интервал"
   ]
  },
  {
   "cell_type": "code",
   "execution_count": 8,
   "metadata": {},
   "outputs": [
    {
     "name": "stdout",
     "output_type": "stream",
     "text": [
      "Объединенные эмпирические частоты:\n",
      " [69. 33.  6. 12.]\n",
      "Объединенные теоретические частоты:\n",
      " [70.308 28.83  12.104  8.758]\n"
     ]
    }
   ],
   "source": [
    "def union_intervals(cum, npj, k):\n",
    "    u_cum = np.zeros((cum.shape[0] - k + 1,))\n",
    "    u_npj = np.zeros((npj.shape[0] - k + 1,))\n",
    "    \n",
    "    for i in range(u_cum.shape[0] - 1):\n",
    "        u_cum[i] = cum[i]\n",
    "        u_npj[i] = npj[i]\n",
    "        \n",
    "    u_cum[-1] = cum[-k:cum.shape[0]].sum()\n",
    "    u_npj[-1] = npj[-k:npj.shape[0]].sum()\n",
    "    \n",
    "    return u_cum, u_npj\n",
    "\n",
    "u_cum, u_npj = union_intervals(hist[0], npj, 4)\n",
    "\n",
    "print('Объединенные эмпирические частоты:\\n', np.round(u_cum, 3))\n",
    "print('Объединенные теоретические частоты:\\n', np.round(u_npj, 3))"
   ]
  },
  {
   "cell_type": "code",
   "execution_count": 9,
   "metadata": {},
   "outputs": [
    {
     "name": "stdout",
     "output_type": "stream",
     "text": [
      "Значение выборочного критерия хи-квадрат: 4.905\n"
     ]
    }
   ],
   "source": [
    "chi2_sampling = 0.0\n",
    "for i in range(u_cum.shape[0]):\n",
    "    chi2_sampling += (u_npj[i] - u_cum[i]) ** 2 / u_npj[i]\n",
    "\n",
    "print('Значение выборочного критерия хи-квадрат:', round(chi2_sampling, 3))"
   ]
  },
  {
   "cell_type": "markdown",
   "metadata": {},
   "source": [
    "Вычислю квантиль с уровнем доверия $1-\\alpha=0.95$ и числом степеней свободы $m=(l-1) - 1 - 3$ (1 от оценки параметра, 3 от объединения 4 интервалов)"
   ]
  },
  {
   "cell_type": "code",
   "execution_count": 10,
   "metadata": {},
   "outputs": [
    {
     "name": "stdout",
     "output_type": "stream",
     "text": [
      "Значения квантиля хи-квадрат на уровне доверия 0.95 с 2 степенями свободы равно 5.991\n"
     ]
    }
   ],
   "source": [
    "alpha = 0.05\n",
    "m = (l-1) - 1 - 3\n",
    "chi2 = stats.chi2.ppf(1-alpha, m)\n",
    "print('Значения квантиля хи-квадрат на уровне доверия 0.95 с {} степенями свободы равно {}'.format(m, round(chi2, 3)))"
   ]
  },
  {
   "cell_type": "markdown",
   "metadata": {},
   "source": [
    "$\\chi_в^2=4.905<\\chi_{0.95}^2(2)=5.991$. Значит можно сформулировать следующий **вывод**: гипотеза $H_0$: выборка взята из генеральной совокупности, распределенной по закону $E(\\lambda)$ принимается на уровне доверия 0.95"
   ]
  },
  {
   "cell_type": "code",
   "execution_count": null,
   "metadata": {},
   "outputs": [],
   "source": []
  }
 ],
 "metadata": {
  "kernelspec": {
   "display_name": "Python 3",
   "language": "python",
   "name": "python3"
  },
  "language_info": {
   "codemirror_mode": {
    "name": "ipython",
    "version": 3
   },
   "file_extension": ".py",
   "mimetype": "text/x-python",
   "name": "python",
   "nbconvert_exporter": "python",
   "pygments_lexer": "ipython3",
   "version": "3.7.3"
  }
 },
 "nbformat": 4,
 "nbformat_minor": 4
}
