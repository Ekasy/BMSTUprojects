{
 "cells": [
  {
   "cell_type": "markdown",
   "metadata": {},
   "source": [
    "**Задача №6.** *Последовательный критерий отношения правдоподобия*\n",
    "\n",
    "В условиях задачи №5\n",
    "1. Постройте последовательный критерий Вальда для проверки гипотезы $H_0: a=a_0$  против альтернативы $H_1:a=a_1$ при известном $\\sigma=\\sigma_1$. Ошибка первого рода задана в условии, ошибка второго рода $\\beta$ вычислена вами в пункте 4.\n",
    "2. Примените построенный критерий к данной выборке (порядок чтения-по столбцам), сформулируйте результат. Дайте графическую иллюстрацию последовательного критерия.\n",
    "3. Вычислите математическое ожидание момента принятия решения при основной гипотезе $H_0$ и при альтернативе $H_1$.\n",
    "4. Перепишите критическое множество из пункта 3 в виде $\\Bigl(\\frac{L(\\overrightarrow{Х_n}, a_1)}{L(\\overrightarrow{Х_n}, a_0)} > C\\Bigr)$ и сравните результаты применения критериев Вальда и Неймана-Пирсона.\n"
   ]
  },
  {
   "cell_type": "markdown",
   "metadata": {},
   "source": [
    "Вариант 8\n",
    "\n",
    "Дано:\n",
    "\n",
    "$\\alpha=0.05$, $a_0=-2$, $H_2: a<a_0$, $\\sigma_0=1.7$, $H_3: \\sigma>\\sigma_0$, $H_1:a=a_1=-2.5$, $\\sigma_1=1.75$, $\\varepsilon=0.1$, $n=80$"
   ]
  },
  {
   "cell_type": "code",
   "execution_count": 1,
   "metadata": {},
   "outputs": [],
   "source": [
    "import numpy as np\n",
    "import pandas as pd\n",
    "import matplotlib.pyplot as plt\n",
    "from math import sqrt, log2, trunc, log\n",
    "import scipy.stats as stats"
   ]
  },
  {
   "cell_type": "code",
   "execution_count": 2,
   "metadata": {},
   "outputs": [],
   "source": [
    "alpha = 0.05\n",
    "beta = 0.181\n",
    "a0 = -2\n",
    "sigma0 = 1.7\n",
    "a1 = -2.5\n",
    "sigma1 = 1.75\n",
    "epsilon = 0.1\n",
    "n = 80"
   ]
  },
  {
   "cell_type": "markdown",
   "metadata": {},
   "source": [
    "Импортирую выборку и провожу первоначальную предобработку данных"
   ]
  },
  {
   "cell_type": "code",
   "execution_count": 3,
   "metadata": {},
   "outputs": [
    {
     "data": {
      "text/html": [
       "<div>\n",
       "<style scoped>\n",
       "    .dataframe tbody tr th:only-of-type {\n",
       "        vertical-align: middle;\n",
       "    }\n",
       "\n",
       "    .dataframe tbody tr th {\n",
       "        vertical-align: top;\n",
       "    }\n",
       "\n",
       "    .dataframe thead th {\n",
       "        text-align: right;\n",
       "    }\n",
       "</style>\n",
       "<table border=\"1\" class=\"dataframe\">\n",
       "  <thead>\n",
       "    <tr style=\"text-align: right;\">\n",
       "      <th></th>\n",
       "      <th>0</th>\n",
       "      <th>1</th>\n",
       "      <th>2</th>\n",
       "      <th>3</th>\n",
       "      <th>4</th>\n",
       "      <th>5</th>\n",
       "      <th>6</th>\n",
       "      <th>7</th>\n",
       "      <th>8</th>\n",
       "      <th>9</th>\n",
       "    </tr>\n",
       "  </thead>\n",
       "  <tbody>\n",
       "    <tr>\n",
       "      <th>0</th>\n",
       "      <td>-7.934</td>\n",
       "      <td>-4.058</td>\n",
       "      <td>-2.114</td>\n",
       "      <td>-3.192</td>\n",
       "      <td>-0.833</td>\n",
       "      <td>-4.188</td>\n",
       "      <td>-1.501</td>\n",
       "      <td>-3.423</td>\n",
       "      <td>-4.898</td>\n",
       "      <td>-4.386</td>\n",
       "    </tr>\n",
       "    <tr>\n",
       "      <th>1</th>\n",
       "      <td>1.593</td>\n",
       "      <td>-4.623</td>\n",
       "      <td>-6.764</td>\n",
       "      <td>-2.357</td>\n",
       "      <td>-2.036</td>\n",
       "      <td>-4.244</td>\n",
       "      <td>-2.723</td>\n",
       "      <td>-5.344</td>\n",
       "      <td>-1.090</td>\n",
       "      <td>-2.410</td>\n",
       "    </tr>\n",
       "    <tr>\n",
       "      <th>2</th>\n",
       "      <td>-0.421</td>\n",
       "      <td>0.569</td>\n",
       "      <td>-2.322</td>\n",
       "      <td>-2.671</td>\n",
       "      <td>-0.537</td>\n",
       "      <td>-1.112</td>\n",
       "      <td>2.407</td>\n",
       "      <td>-1.990</td>\n",
       "      <td>-3.624</td>\n",
       "      <td>-0.709</td>\n",
       "    </tr>\n",
       "    <tr>\n",
       "      <th>3</th>\n",
       "      <td>-3.069</td>\n",
       "      <td>-1.672</td>\n",
       "      <td>-6.772</td>\n",
       "      <td>-3.571</td>\n",
       "      <td>-2.100</td>\n",
       "      <td>-0.728</td>\n",
       "      <td>-2.568</td>\n",
       "      <td>-1.321</td>\n",
       "      <td>-2.690</td>\n",
       "      <td>-1.317</td>\n",
       "    </tr>\n",
       "    <tr>\n",
       "      <th>4</th>\n",
       "      <td>-2.048</td>\n",
       "      <td>-1.370</td>\n",
       "      <td>-2.172</td>\n",
       "      <td>-4.354</td>\n",
       "      <td>-2.840</td>\n",
       "      <td>-2.423</td>\n",
       "      <td>-1.277</td>\n",
       "      <td>-4.225</td>\n",
       "      <td>-2.537</td>\n",
       "      <td>-1.557</td>\n",
       "    </tr>\n",
       "    <tr>\n",
       "      <th>5</th>\n",
       "      <td>-4.385</td>\n",
       "      <td>-4.432</td>\n",
       "      <td>-1.593</td>\n",
       "      <td>-2.833</td>\n",
       "      <td>0.800</td>\n",
       "      <td>-4.341</td>\n",
       "      <td>-0.841</td>\n",
       "      <td>-4.071</td>\n",
       "      <td>-0.872</td>\n",
       "      <td>-4.323</td>\n",
       "    </tr>\n",
       "    <tr>\n",
       "      <th>6</th>\n",
       "      <td>-1.386</td>\n",
       "      <td>-3.551</td>\n",
       "      <td>-1.647</td>\n",
       "      <td>-1.441</td>\n",
       "      <td>-4.588</td>\n",
       "      <td>-0.749</td>\n",
       "      <td>-2.423</td>\n",
       "      <td>-2.835</td>\n",
       "      <td>0.449</td>\n",
       "      <td>-2.276</td>\n",
       "    </tr>\n",
       "    <tr>\n",
       "      <th>7</th>\n",
       "      <td>-2.628</td>\n",
       "      <td>-0.658</td>\n",
       "      <td>-2.699</td>\n",
       "      <td>1.314</td>\n",
       "      <td>-1.347</td>\n",
       "      <td>-4.041</td>\n",
       "      <td>-0.714</td>\n",
       "      <td>-2.496</td>\n",
       "      <td>-5.954</td>\n",
       "      <td>-2.171</td>\n",
       "    </tr>\n",
       "  </tbody>\n",
       "</table>\n",
       "</div>"
      ],
      "text/plain": [
       "       0      1      2      3      4      5      6      7      8      9\n",
       "0 -7.934 -4.058 -2.114 -3.192 -0.833 -4.188 -1.501 -3.423 -4.898 -4.386\n",
       "1  1.593 -4.623 -6.764 -2.357 -2.036 -4.244 -2.723 -5.344 -1.090 -2.410\n",
       "2 -0.421  0.569 -2.322 -2.671 -0.537 -1.112  2.407 -1.990 -3.624 -0.709\n",
       "3 -3.069 -1.672 -6.772 -3.571 -2.100 -0.728 -2.568 -1.321 -2.690 -1.317\n",
       "4 -2.048 -1.370 -2.172 -4.354 -2.840 -2.423 -1.277 -4.225 -2.537 -1.557\n",
       "5 -4.385 -4.432 -1.593 -2.833  0.800 -4.341 -0.841 -4.071 -0.872 -4.323\n",
       "6 -1.386 -3.551 -1.647 -1.441 -4.588 -0.749 -2.423 -2.835  0.449 -2.276\n",
       "7 -2.628 -0.658 -2.699  1.314 -1.347 -4.041 -0.714 -2.496 -5.954 -2.171"
      ]
     },
     "execution_count": 3,
     "metadata": {},
     "output_type": "execute_result"
    }
   ],
   "source": [
    "X = np.array(pd.read_csv('var8.csv', sep='\\t', header=None))\n",
    "pd.DataFrame(data=X)"
   ]
  },
  {
   "cell_type": "markdown",
   "metadata": {},
   "source": [
    "Преобразую матрицу к массиву, режим чтения матрицы - столбцами"
   ]
  },
  {
   "cell_type": "code",
   "execution_count": 4,
   "metadata": {},
   "outputs": [
    {
     "data": {
      "text/html": [
       "<div>\n",
       "<style scoped>\n",
       "    .dataframe tbody tr th:only-of-type {\n",
       "        vertical-align: middle;\n",
       "    }\n",
       "\n",
       "    .dataframe tbody tr th {\n",
       "        vertical-align: top;\n",
       "    }\n",
       "\n",
       "    .dataframe thead th {\n",
       "        text-align: right;\n",
       "    }\n",
       "</style>\n",
       "<table border=\"1\" class=\"dataframe\">\n",
       "  <thead>\n",
       "    <tr style=\"text-align: right;\">\n",
       "      <th></th>\n",
       "      <th>0</th>\n",
       "      <th>1</th>\n",
       "      <th>2</th>\n",
       "      <th>3</th>\n",
       "      <th>4</th>\n",
       "      <th>5</th>\n",
       "      <th>6</th>\n",
       "      <th>7</th>\n",
       "      <th>8</th>\n",
       "      <th>9</th>\n",
       "      <th>...</th>\n",
       "      <th>70</th>\n",
       "      <th>71</th>\n",
       "      <th>72</th>\n",
       "      <th>73</th>\n",
       "      <th>74</th>\n",
       "      <th>75</th>\n",
       "      <th>76</th>\n",
       "      <th>77</th>\n",
       "      <th>78</th>\n",
       "      <th>79</th>\n",
       "    </tr>\n",
       "  </thead>\n",
       "  <tbody>\n",
       "    <tr>\n",
       "      <th>0</th>\n",
       "      <td>-7.934</td>\n",
       "      <td>1.593</td>\n",
       "      <td>-0.421</td>\n",
       "      <td>-3.069</td>\n",
       "      <td>-2.048</td>\n",
       "      <td>-4.385</td>\n",
       "      <td>-1.386</td>\n",
       "      <td>-2.628</td>\n",
       "      <td>-4.058</td>\n",
       "      <td>-4.623</td>\n",
       "      <td>...</td>\n",
       "      <td>0.449</td>\n",
       "      <td>-5.954</td>\n",
       "      <td>-4.386</td>\n",
       "      <td>-2.41</td>\n",
       "      <td>-0.709</td>\n",
       "      <td>-1.317</td>\n",
       "      <td>-1.557</td>\n",
       "      <td>-4.323</td>\n",
       "      <td>-2.276</td>\n",
       "      <td>-2.171</td>\n",
       "    </tr>\n",
       "  </tbody>\n",
       "</table>\n",
       "<p>1 rows × 80 columns</p>\n",
       "</div>"
      ],
      "text/plain": [
       "      0      1      2      3      4      5      6      7      8      9   ...  \\\n",
       "0 -7.934  1.593 -0.421 -3.069 -2.048 -4.385 -1.386 -2.628 -4.058 -4.623  ...   \n",
       "\n",
       "      70     71     72    73     74     75     76     77     78     79  \n",
       "0  0.449 -5.954 -4.386 -2.41 -0.709 -1.317 -1.557 -4.323 -2.276 -2.171  \n",
       "\n",
       "[1 rows x 80 columns]"
      ]
     },
     "execution_count": 4,
     "metadata": {},
     "output_type": "execute_result"
    }
   ],
   "source": [
    "vec = X.reshape((80,), order='F')\n",
    "pd.DataFrame(data=vec).T"
   ]
  },
  {
   "cell_type": "code",
   "execution_count": 5,
   "metadata": {},
   "outputs": [
    {
     "name": "stdout",
     "output_type": "stream",
     "text": [
      "Выборочное среднее: -2.453\n",
      "Выборочная дисперсия: 3.526\n"
     ]
    }
   ],
   "source": [
    "print('Выборочное среднее:', round(X.mean(), 3))\n",
    "print('Выборочная дисперсия:', round(X.var(ddof=1), 3))"
   ]
  },
  {
   "cell_type": "markdown",
   "metadata": {},
   "source": [
    "Построим последовательный критерий Вальда для проверки гипотезы $H_0:𝑎=𝑎_0$ против альтернативы $H_1:𝑎=𝑎_0$ при известном  $\\sigma = \\sigma_1$ . Ошибка первого рода: $\\alpha = 0.05$, ошибка второго рода $\\beta = 0.181$."
   ]
  },
  {
   "cell_type": "markdown",
   "metadata": {},
   "source": [
    "Построим последовательный критерий Вальда:\n",
    "\n",
    "$$z(\\overrightarrow{Х_n}) = \\frac{L(\\overrightarrow{Х_n}, a_1)}{L(\\overrightarrow{Х_n}, a_0)} = \\prod\\limits_{k = 1}^n \\frac{\\frac{1}{\\sqrt{2\\pi}\\sigma_1} e^{-\\frac{(x_k-a_1)^2}{2\\sigma_1^2}}}{\\frac{1}{\\sqrt{2\\pi}\\sigma_1} e^{-\\frac{(x_k-a_0)^2}{2\\sigma_1^2}}} = \\prod\\limits_{k = 1}^n e^{-\\frac{(x_k-a_1)^2}{2\\sigma_1^2} + \\frac{(x_k-a_0)^2}{2\\sigma_1^2}} = \\prod\\limits_{k = 1}^n e^{-\\frac{1}{2\\sigma_1^2}(-2 x_k (a_1-a_0) + a_1^2 - a_0^2)}$$\n",
    "\n",
    "Условие выхода из критерия:\n",
    "$$\\nu = min\\Bigl\\{n; \\frac{L(\\overrightarrow{Х_n}, a_1)}{L(\\overrightarrow{Х_n}, a_0)} \\in (A; B)\\Bigr\\}$$\n",
    "\n",
    "Если $z_{\\nu}\\geqslant A \\Rightarrow H_1$ - склоняемся к альтернативной гипотезе, $z_{\\nu}\\leqslant B \\Rightarrow H_0$ - склоняемся к основной гипотезе\n",
    "\n",
    "Константы $A$ и $B$ находим из условий:\n",
    "$$\\alpha=P(z_\\nu \\geqslant A | H_0)$$\n",
    "$$\\beta=P(z_\\nu \\leqslant B | H_1)$$\n",
    "Тогда\n",
    "$$A = \\frac{1-\\beta}{\\alpha},B = \\frac{\\beta}{1-\\alpha}$$"
   ]
  },
  {
   "cell_type": "code",
   "execution_count": 6,
   "metadata": {},
   "outputs": [
    {
     "name": "stdout",
     "output_type": "stream",
     "text": [
      "A = 16.38\n",
      "B = 0.191\n"
     ]
    }
   ],
   "source": [
    "def wald_test(vec, j, a1, a0, sigma1):\n",
    "    wald = lambda x, a0, a1, sigma: np.exp(- (1/(2*sigma**2))*(-2*x*(a1-a0)+a1**2-a0**2))\n",
    "    return np.prod(np.array([wald(vec[i], a0, a1, sigma1) for i in range(j)]))\n",
    "\n",
    "A = (1 - beta) / alpha\n",
    "B = beta / (1 - alpha)\n",
    "print('A = {}\\nB = {}'.format(round(A, 3), round(B, 3)))"
   ]
  },
  {
   "cell_type": "markdown",
   "metadata": {},
   "source": [
    "Применим построенный критерий к данной выборке"
   ]
  },
  {
   "cell_type": "code",
   "execution_count": 7,
   "metadata": {},
   "outputs": [],
   "source": [
    "xlist = np.linspace(1, 80, 80)\n",
    "ylist = np.array([wald_test(vec, i, a1, a0, sigma1) for i in range(0, n)])"
   ]
  },
  {
   "cell_type": "code",
   "execution_count": 8,
   "metadata": {},
   "outputs": [
    {
     "data": {
      "image/png": "[encoded data removed]",
      "text/plain": [
       "<Figure size 864x576 with 1 Axes>"
      ]
     },
     "metadata": {
      "needs_background": "light"
     },
     "output_type": "display_data"
    }
   ],
   "source": [
    "plt.figure(figsize=(12, 8))\n",
    "\n",
    "plt.plot(xlist, ylist, label=r'$z(\\overrightarrow{Х_n})$')\n",
    "plt.plot(xlist, [A for i in xlist], linestyle='--', label=r'$A$')\n",
    "plt.plot(xlist, [B for i in xlist], linestyle='--', label=r'$B$')\n",
    "\n",
    "plt.xlabel(r'$j$')\n",
    "plt.legend()\n",
    "plt.grid()\n",
    "plt.show()"
   ]
  },
  {
   "cell_type": "markdown",
   "metadata": {},
   "source": [
    "Вывод: применение последовательного критерия Вальда к данной выборке дало график, наглядно иллюстрирующий и подтверждающий вывод **Задачи №5** о склонении к альтернативной гипотезе, так как на отрезке $j \\in [30; 31]$ наблюдается первое пересечение с прямой $A=16.38$"
   ]
  },
  {
   "cell_type": "markdown",
   "metadata": {},
   "source": [
    "Вычислите математическое ожидание момента принятия решения при основной гипотезе $H_0$ и при альтернативе $H_1$"
   ]
  },
  {
   "cell_type": "markdown",
   "metadata": {},
   "source": [
    "Рассмотрим статистику для следующего набора: $(\\nu, X_1, ... X_n)$\n",
    "$$lnZ(\\overrightarrow{X_Y})=\\sum_{k = 1}^{\\nu} Y_k$$\n",
    "$$Y_k = ln \\frac{P(X_k, \\theta_1)}{P(X_k, \\theta_0)}$$\n",
    "$$M_{\\theta_i} lnZ(\\overrightarrow{X_{\\nu}}) = M_{\\theta_i \\nu} M_{\\theta_i Y_k}$$\n",
    "$$M_{\\theta_i \\nu} = \\frac{M_{\\theta_i} lnZ(\\overrightarrow{X_{\\nu}})}{M_{\\theta_i Y_k}}$$\n",
    " $-$ получили формулу для математического ожидания принятия решения\n",
    "\n",
    "Определим формулы при принятии основной гипотезы и альтернативы\n",
    "<table>\n",
    "    <tr>\n",
    "        <td>\n",
    "            $ln Z(\\overrightarrow{X_{j}})$\n",
    "        </td>\n",
    "        <td>\n",
    "            $ln A$\n",
    "        </td>\n",
    "        <td>\n",
    "            $ln B$\n",
    "        </td>\n",
    "    </tr>\n",
    "    <tr>\n",
    "        <td>\n",
    "            $H_0$\n",
    "        </td>\n",
    "        <td>\n",
    "            $\\alpha$\n",
    "        </td>\n",
    "        <td>\n",
    "            $1 - \\alpha$\n",
    "        </td>\n",
    "    </tr>\n",
    "    <tr>\n",
    "        <td>\n",
    "            $H_1$\n",
    "        </td>\n",
    "        <td>\n",
    "            $1 - \\beta$\n",
    "        </td>\n",
    "        <td>\n",
    "            $\\beta$\n",
    "        </td>\n",
    "    </tr>\n",
    "</table>\n",
    "\n",
    "Откуда\n",
    "$$M_{\\theta_0 \\nu} = \\frac{\\alpha ln A + (1 - \\alpha) ln B}{M_{\\theta_0 Y_k}}$$\n",
    "$$M_{\\theta_1 \\nu} = \\frac{(1 - \\beta) ln A + \\beta ln B}{M_{\\theta_1 Y_k}}$$\n",
    "\n",
    "Осталось определить мат ожидания логарифма отношения правдоподобия при $a_0$ и $a_1$\n",
    "$$Y_k = ln \\frac{P(X_k, a_1)}{P(X_k, a_0)} = ln \\frac{\\frac{1}{\\sqrt{2\\pi}\\sigma_1} e^{-\\frac{(x_k-a_1)^2}{2\\sigma_1^2}}}{\\frac{1}{\\sqrt{2\\pi}\\sigma_1} e^{-\\frac{(x_k-a_0)^2}{2\\sigma_1^2}}} = -\\frac{(x_k-a_1)^2}{2\\sigma_1^2} + \\frac{(x_k-a_0)^2}{2\\sigma_1^2} = \\frac{x_k}{\\sigma_1^2} (a_1- a_0) + \\frac{a_0^2-a_1^2}{2\\sigma_1^2}$$\n",
    "\n",
    "Тогда\n",
    "$$M_{\\theta_0Y_k} = \\frac{a_0}{\\sigma_1^2} (a_1- a_0) + \\frac{a_0^2-a_1^2}{2\\sigma_1^2} = -\\frac{(a_1-a_0)^2}{2\\sigma_1^2}$$\n",
    "$$M_{\\theta_1Y_k} = \\frac{a_1}{\\sigma_1^2} (a_1- a_0) + \\frac{a_0^2-a_1^2}{2\\sigma_1^2} = \\frac{(a_1-a_0)^2}{2\\sigma_1^2}$$"
   ]
  },
  {
   "cell_type": "code",
   "execution_count": 9,
   "metadata": {},
   "outputs": [
    {
     "name": "stdout",
     "output_type": "stream",
     "text": [
      "Математические ожидания логарифма отношения правдоподобия a0 и a1:\n",
      "M_0Y = -0.0714\n",
      "M_1Y = 0.0714\n"
     ]
    }
   ],
   "source": [
    "MY0 = - ((a1-a0)**2) / (2*sigma1)\n",
    "MY1 = ((a1-a0)**2) / (2*sigma1)\n",
    "print('Математические ожидания логарифма отношения правдоподобия a0 и a1:\\nM_0Y = {}\\nM_1Y = {}'\n",
    "      .format(round(MY0, 4), round(MY1, 4)))"
   ]
  },
  {
   "cell_type": "code",
   "execution_count": 10,
   "metadata": {},
   "outputs": [
    {
     "name": "stdout",
     "output_type": "stream",
     "text": [
      "Математическое ожидание момента принятия решения при основной гипотезе и при альтернативе\n",
      "M_0nu = 20.094\n",
      "M_1nu = 27.858\n"
     ]
    }
   ],
   "source": [
    "Mnu0 = (alpha * log(A) + (1 - alpha) * log(B)) / MY0\n",
    "Mnu1 = ((1 - beta) * log(A) + beta * log(B)) / MY1\n",
    "print('Математическое ожидание момента принятия решения при основной гипотезе и при альтернативе\\nM_0nu = {}\\nM_1nu = {}'\n",
    "      .format(round(Mnu0, 3), round(Mnu1, 3)))"
   ]
  },
  {
   "cell_type": "markdown",
   "metadata": {},
   "source": [
    "Запишу критическое множество из пункта 3 в виде $\\Bigl(\\frac{L(\\overrightarrow{Х_n}, a_1)}{L(\\overrightarrow{Х_n}, a_0)} > C\\Bigr)$:\n",
    "\n",
    "$$\\frac{L(\\overrightarrow{Х_n}, a_1)}{L(\\overrightarrow{Х_n}, a_0)} = \\prod\\limits_{k = 1}^n \\frac{\\frac{1}{\\sqrt{2\\pi}\\sigma_1} e^{-\\frac{(x_k-a_1)^2}{2\\sigma_1^2}}}{\\frac{1}{\\sqrt{2\\pi}\\sigma_1} e^{-\\frac{(x_k-a_0)^2}{2\\sigma_1^2}}} = \\prod\\limits_{k = 1}^n e^{-\\frac{(x_k-a_1)^2}{2\\sigma_1^2} + \\frac{(x_k-a_0)^2}{2\\sigma_1^2}} = \\prod\\limits_{k = 1}^n e^{-\\frac{1}{2\\sigma_1^2}(-2 x_k (a_1-a_0) + a_1^2 - a_0^2)} > C$$\n",
    "$$ln \\frac{L(\\overrightarrow{Х_n}, a_1)}{L(\\overrightarrow{Х_n}, a_0)} = \\frac{\\sum\\limits_{k=1}^n x_k}{\\sigma_1^2} (a_1- a_0) + n\\frac{a_0^2-a_1^2}{2\\sigma_1^2} > lnC$$\n",
    "\n",
    "$$\\sum\\limits_{k=1}^n x_k < \\frac{\\sigma_1^2}{a_1-a_0} \\Bigl(lnC + \\frac{a_1^2-a_0^2}{2\\sigma_1^2} \\Bigr)$$"
   ]
  },
  {
   "cell_type": "markdown",
   "metadata": {},
   "source": [
    "Запишем критическое множество S:\n",
    "$$S = \\Bigl\\{ \\sum\\limits_{k=1}^n x_k < c_n \\Bigr\\}$$\n",
    "Найдем $c_n$ зная заданный уровень доверия $\\alpha=0.05$:\n",
    "$$\\alpha = P\\Bigl( \\sum\\limits_{k=1}^n x_k < c_n | a=a_0 \\Bigr) = P\\Bigl( \\frac{\\sum\\limits_{k=1}^n x_k - \\sum\\limits_{k=1}^n M}{\\sum\\limits_{k=1}^n D} < \\frac{c_n - \\sum\\limits_{k=1}^n M}{\\sqrt{\\sum\\limits_{k=1}^n D}} | a=a_0 \\Bigr) = Ф\\Bigl(\\frac{c_n - n\\cdot a_0}{\\sqrt{n\\cdot \\sigma_1^2}}\\Bigr) = 0.05$$\n",
    "\n",
    "$$c_n = n\\cdot a_0 + u_{0.05}\\sigma_1\\sqrt{n}$$"
   ]
  },
  {
   "cell_type": "code",
   "execution_count": 11,
   "metadata": {},
   "outputs": [
    {
     "name": "stdout",
     "output_type": "stream",
     "text": [
      "Cn = -185.746\n",
      "SumXk = -196.278\n"
     ]
    }
   ],
   "source": [
    "cn = n * a0 + stats.norm.ppf(0.05, 0, 1) * sigma1 * sqrt(n)\n",
    "print('Cn =', round(cn, 3))\n",
    "print('SumXk =', round(vec.sum(), 3))"
   ]
  },
  {
   "cell_type": "markdown",
   "metadata": {},
   "source": [
    "Отклоняем гипотезу $H_0$ так как $\\sum\\limits_{k=1}^n x_k = -196.278$ принадлежит критическому множеству $$S = \\Bigl\\{ \\sum\\limits_{k=1}^n x_k < -185.746 \\Bigr\\}$$"
   ]
  },
  {
   "cell_type": "markdown",
   "metadata": {},
   "source": [
    "Наконец, найдем константу $C$ критерия Неймана-Пирсона:\n",
    "$$\\frac{\\sigma_1^2}{a_1-a_0} \\Bigl(lnC + n\\frac{a_1^2-a_0^2}{2\\sigma_1^2} \\Bigr) = c_n$$\n",
    "$$lnC = c_n\\frac{a_1-a_0}{\\sigma_1^2} - n\\frac{a_1^2-a_0^2}{2\\sigma_1^2}$$\n",
    "\n",
    "$$C = e^{c_n\\frac{a_1-a_0}{\\sigma_1^2}} \\cdot e^{- n\\frac{a_1^2-a_0^2}{2\\sigma_1^2}}$$"
   ]
  },
  {
   "cell_type": "code",
   "execution_count": 12,
   "metadata": {},
   "outputs": [
    {
     "name": "stdout",
     "output_type": "stream",
     "text": [
      "C = 2.555\n"
     ]
    }
   ],
   "source": [
    "c_pirson = np.exp((a1-a0) * cn/sigma1**2) * np.exp(-n*(a1**2-a0**2)/(2*sigma1**2))\n",
    "print('C =', round(c_pirson, 3))"
   ]
  },
  {
   "cell_type": "markdown",
   "metadata": {},
   "source": [
    "Нанесу на график найденную константу"
   ]
  },
  {
   "cell_type": "code",
   "execution_count": 13,
   "metadata": {},
   "outputs": [
    {
     "data": {
      "image/png": "[encoded data removed]",
      "text/plain": [
       "<Figure size 864x576 with 1 Axes>"
      ]
     },
     "metadata": {
      "needs_background": "light"
     },
     "output_type": "display_data"
    }
   ],
   "source": [
    "plt.figure(figsize=(12, 8))\n",
    "\n",
    "plt.plot(xlist, ylist, label=r'$z(\\overrightarrow{Х_n})$')\n",
    "plt.plot(xlist, [A for i in xlist], linestyle='--', label=r'$A$')\n",
    "plt.plot(xlist, [B for i in xlist], linestyle='--', label=r'$B$')\n",
    "plt.plot(xlist, [c_pirson for i in xlist], linestyle=':', label=r'$C$', linewidth=3)\n",
    "\n",
    "plt.xlabel(r'$j$')\n",
    "plt.legend()\n",
    "plt.grid()\n",
    "plt.show()"
   ]
  },
  {
   "cell_type": "markdown",
   "metadata": {},
   "source": [
    "Получили значение $C \\in [B; A]$, что говорит о правильности найденного решения. Также сравнивая результаты с обычным критерием из 5 задания, можно увидеть их эквивалентность\n",
    "\n",
    "**Вывод**: в ходе 5 и 6 работ мы использовали 3 основных критерия: обычный критерий, последовательный критерий Вальда и критерий Неймана-Пирсона. Все они дали один результат: отвержение основной гипотезы в пользу альтернативной. \n",
    "Исходя их этого можно смело утверждать о правильности найденных результатов и о верном использовании вышеперечисленных критериев"
   ]
  }
 ],
 "metadata": {
  "kernelspec": {
   "display_name": "Python 3",
   "language": "python",
   "name": "python3"
  },
  "language_info": {
   "codemirror_mode": {
    "name": "ipython",
    "version": 3
   },
   "file_extension": ".py",
   "mimetype": "text/x-python",
   "name": "python",
   "nbconvert_exporter": "python",
   "pygments_lexer": "ipython3",
   "version": "3.7.3"
  }
 },
 "nbformat": 4,
 "nbformat_minor": 4
}
