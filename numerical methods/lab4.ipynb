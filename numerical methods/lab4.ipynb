{
 "cells": [
  {
   "cell_type": "code",
   "execution_count": 1,
   "metadata": {
    "executionInfo": {
     "elapsed": 1366,
     "status": "ok",
     "timestamp": 1603381321824,
     "user": {
      "displayName": "Djalak",
      "photoUrl": "https://lh3.googleusercontent.com/a-/AOh14GjJF6sx-CMkJa_dXCvOwEBzJhUjwsrgKMeJ6nk=s64",
      "userId": "14280272599542655255"
     },
     "user_tz": -180
    },
    "id": "dtbRbWqF77c7"
   },
   "outputs": [],
   "source": [
    "import numpy as np\n",
    "import pandas as pd\n",
    "\n",
    "from math import sin, cos"
   ]
  },
  {
   "cell_type": "code",
   "execution_count": 2,
   "metadata": {
    "colab": {
     "base_uri": "https://localhost:8080/",
     "height": 173
    },
    "executionInfo": {
     "elapsed": 1416,
     "status": "ok",
     "timestamp": 1603381324082,
     "user": {
      "displayName": "Djalak",
      "photoUrl": "https://lh3.googleusercontent.com/a-/AOh14GjJF6sx-CMkJa_dXCvOwEBzJhUjwsrgKMeJ6nk=s64",
      "userId": "14280272599542655255"
     },
     "user_tz": -180
    },
    "id": "7OxKcIDe77dE",
    "outputId": "8c06c376-ef28-4602-d15e-c9c34b7bbdb4"
   },
   "outputs": [
    {
     "data": {
      "text/html": [
       "<div>\n",
       "<style scoped>\n",
       "    .dataframe tbody tr th:only-of-type {\n",
       "        vertical-align: middle;\n",
       "    }\n",
       "\n",
       "    .dataframe tbody tr th {\n",
       "        vertical-align: top;\n",
       "    }\n",
       "\n",
       "    .dataframe thead th {\n",
       "        text-align: right;\n",
       "    }\n",
       "</style>\n",
       "<table border=\"1\" class=\"dataframe\">\n",
       "  <thead>\n",
       "    <tr style=\"text-align: right;\">\n",
       "      <th></th>\n",
       "      <th>0</th>\n",
       "      <th>1</th>\n",
       "      <th>2</th>\n",
       "      <th>3</th>\n",
       "    </tr>\n",
       "  </thead>\n",
       "  <tbody>\n",
       "    <tr>\n",
       "      <th>0</th>\n",
       "      <td>8.0</td>\n",
       "      <td>1.0</td>\n",
       "      <td>-2.0</td>\n",
       "      <td>3.0</td>\n",
       "    </tr>\n",
       "    <tr>\n",
       "      <th>1</th>\n",
       "      <td>1.0</td>\n",
       "      <td>8.0</td>\n",
       "      <td>3.0</td>\n",
       "      <td>2.0</td>\n",
       "    </tr>\n",
       "    <tr>\n",
       "      <th>2</th>\n",
       "      <td>-2.0</td>\n",
       "      <td>3.0</td>\n",
       "      <td>8.0</td>\n",
       "      <td>-1.0</td>\n",
       "    </tr>\n",
       "    <tr>\n",
       "      <th>3</th>\n",
       "      <td>3.0</td>\n",
       "      <td>2.0</td>\n",
       "      <td>-1.0</td>\n",
       "      <td>8.0</td>\n",
       "    </tr>\n",
       "  </tbody>\n",
       "</table>\n",
       "</div>"
      ],
      "text/plain": [
       "     0    1    2    3\n",
       "0  8.0  1.0 -2.0  3.0\n",
       "1  1.0  8.0  3.0  2.0\n",
       "2 -2.0  3.0  8.0 -1.0\n",
       "3  3.0  2.0 -1.0  8.0"
      ]
     },
     "execution_count": 2,
     "metadata": {},
     "output_type": "execute_result"
    }
   ],
   "source": [
    "beta = 1 - 0.1 * (52 - 50)\n",
    "A = np.array([\n",
    "    [10*beta, 1, -2, 3],\n",
    "    [1, 10*beta, 3, 2],\n",
    "    [-2, 3, 10*beta, -1],\n",
    "    [3, 2, -1, 10*beta]\n",
    "])\n",
    "pd.DataFrame(A)"
   ]
  },
  {
   "cell_type": "code",
   "execution_count": 3,
   "metadata": {
    "executionInfo": {
     "elapsed": 1134,
     "status": "ok",
     "timestamp": 1603381334065,
     "user": {
      "displayName": "Djalak",
      "photoUrl": "https://lh3.googleusercontent.com/a-/AOh14GjJF6sx-CMkJa_dXCvOwEBzJhUjwsrgKMeJ6nk=s64",
      "userId": "14280272599542655255"
     },
     "user_tz": -180
    },
    "id": "ft2RAcl477dN"
   },
   "outputs": [],
   "source": [
    "def get_max_indexes(A):\n",
    "    buf = abs(A)\n",
    "    max_elem = 0\n",
    "    for i in range(buf.shape[0]):\n",
    "        for j in range(buf.shape[1]):\n",
    "            if i != j and max_elem < buf[i][j]:\n",
    "                max_elem = buf[i][j]\n",
    "                maxi, maxj = i, j\n",
    "    return min(maxi, maxj), max(maxi, maxj)\n",
    "\n",
    "\n",
    "def get_phi(A, index):\n",
    "    return np.arctan(2*A[index[0]][index[1]] / (A[index[0]][index[0]] - A[index[1]][index[1]])) / 2.0"
   ]
  },
  {
   "cell_type": "code",
   "execution_count": 4,
   "metadata": {
    "id": "oekn2RgN77dP"
   },
   "outputs": [],
   "source": [
    "def create_Q(n, phi, index):\n",
    "    Q = np.eye(n)\n",
    "    Q[index[0]][index[0]] = cos(phi)\n",
    "    Q[index[0]][index[1]] = -sin(phi)\n",
    "    Q[index[1]][index[0]] = sin(phi)\n",
    "    Q[index[1]][index[1]] = cos(phi)\n",
    "    return Q\n",
    "\n",
    "def checkA(A):\n",
    "    for i in range(1, len(A)):\n",
    "        print(i)\n",
    "        for j in range(i, len(A)):\n",
    "            print(i, j)\n",
    "            if abs(A[i][j]) > 0.01:\n",
    "                return False\n",
    "    return True"
   ]
  },
  {
   "cell_type": "code",
   "execution_count": 5,
   "metadata": {},
   "outputs": [],
   "source": [
    "Amassives = []\n",
    "Qmassives = []\n",
    "Amassives.append(A)"
   ]
  },
  {
   "cell_type": "code",
   "execution_count": 6,
   "metadata": {
    "colab": {
     "base_uri": "https://localhost:8080/",
     "height": 309
    },
    "executionInfo": {
     "elapsed": 721,
     "status": "ok",
     "timestamp": 1603271088412,
     "user": {
      "displayName": "Djalak",
      "photoUrl": "https://lh3.googleusercontent.com/a-/AOh14GjJF6sx-CMkJa_dXCvOwEBzJhUjwsrgKMeJ6nk=s64",
      "userId": "14280272599542655255"
     },
     "user_tz": -180
    },
    "id": "1_RrQHms77dS",
    "outputId": "645943cb-72b8-4c61-cd85-497b6f105d74"
   },
   "outputs": [
    {
     "name": "stdout",
     "output_type": "stream",
     "text": [
      "Индексы максимального по модулю недиагонального элемента: (0, 3)\n",
      "Максимальный по модулю недиагональный элемент: 3.0\n",
      "Угол поворота: 0.7854\n",
      "Матрица Q:\n"
     ]
    },
    {
     "name": "stderr",
     "output_type": "stream",
     "text": [
      "<ipython-input-3-1d6f15ba2c57>:13: RuntimeWarning: divide by zero encountered in double_scalars\n",
      "  return np.arctan(2*A[index[0]][index[1]] / (A[index[0]][index[0]] - A[index[1]][index[1]])) / 2.0\n"
     ]
    },
    {
     "data": {
      "text/html": [
       "<div>\n",
       "<style scoped>\n",
       "    .dataframe tbody tr th:only-of-type {\n",
       "        vertical-align: middle;\n",
       "    }\n",
       "\n",
       "    .dataframe tbody tr th {\n",
       "        vertical-align: top;\n",
       "    }\n",
       "\n",
       "    .dataframe thead th {\n",
       "        text-align: right;\n",
       "    }\n",
       "</style>\n",
       "<table border=\"1\" class=\"dataframe\">\n",
       "  <thead>\n",
       "    <tr style=\"text-align: right;\">\n",
       "      <th></th>\n",
       "      <th>0</th>\n",
       "      <th>1</th>\n",
       "      <th>2</th>\n",
       "      <th>3</th>\n",
       "    </tr>\n",
       "  </thead>\n",
       "  <tbody>\n",
       "    <tr>\n",
       "      <th>0</th>\n",
       "      <td>0.7071</td>\n",
       "      <td>0.0</td>\n",
       "      <td>0.0</td>\n",
       "      <td>-0.7071</td>\n",
       "    </tr>\n",
       "    <tr>\n",
       "      <th>1</th>\n",
       "      <td>0.0000</td>\n",
       "      <td>1.0</td>\n",
       "      <td>0.0</td>\n",
       "      <td>0.0000</td>\n",
       "    </tr>\n",
       "    <tr>\n",
       "      <th>2</th>\n",
       "      <td>0.0000</td>\n",
       "      <td>0.0</td>\n",
       "      <td>1.0</td>\n",
       "      <td>0.0000</td>\n",
       "    </tr>\n",
       "    <tr>\n",
       "      <th>3</th>\n",
       "      <td>0.7071</td>\n",
       "      <td>0.0</td>\n",
       "      <td>0.0</td>\n",
       "      <td>0.7071</td>\n",
       "    </tr>\n",
       "  </tbody>\n",
       "</table>\n",
       "</div>"
      ],
      "text/plain": [
       "        0    1    2       3\n",
       "0  0.7071  0.0  0.0 -0.7071\n",
       "1  0.0000  1.0  0.0  0.0000\n",
       "2  0.0000  0.0  1.0  0.0000\n",
       "3  0.7071  0.0  0.0  0.7071"
      ]
     },
     "execution_count": 6,
     "metadata": {},
     "output_type": "execute_result"
    }
   ],
   "source": [
    "index = get_max_indexes(A)\n",
    "phi = get_phi(A, index)\n",
    "Q = pd.DataFrame(create_Q(4, phi, index)).round(decimals=4)\n",
    "\n",
    "print('Индексы максимального по модулю недиагонального элемента:', index)\n",
    "print('Максимальный по модулю недиагональный элемент:', A[index[0]][index[1]])\n",
    "print('Угол поворота:', round(phi, 4))\n",
    "print('Матрица Q:')\n",
    "Q"
   ]
  },
  {
   "cell_type": "code",
   "execution_count": 7,
   "metadata": {},
   "outputs": [
    {
     "data": {
      "text/html": [
       "<div>\n",
       "<style scoped>\n",
       "    .dataframe tbody tr th:only-of-type {\n",
       "        vertical-align: middle;\n",
       "    }\n",
       "\n",
       "    .dataframe tbody tr th {\n",
       "        vertical-align: top;\n",
       "    }\n",
       "\n",
       "    .dataframe thead th {\n",
       "        text-align: right;\n",
       "    }\n",
       "</style>\n",
       "<table border=\"1\" class=\"dataframe\">\n",
       "  <thead>\n",
       "    <tr style=\"text-align: right;\">\n",
       "      <th></th>\n",
       "      <th>0</th>\n",
       "      <th>1</th>\n",
       "      <th>2</th>\n",
       "      <th>3</th>\n",
       "    </tr>\n",
       "  </thead>\n",
       "  <tbody>\n",
       "    <tr>\n",
       "      <th>0</th>\n",
       "      <td>10.9998</td>\n",
       "      <td>2.1213</td>\n",
       "      <td>-2.1213</td>\n",
       "      <td>0.0000</td>\n",
       "    </tr>\n",
       "    <tr>\n",
       "      <th>1</th>\n",
       "      <td>2.1213</td>\n",
       "      <td>8.0000</td>\n",
       "      <td>3.0000</td>\n",
       "      <td>0.7071</td>\n",
       "    </tr>\n",
       "    <tr>\n",
       "      <th>2</th>\n",
       "      <td>-2.1213</td>\n",
       "      <td>3.0000</td>\n",
       "      <td>8.0000</td>\n",
       "      <td>0.7071</td>\n",
       "    </tr>\n",
       "    <tr>\n",
       "      <th>3</th>\n",
       "      <td>0.0000</td>\n",
       "      <td>0.7071</td>\n",
       "      <td>0.7071</td>\n",
       "      <td>4.9999</td>\n",
       "    </tr>\n",
       "  </tbody>\n",
       "</table>\n",
       "</div>"
      ],
      "text/plain": [
       "         0       1       2       3\n",
       "0  10.9998  2.1213 -2.1213  0.0000\n",
       "1   2.1213  8.0000  3.0000  0.7071\n",
       "2  -2.1213  3.0000  8.0000  0.7071\n",
       "3   0.0000  0.7071  0.7071  4.9999"
      ]
     },
     "execution_count": 7,
     "metadata": {},
     "output_type": "execute_result"
    }
   ],
   "source": [
    "A = pd.DataFrame(np.dot(np.dot(Q.T, A), Q)).round(decimals=4)\n",
    "\n",
    "Amassives.append(A)\n",
    "Qmassives.append(pd.DataFrame(Q).round(4))\n",
    "\n",
    "A"
   ]
  },
  {
   "cell_type": "code",
   "execution_count": 8,
   "metadata": {
    "colab": {
     "base_uri": "https://localhost:8080/",
     "height": 309
    },
    "executionInfo": {
     "elapsed": 1164,
     "status": "ok",
     "timestamp": 1603271090931,
     "user": {
      "displayName": "Djalak",
      "photoUrl": "https://lh3.googleusercontent.com/a-/AOh14GjJF6sx-CMkJa_dXCvOwEBzJhUjwsrgKMeJ6nk=s64",
      "userId": "14280272599542655255"
     },
     "user_tz": -180
    },
    "id": "wzXt6B2I77dW",
    "outputId": "9d5744c4-e921-43cd-db5a-9127ec90589d"
   },
   "outputs": [
    {
     "name": "stdout",
     "output_type": "stream",
     "text": [
      "Индексы максимального по модулю недиагонального элемента: (1, 2)\n",
      "Максимальный по модулю недиагональный элемент: 3.0\n",
      "Угол поворота: 0.7854\n",
      "Матрица Q:\n"
     ]
    },
    {
     "name": "stderr",
     "output_type": "stream",
     "text": [
      "<ipython-input-3-1d6f15ba2c57>:13: RuntimeWarning: divide by zero encountered in double_scalars\n",
      "  return np.arctan(2*A[index[0]][index[1]] / (A[index[0]][index[0]] - A[index[1]][index[1]])) / 2.0\n"
     ]
    },
    {
     "data": {
      "text/html": [
       "<div>\n",
       "<style scoped>\n",
       "    .dataframe tbody tr th:only-of-type {\n",
       "        vertical-align: middle;\n",
       "    }\n",
       "\n",
       "    .dataframe tbody tr th {\n",
       "        vertical-align: top;\n",
       "    }\n",
       "\n",
       "    .dataframe thead th {\n",
       "        text-align: right;\n",
       "    }\n",
       "</style>\n",
       "<table border=\"1\" class=\"dataframe\">\n",
       "  <thead>\n",
       "    <tr style=\"text-align: right;\">\n",
       "      <th></th>\n",
       "      <th>0</th>\n",
       "      <th>1</th>\n",
       "      <th>2</th>\n",
       "      <th>3</th>\n",
       "    </tr>\n",
       "  </thead>\n",
       "  <tbody>\n",
       "    <tr>\n",
       "      <th>0</th>\n",
       "      <td>1.0</td>\n",
       "      <td>0.0000</td>\n",
       "      <td>0.0000</td>\n",
       "      <td>0.0</td>\n",
       "    </tr>\n",
       "    <tr>\n",
       "      <th>1</th>\n",
       "      <td>0.0</td>\n",
       "      <td>0.7071</td>\n",
       "      <td>-0.7071</td>\n",
       "      <td>0.0</td>\n",
       "    </tr>\n",
       "    <tr>\n",
       "      <th>2</th>\n",
       "      <td>0.0</td>\n",
       "      <td>0.7071</td>\n",
       "      <td>0.7071</td>\n",
       "      <td>0.0</td>\n",
       "    </tr>\n",
       "    <tr>\n",
       "      <th>3</th>\n",
       "      <td>0.0</td>\n",
       "      <td>0.0000</td>\n",
       "      <td>0.0000</td>\n",
       "      <td>1.0</td>\n",
       "    </tr>\n",
       "  </tbody>\n",
       "</table>\n",
       "</div>"
      ],
      "text/plain": [
       "     0       1       2    3\n",
       "0  1.0  0.0000  0.0000  0.0\n",
       "1  0.0  0.7071 -0.7071  0.0\n",
       "2  0.0  0.7071  0.7071  0.0\n",
       "3  0.0  0.0000  0.0000  1.0"
      ]
     },
     "execution_count": 8,
     "metadata": {},
     "output_type": "execute_result"
    }
   ],
   "source": [
    "index = get_max_indexes(A)\n",
    "phi = get_phi(A, index)\n",
    "Q = pd.DataFrame(create_Q(4, phi, index)).round(decimals=4)\n",
    "\n",
    "print('Индексы максимального по модулю недиагонального элемента:', index)\n",
    "print('Максимальный по модулю недиагональный элемент:', A[index[0]][index[1]])\n",
    "print('Угол поворота:', round(phi, 4))\n",
    "print('Матрица Q:')\n",
    "Q"
   ]
  },
  {
   "cell_type": "code",
   "execution_count": 9,
   "metadata": {},
   "outputs": [
    {
     "data": {
      "text/html": [
       "<div>\n",
       "<style scoped>\n",
       "    .dataframe tbody tr th:only-of-type {\n",
       "        vertical-align: middle;\n",
       "    }\n",
       "\n",
       "    .dataframe tbody tr th {\n",
       "        vertical-align: top;\n",
       "    }\n",
       "\n",
       "    .dataframe thead th {\n",
       "        text-align: right;\n",
       "    }\n",
       "</style>\n",
       "<table border=\"1\" class=\"dataframe\">\n",
       "  <thead>\n",
       "    <tr style=\"text-align: right;\">\n",
       "      <th></th>\n",
       "      <th>0</th>\n",
       "      <th>1</th>\n",
       "      <th>2</th>\n",
       "      <th>3</th>\n",
       "    </tr>\n",
       "  </thead>\n",
       "  <tbody>\n",
       "    <tr>\n",
       "      <th>0</th>\n",
       "      <td>10.9998</td>\n",
       "      <td>0.0000</td>\n",
       "      <td>-2.9999</td>\n",
       "      <td>0.0000</td>\n",
       "    </tr>\n",
       "    <tr>\n",
       "      <th>1</th>\n",
       "      <td>0.0000</td>\n",
       "      <td>10.9998</td>\n",
       "      <td>0.0000</td>\n",
       "      <td>1.0000</td>\n",
       "    </tr>\n",
       "    <tr>\n",
       "      <th>2</th>\n",
       "      <td>-2.9999</td>\n",
       "      <td>0.0000</td>\n",
       "      <td>4.9999</td>\n",
       "      <td>0.0000</td>\n",
       "    </tr>\n",
       "    <tr>\n",
       "      <th>3</th>\n",
       "      <td>0.0000</td>\n",
       "      <td>1.0000</td>\n",
       "      <td>0.0000</td>\n",
       "      <td>4.9999</td>\n",
       "    </tr>\n",
       "  </tbody>\n",
       "</table>\n",
       "</div>"
      ],
      "text/plain": [
       "         0        1       2       3\n",
       "0  10.9998   0.0000 -2.9999  0.0000\n",
       "1   0.0000  10.9998  0.0000  1.0000\n",
       "2  -2.9999   0.0000  4.9999  0.0000\n",
       "3   0.0000   1.0000  0.0000  4.9999"
      ]
     },
     "execution_count": 9,
     "metadata": {},
     "output_type": "execute_result"
    }
   ],
   "source": [
    "A = pd.DataFrame(np.dot(np.dot(Q.T, A), Q)).round(decimals=4)\n",
    "\n",
    "Amassives.append(A)\n",
    "Qmassives.append(pd.DataFrame(Q).round(4))\n",
    "\n",
    "A"
   ]
  },
  {
   "cell_type": "code",
   "execution_count": 10,
   "metadata": {
    "colab": {
     "base_uri": "https://localhost:8080/",
     "height": 275
    },
    "executionInfo": {
     "elapsed": 894,
     "status": "ok",
     "timestamp": 1603271092260,
     "user": {
      "displayName": "Djalak",
      "photoUrl": "https://lh3.googleusercontent.com/a-/AOh14GjJF6sx-CMkJa_dXCvOwEBzJhUjwsrgKMeJ6nk=s64",
      "userId": "14280272599542655255"
     },
     "user_tz": -180
    },
    "id": "o9PUxaPp77dZ",
    "outputId": "511c2241-f74d-42c3-e6b5-8dc88a684026"
   },
   "outputs": [
    {
     "name": "stdout",
     "output_type": "stream",
     "text": [
      "Индексы максимального по модулю недиагонального элемента: (0, 2)\n",
      "Максимальный по модулю недиагональный элемент: -2.9999\n",
      "Угол поворота: -0.3927\n",
      "Матрица Q:\n"
     ]
    },
    {
     "data": {
      "text/html": [
       "<div>\n",
       "<style scoped>\n",
       "    .dataframe tbody tr th:only-of-type {\n",
       "        vertical-align: middle;\n",
       "    }\n",
       "\n",
       "    .dataframe tbody tr th {\n",
       "        vertical-align: top;\n",
       "    }\n",
       "\n",
       "    .dataframe thead th {\n",
       "        text-align: right;\n",
       "    }\n",
       "</style>\n",
       "<table border=\"1\" class=\"dataframe\">\n",
       "  <thead>\n",
       "    <tr style=\"text-align: right;\">\n",
       "      <th></th>\n",
       "      <th>0</th>\n",
       "      <th>1</th>\n",
       "      <th>2</th>\n",
       "      <th>3</th>\n",
       "    </tr>\n",
       "  </thead>\n",
       "  <tbody>\n",
       "    <tr>\n",
       "      <th>0</th>\n",
       "      <td>0.9239</td>\n",
       "      <td>0.0</td>\n",
       "      <td>0.3827</td>\n",
       "      <td>0.0</td>\n",
       "    </tr>\n",
       "    <tr>\n",
       "      <th>1</th>\n",
       "      <td>0.0000</td>\n",
       "      <td>1.0</td>\n",
       "      <td>0.0000</td>\n",
       "      <td>0.0</td>\n",
       "    </tr>\n",
       "    <tr>\n",
       "      <th>2</th>\n",
       "      <td>-0.3827</td>\n",
       "      <td>0.0</td>\n",
       "      <td>0.9239</td>\n",
       "      <td>0.0</td>\n",
       "    </tr>\n",
       "    <tr>\n",
       "      <th>3</th>\n",
       "      <td>0.0000</td>\n",
       "      <td>0.0</td>\n",
       "      <td>0.0000</td>\n",
       "      <td>1.0</td>\n",
       "    </tr>\n",
       "  </tbody>\n",
       "</table>\n",
       "</div>"
      ],
      "text/plain": [
       "        0    1       2    3\n",
       "0  0.9239  0.0  0.3827  0.0\n",
       "1  0.0000  1.0  0.0000  0.0\n",
       "2 -0.3827  0.0  0.9239  0.0\n",
       "3  0.0000  0.0  0.0000  1.0"
      ]
     },
     "execution_count": 10,
     "metadata": {},
     "output_type": "execute_result"
    }
   ],
   "source": [
    "index = get_max_indexes(A)\n",
    "phi = get_phi(A, index)\n",
    "Q = pd.DataFrame(create_Q(4, phi, index)).round(decimals=4)\n",
    "\n",
    "print('Индексы максимального по модулю недиагонального элемента:', index)\n",
    "print('Максимальный по модулю недиагональный элемент:', A[index[0]][index[1]])\n",
    "print('Угол поворота:', round(phi, 4))\n",
    "print('Матрица Q:')\n",
    "Q"
   ]
  },
  {
   "cell_type": "code",
   "execution_count": 11,
   "metadata": {},
   "outputs": [
    {
     "data": {
      "text/html": [
       "<div>\n",
       "<style scoped>\n",
       "    .dataframe tbody tr th:only-of-type {\n",
       "        vertical-align: middle;\n",
       "    }\n",
       "\n",
       "    .dataframe tbody tr th {\n",
       "        vertical-align: top;\n",
       "    }\n",
       "\n",
       "    .dataframe thead th {\n",
       "        text-align: right;\n",
       "    }\n",
       "</style>\n",
       "<table border=\"1\" class=\"dataframe\">\n",
       "  <thead>\n",
       "    <tr style=\"text-align: right;\">\n",
       "      <th></th>\n",
       "      <th>0</th>\n",
       "      <th>1</th>\n",
       "      <th>2</th>\n",
       "      <th>3</th>\n",
       "    </tr>\n",
       "  </thead>\n",
       "  <tbody>\n",
       "    <tr>\n",
       "      <th>0</th>\n",
       "      <td>12.2430</td>\n",
       "      <td>0.0000</td>\n",
       "      <td>0.0001</td>\n",
       "      <td>0.0000</td>\n",
       "    </tr>\n",
       "    <tr>\n",
       "      <th>1</th>\n",
       "      <td>0.0000</td>\n",
       "      <td>10.9998</td>\n",
       "      <td>0.0000</td>\n",
       "      <td>1.0000</td>\n",
       "    </tr>\n",
       "    <tr>\n",
       "      <th>2</th>\n",
       "      <td>0.0001</td>\n",
       "      <td>0.0000</td>\n",
       "      <td>3.7575</td>\n",
       "      <td>0.0000</td>\n",
       "    </tr>\n",
       "    <tr>\n",
       "      <th>3</th>\n",
       "      <td>0.0000</td>\n",
       "      <td>1.0000</td>\n",
       "      <td>0.0000</td>\n",
       "      <td>4.9999</td>\n",
       "    </tr>\n",
       "  </tbody>\n",
       "</table>\n",
       "</div>"
      ],
      "text/plain": [
       "         0        1       2       3\n",
       "0  12.2430   0.0000  0.0001  0.0000\n",
       "1   0.0000  10.9998  0.0000  1.0000\n",
       "2   0.0001   0.0000  3.7575  0.0000\n",
       "3   0.0000   1.0000  0.0000  4.9999"
      ]
     },
     "execution_count": 11,
     "metadata": {},
     "output_type": "execute_result"
    }
   ],
   "source": [
    "A = pd.DataFrame(np.dot(np.dot(Q.T, A), Q)).round(decimals=4)\n",
    "\n",
    "Amassives.append(A)\n",
    "Qmassives.append(pd.DataFrame(Q).round(4))\n",
    "\n",
    "A"
   ]
  },
  {
   "cell_type": "code",
   "execution_count": 12,
   "metadata": {
    "colab": {
     "base_uri": "https://localhost:8080/",
     "height": 275
    },
    "executionInfo": {
     "elapsed": 895,
     "status": "ok",
     "timestamp": 1603271093703,
     "user": {
      "displayName": "Djalak",
      "photoUrl": "https://lh3.googleusercontent.com/a-/AOh14GjJF6sx-CMkJa_dXCvOwEBzJhUjwsrgKMeJ6nk=s64",
      "userId": "14280272599542655255"
     },
     "user_tz": -180
    },
    "id": "GqcNg8Rn77dc",
    "outputId": "adc5cf38-86e2-41cd-e131-900b558533ad"
   },
   "outputs": [
    {
     "name": "stdout",
     "output_type": "stream",
     "text": [
      "Индексы максимального по модулю недиагонального элемента: (1, 3)\n",
      "Максимальный по модулю недиагональный элемент: 1.0\n",
      "Угол поворота: 0.1609\n",
      "Матрица Q:\n"
     ]
    },
    {
     "data": {
      "text/html": [
       "<div>\n",
       "<style scoped>\n",
       "    .dataframe tbody tr th:only-of-type {\n",
       "        vertical-align: middle;\n",
       "    }\n",
       "\n",
       "    .dataframe tbody tr th {\n",
       "        vertical-align: top;\n",
       "    }\n",
       "\n",
       "    .dataframe thead th {\n",
       "        text-align: right;\n",
       "    }\n",
       "</style>\n",
       "<table border=\"1\" class=\"dataframe\">\n",
       "  <thead>\n",
       "    <tr style=\"text-align: right;\">\n",
       "      <th></th>\n",
       "      <th>0</th>\n",
       "      <th>1</th>\n",
       "      <th>2</th>\n",
       "      <th>3</th>\n",
       "    </tr>\n",
       "  </thead>\n",
       "  <tbody>\n",
       "    <tr>\n",
       "      <th>0</th>\n",
       "      <td>1.0</td>\n",
       "      <td>0.0000</td>\n",
       "      <td>0.0</td>\n",
       "      <td>0.0000</td>\n",
       "    </tr>\n",
       "    <tr>\n",
       "      <th>1</th>\n",
       "      <td>0.0</td>\n",
       "      <td>0.9871</td>\n",
       "      <td>0.0</td>\n",
       "      <td>-0.1602</td>\n",
       "    </tr>\n",
       "    <tr>\n",
       "      <th>2</th>\n",
       "      <td>0.0</td>\n",
       "      <td>0.0000</td>\n",
       "      <td>1.0</td>\n",
       "      <td>0.0000</td>\n",
       "    </tr>\n",
       "    <tr>\n",
       "      <th>3</th>\n",
       "      <td>0.0</td>\n",
       "      <td>0.1602</td>\n",
       "      <td>0.0</td>\n",
       "      <td>0.9871</td>\n",
       "    </tr>\n",
       "  </tbody>\n",
       "</table>\n",
       "</div>"
      ],
      "text/plain": [
       "     0       1    2       3\n",
       "0  1.0  0.0000  0.0  0.0000\n",
       "1  0.0  0.9871  0.0 -0.1602\n",
       "2  0.0  0.0000  1.0  0.0000\n",
       "3  0.0  0.1602  0.0  0.9871"
      ]
     },
     "execution_count": 12,
     "metadata": {},
     "output_type": "execute_result"
    }
   ],
   "source": [
    "index = get_max_indexes(A)\n",
    "phi = get_phi(A, index)\n",
    "Q = pd.DataFrame(create_Q(4, phi, index)).round(decimals=4)\n",
    "\n",
    "print('Индексы максимального по модулю недиагонального элемента:', index)\n",
    "print('Максимальный по модулю недиагональный элемент:', A[index[0]][index[1]])\n",
    "print('Угол поворота:', round(phi, 4))\n",
    "print('Матрица Q:')\n",
    "Q"
   ]
  },
  {
   "cell_type": "code",
   "execution_count": 13,
   "metadata": {},
   "outputs": [
    {
     "data": {
      "text/html": [
       "<div>\n",
       "<style scoped>\n",
       "    .dataframe tbody tr th:only-of-type {\n",
       "        vertical-align: middle;\n",
       "    }\n",
       "\n",
       "    .dataframe tbody tr th {\n",
       "        vertical-align: top;\n",
       "    }\n",
       "\n",
       "    .dataframe thead th {\n",
       "        text-align: right;\n",
       "    }\n",
       "</style>\n",
       "<table border=\"1\" class=\"dataframe\">\n",
       "  <thead>\n",
       "    <tr style=\"text-align: right;\">\n",
       "      <th></th>\n",
       "      <th>0</th>\n",
       "      <th>1</th>\n",
       "      <th>2</th>\n",
       "      <th>3</th>\n",
       "    </tr>\n",
       "  </thead>\n",
       "  <tbody>\n",
       "    <tr>\n",
       "      <th>0</th>\n",
       "      <td>12.2430</td>\n",
       "      <td>0.0000</td>\n",
       "      <td>0.0001</td>\n",
       "      <td>0.0000</td>\n",
       "    </tr>\n",
       "    <tr>\n",
       "      <th>1</th>\n",
       "      <td>0.0000</td>\n",
       "      <td>11.1624</td>\n",
       "      <td>0.0000</td>\n",
       "      <td>-0.0001</td>\n",
       "    </tr>\n",
       "    <tr>\n",
       "      <th>2</th>\n",
       "      <td>0.0001</td>\n",
       "      <td>0.0000</td>\n",
       "      <td>3.7575</td>\n",
       "      <td>0.0000</td>\n",
       "    </tr>\n",
       "    <tr>\n",
       "      <th>3</th>\n",
       "      <td>0.0000</td>\n",
       "      <td>-0.0001</td>\n",
       "      <td>0.0000</td>\n",
       "      <td>4.8378</td>\n",
       "    </tr>\n",
       "  </tbody>\n",
       "</table>\n",
       "</div>"
      ],
      "text/plain": [
       "         0        1       2       3\n",
       "0  12.2430   0.0000  0.0001  0.0000\n",
       "1   0.0000  11.1624  0.0000 -0.0001\n",
       "2   0.0001   0.0000  3.7575  0.0000\n",
       "3   0.0000  -0.0001  0.0000  4.8378"
      ]
     },
     "execution_count": 13,
     "metadata": {},
     "output_type": "execute_result"
    }
   ],
   "source": [
    "A = pd.DataFrame(np.dot(np.dot(Q.T, A), Q)).round(decimals=4)\n",
    "\n",
    "Amassives.append(A)\n",
    "Qmassives.append(pd.DataFrame(Q).round(4))\n",
    "\n",
    "A"
   ]
  },
  {
   "cell_type": "code",
   "execution_count": 32,
   "metadata": {},
   "outputs": [
    {
     "data": {
      "text/html": [
       "<div>\n",
       "<style scoped>\n",
       "    .dataframe tbody tr th:only-of-type {\n",
       "        vertical-align: middle;\n",
       "    }\n",
       "\n",
       "    .dataframe tbody tr th {\n",
       "        vertical-align: top;\n",
       "    }\n",
       "\n",
       "    .dataframe thead th {\n",
       "        text-align: right;\n",
       "    }\n",
       "</style>\n",
       "<table border=\"1\" class=\"dataframe\">\n",
       "  <thead>\n",
       "    <tr style=\"text-align: right;\">\n",
       "      <th></th>\n",
       "      <th>0</th>\n",
       "      <th>1</th>\n",
       "      <th>2</th>\n",
       "      <th>3</th>\n",
       "    </tr>\n",
       "  </thead>\n",
       "  <tbody>\n",
       "    <tr>\n",
       "      <th>0</th>\n",
       "      <td>0.6533</td>\n",
       "      <td>-0.1133</td>\n",
       "      <td>0.2706</td>\n",
       "      <td>-0.6980</td>\n",
       "    </tr>\n",
       "    <tr>\n",
       "      <th>1</th>\n",
       "      <td>0.2706</td>\n",
       "      <td>0.6980</td>\n",
       "      <td>-0.6533</td>\n",
       "      <td>-0.1133</td>\n",
       "    </tr>\n",
       "    <tr>\n",
       "      <th>2</th>\n",
       "      <td>-0.2706</td>\n",
       "      <td>0.6980</td>\n",
       "      <td>0.6533</td>\n",
       "      <td>-0.1133</td>\n",
       "    </tr>\n",
       "    <tr>\n",
       "      <th>3</th>\n",
       "      <td>0.6533</td>\n",
       "      <td>0.1133</td>\n",
       "      <td>0.2706</td>\n",
       "      <td>0.6980</td>\n",
       "    </tr>\n",
       "  </tbody>\n",
       "</table>\n",
       "</div>"
      ],
      "text/plain": [
       "        0       1       2       3\n",
       "0  0.6533 -0.1133  0.2706 -0.6980\n",
       "1  0.2706  0.6980 -0.6533 -0.1133\n",
       "2 -0.2706  0.6980  0.6533 -0.1133\n",
       "3  0.6533  0.1133  0.2706  0.6980"
      ]
     },
     "execution_count": 32,
     "metadata": {},
     "output_type": "execute_result"
    }
   ],
   "source": [
    "Qk = pd.DataFrame(np.dot(np.dot(np.dot(Qmassives[0], Qmassives[1]), \n",
    "                                Qmassives[2]), Qmassives[3])).round(4)\n",
    "Qk"
   ]
  },
  {
   "cell_type": "code",
   "execution_count": 33,
   "metadata": {},
   "outputs": [
    {
     "data": {
      "text/plain": [
       "array([ 7.9981,  3.3129, -3.3129,  7.9981])"
      ]
     },
     "execution_count": 33,
     "metadata": {},
     "output_type": "execute_result"
    }
   ],
   "source": [
    "np.dot(Amassives[0], Qk.iloc[:,0])"
   ]
  },
  {
   "cell_type": "code",
   "execution_count": 34,
   "metadata": {},
   "outputs": [
    {
     "data": {
      "text/plain": [
       "array([ 7.9983519,  3.3129558, -3.3129558,  7.9983519])"
      ]
     },
     "execution_count": 34,
     "metadata": {},
     "output_type": "execute_result"
    }
   ],
   "source": [
    "np.dot(np.diag(Amassives[len(Amassives) - 1])[0], Qk.iloc[:,0])"
   ]
  },
  {
   "cell_type": "code",
   "execution_count": 36,
   "metadata": {},
   "outputs": [
    {
     "data": {
      "text/plain": [
       "array([-1.2645,  7.7913,  7.7913,  1.2645])"
      ]
     },
     "execution_count": 36,
     "metadata": {},
     "output_type": "execute_result"
    }
   ],
   "source": [
    "np.dot(Amassives[0], Qk.iloc[:,1])"
   ]
  },
  {
   "cell_type": "code",
   "execution_count": 37,
   "metadata": {},
   "outputs": [
    {
     "data": {
      "text/plain": [
       "array([-1.26469992,  7.7913552 ,  7.7913552 ,  1.26469992])"
      ]
     },
     "execution_count": 37,
     "metadata": {},
     "output_type": "execute_result"
    }
   ],
   "source": [
    "np.dot(np.diag(Amassives[len(Amassives) - 1])[1], Qk.iloc[:,1])"
   ]
  },
  {
   "cell_type": "code",
   "execution_count": 38,
   "metadata": {},
   "outputs": [
    {
     "data": {
      "text/plain": [
       "array([ 1.0167, -2.4547,  2.4547,  1.0167])"
      ]
     },
     "execution_count": 38,
     "metadata": {},
     "output_type": "execute_result"
    }
   ],
   "source": [
    "np.dot(Amassives[0], Qk.iloc[:,2])"
   ]
  },
  {
   "cell_type": "code",
   "execution_count": 39,
   "metadata": {},
   "outputs": [
    {
     "data": {
      "text/plain": [
       "array([ 1.0167795 , -2.45477475,  2.45477475,  1.0167795 ])"
      ]
     },
     "execution_count": 39,
     "metadata": {},
     "output_type": "execute_result"
    }
   ],
   "source": [
    "np.dot(np.diag(Amassives[len(Amassives) - 1])[2], Qk.iloc[:,2])"
   ]
  },
  {
   "cell_type": "code",
   "execution_count": 40,
   "metadata": {},
   "outputs": [
    {
     "data": {
      "text/plain": [
       "array([-3.3767, -0.5483, -0.5483,  3.3767])"
      ]
     },
     "execution_count": 40,
     "metadata": {},
     "output_type": "execute_result"
    }
   ],
   "source": [
    "np.dot(Amassives[0], Qk.iloc[:,3])"
   ]
  },
  {
   "cell_type": "code",
   "execution_count": 41,
   "metadata": {},
   "outputs": [
    {
     "data": {
      "text/plain": [
       "array([-3.3767844 , -0.54812274, -0.54812274,  3.3767844 ])"
      ]
     },
     "execution_count": 41,
     "metadata": {},
     "output_type": "execute_result"
    }
   ],
   "source": [
    "np.dot(np.diag(Amassives[len(Amassives) - 1])[3], Qk.iloc[:,3])"
   ]
  },
  {
   "cell_type": "code",
   "execution_count": null,
   "metadata": {},
   "outputs": [],
   "source": []
  }
 ],
 "metadata": {
  "colab": {
   "name": "lab4.ipynb",
   "provenance": []
  },
  "kernelspec": {
   "display_name": "Python 3",
   "language": "python",
   "name": "python3"
  },
  "language_info": {
   "codemirror_mode": {
    "name": "ipython",
    "version": 3
   },
   "file_extension": ".py",
   "mimetype": "text/x-python",
   "name": "python",
   "nbconvert_exporter": "python",
   "pygments_lexer": "ipython3",
   "version": "3.8.2"
  }
 },
 "nbformat": 4,
 "nbformat_minor": 1
}
