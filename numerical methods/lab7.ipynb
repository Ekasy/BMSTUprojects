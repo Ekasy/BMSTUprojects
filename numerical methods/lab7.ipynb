{
 "cells": [
  {
   "cell_type": "code",
   "execution_count": 1,
   "metadata": {},
   "outputs": [],
   "source": [
    "import numpy as np\n",
    "import pandas as pd\n",
    "from scipy.integrate import quad\n",
    "from numpy.linalg import solve\n",
    "import matplotlib.pyplot as plt\n",
    "from math import cos"
   ]
  },
  {
   "cell_type": "code",
   "execution_count": 2,
   "metadata": {},
   "outputs": [
    {
     "name": "stdout",
     "output_type": "stream",
     "text": [
      "Равномерная сетка:\n",
      " 0.0, 0.1, 0.2, 0.3, 0.4, 0.5, 0.6, 0.7, 0.8, 0.9, 1.0, 1.1, 1.2, 1.3, 1.4, 1.5, 1.6, 1.7, 1.8, 1.9, 2.0\n"
     ]
    }
   ],
   "source": [
    "a = 0\n",
    "b = 2\n",
    "k = 20\n",
    "h = (b - a) / k\n",
    "tau = np.linspace(a, b, k + 1)\n",
    "\n",
    "def f(x, n=52, a=3, b=8, c=1):\n",
    "    return ((a + 53 - n)*x**4 + (b - 53 + n)*x**2 + c) / ((x + 1) * (x**2 + 1))\n",
    "\n",
    "print('Равномерная сетка:\\n', ', '.join([str(round(i, 1)) for i in tau]))"
   ]
  },
  {
   "cell_type": "markdown",
   "metadata": {},
   "source": [
    "Квадратурная формула прямоугольников"
   ]
  },
  {
   "cell_type": "code",
   "execution_count": 13,
   "metadata": {},
   "outputs": [
    {
     "name": "stdout",
     "output_type": "stream",
     "text": [
      "Центрально-авномерная сетка:\n",
      " 0.05, 0.15, 0.25, 0.35, 0.45, 0.55, 0.65, 0.75, 0.85, 0.95, 1.05, 1.15, 1.25, 1.35, 1.45, 1.55, 1.65, 1.75, 1.85, 1.95\n",
      "Квадратурная формула прямоугольников: 6.2874268\n"
     ]
    }
   ],
   "source": [
    "def rectangle(f, tau, h):\n",
    "    theta = np.zeros((tau.shape[0] - 1,))\n",
    "    for i in range(theta.shape[0]):\n",
    "        theta[i] = (tau[i + 1] + tau[i]) / 2\n",
    "    print('Центрально-авномерная сетка:\\n', ', '.join([str(round(i, 2)) for i in theta]))\n",
    "    return h * f(theta).sum()\n",
    "\n",
    "print('Квадратурная формула прямоугольников:', round(rectangle(f, tau, h), 7))"
   ]
  },
  {
   "cell_type": "markdown",
   "metadata": {},
   "source": [
    "Квадратурная формула трапеций"
   ]
  },
  {
   "cell_type": "code",
   "execution_count": 12,
   "metadata": {},
   "outputs": [
    {
     "name": "stdout",
     "output_type": "stream",
     "text": [
      "Квадратурная формула трапеций: 6.2928826\n"
     ]
    }
   ],
   "source": [
    "def trapezoidal(f, tau, h):\n",
    "    return h * (f(tau[0])/2 + f(tau[1:-1]).sum() + f(tau[-1])/2)\n",
    "\n",
    "print('Квадратурная формула трапеций:', round(trapezoidal(f, tau, h), 7))"
   ]
  },
  {
   "cell_type": "markdown",
   "metadata": {},
   "source": [
    "Квадратурная формула парабол"
   ]
  },
  {
   "cell_type": "code",
   "execution_count": 5,
   "metadata": {},
   "outputs": [
    {
     "name": "stdout",
     "output_type": "stream",
     "text": [
      "Квадратурная формула парабол: 6.2892668\n"
     ]
    }
   ],
   "source": [
    "def parabola(f, tau, h):\n",
    "    sum_ = 0\n",
    "    for i in range(1, tau.shape[0] - 1):\n",
    "        if i % 2 == 1:\n",
    "            sum_ += 4 * f(tau[i])\n",
    "        else:\n",
    "            sum_ += 2 * f(tau[i])\n",
    "    return h/3 * (f(tau[0]) + sum_ + f(tau[-1]))\n",
    "\n",
    "print('Квадратурная формула парабол:', round(parabola(f, tau, h), 7))"
   ]
  },
  {
   "cell_type": "code",
   "execution_count": 6,
   "metadata": {},
   "outputs": [
    {
     "name": "stdout",
     "output_type": "stream",
     "text": [
      "Аналитическое решение: 6.28924397\n"
     ]
    }
   ],
   "source": [
    "analytical = quad(f, a=0, b=2)[0]\n",
    "print('Аналитическое решение:', round(analytical, 8))"
   ]
  },
  {
   "cell_type": "markdown",
   "metadata": {},
   "source": [
    "Вычислю интеграл от интерполяционного полинома Лагранжа"
   ]
  },
  {
   "cell_type": "code",
   "execution_count": 7,
   "metadata": {},
   "outputs": [
    {
     "name": "stdout",
     "output_type": "stream",
     "text": [
      "Чебышевская сетка\n",
      "[ 0.0102, 0.0904, 0.2443, 0.4594, 0.7183, 1.0, 1.2817, 1.5406, 1.7557, 1.9096, 1.9898 ]\n"
     ]
    }
   ],
   "source": [
    "def gett(j, k=10, a=0, b=2):\n",
    "    return (a + b) / 2 - (b - a) / 2 * cos((2*j + 1) * np.pi / (2 * (k + 1)))\n",
    "\n",
    "t = np.array([gett(j) for j in range(11)])\n",
    "print('Чебышевская сетка\\n[', ', '.join([str(round(i, 4)) for i in t]), ']')"
   ]
  },
  {
   "cell_type": "code",
   "execution_count": 8,
   "metadata": {},
   "outputs": [
    {
     "data": {
      "text/html": [
       "<div>\n",
       "<style scoped>\n",
       "    .dataframe tbody tr th:only-of-type {\n",
       "        vertical-align: middle;\n",
       "    }\n",
       "\n",
       "    .dataframe tbody tr th {\n",
       "        vertical-align: top;\n",
       "    }\n",
       "\n",
       "    .dataframe thead th {\n",
       "        text-align: right;\n",
       "    }\n",
       "</style>\n",
       "<table border=\"1\" class=\"dataframe\">\n",
       "  <thead>\n",
       "    <tr style=\"text-align: right;\">\n",
       "      <th></th>\n",
       "      <th>0</th>\n",
       "      <th>1</th>\n",
       "      <th>2</th>\n",
       "      <th>3</th>\n",
       "      <th>4</th>\n",
       "      <th>5</th>\n",
       "      <th>6</th>\n",
       "      <th>7</th>\n",
       "      <th>8</th>\n",
       "      <th>9</th>\n",
       "      <th>10</th>\n",
       "    </tr>\n",
       "  </thead>\n",
       "  <tbody>\n",
       "    <tr>\n",
       "      <th>0</th>\n",
       "      <td>1.0</td>\n",
       "      <td>0.010179</td>\n",
       "      <td>0.000104</td>\n",
       "      <td>0.000001</td>\n",
       "      <td>1.073359e-08</td>\n",
       "      <td>1.092525e-10</td>\n",
       "      <td>1.112033e-12</td>\n",
       "      <td>1.131889e-14</td>\n",
       "      <td>1.152100e-16</td>\n",
       "      <td>1.172671e-18</td>\n",
       "      <td>1.193610e-20</td>\n",
       "    </tr>\n",
       "    <tr>\n",
       "      <th>1</th>\n",
       "      <td>1.0</td>\n",
       "      <td>0.090368</td>\n",
       "      <td>0.008166</td>\n",
       "      <td>0.000738</td>\n",
       "      <td>6.668970e-05</td>\n",
       "      <td>6.026615e-06</td>\n",
       "      <td>5.446132e-07</td>\n",
       "      <td>4.921561e-08</td>\n",
       "      <td>4.447516e-09</td>\n",
       "      <td>4.019132e-10</td>\n",
       "      <td>3.632009e-11</td>\n",
       "    </tr>\n",
       "    <tr>\n",
       "      <th>2</th>\n",
       "      <td>1.0</td>\n",
       "      <td>0.244250</td>\n",
       "      <td>0.059658</td>\n",
       "      <td>0.014572</td>\n",
       "      <td>3.559109e-03</td>\n",
       "      <td>8.693139e-04</td>\n",
       "      <td>2.123303e-04</td>\n",
       "      <td>5.186177e-05</td>\n",
       "      <td>1.266726e-05</td>\n",
       "      <td>3.093983e-06</td>\n",
       "      <td>7.557067e-07</td>\n",
       "    </tr>\n",
       "    <tr>\n",
       "      <th>3</th>\n",
       "      <td>1.0</td>\n",
       "      <td>0.459359</td>\n",
       "      <td>0.211011</td>\n",
       "      <td>0.096930</td>\n",
       "      <td>4.452558e-02</td>\n",
       "      <td>2.045324e-02</td>\n",
       "      <td>9.395381e-03</td>\n",
       "      <td>4.315855e-03</td>\n",
       "      <td>1.982527e-03</td>\n",
       "      <td>9.106922e-04</td>\n",
       "      <td>4.183348e-04</td>\n",
       "    </tr>\n",
       "    <tr>\n",
       "      <th>4</th>\n",
       "      <td>1.0</td>\n",
       "      <td>0.718267</td>\n",
       "      <td>0.515908</td>\n",
       "      <td>0.370560</td>\n",
       "      <td>2.661612e-01</td>\n",
       "      <td>1.911749e-01</td>\n",
       "      <td>1.373147e-01</td>\n",
       "      <td>9.862869e-02</td>\n",
       "      <td>7.084178e-02</td>\n",
       "      <td>5.088334e-02</td>\n",
       "      <td>3.654785e-02</td>\n",
       "    </tr>\n",
       "    <tr>\n",
       "      <th>5</th>\n",
       "      <td>1.0</td>\n",
       "      <td>1.000000</td>\n",
       "      <td>1.000000</td>\n",
       "      <td>1.000000</td>\n",
       "      <td>1.000000e+00</td>\n",
       "      <td>1.000000e+00</td>\n",
       "      <td>1.000000e+00</td>\n",
       "      <td>1.000000e+00</td>\n",
       "      <td>1.000000e+00</td>\n",
       "      <td>1.000000e+00</td>\n",
       "      <td>1.000000e+00</td>\n",
       "    </tr>\n",
       "    <tr>\n",
       "      <th>6</th>\n",
       "      <td>1.0</td>\n",
       "      <td>1.281733</td>\n",
       "      <td>1.642838</td>\n",
       "      <td>2.105679</td>\n",
       "      <td>2.698918e+00</td>\n",
       "      <td>3.459291e+00</td>\n",
       "      <td>4.433886e+00</td>\n",
       "      <td>5.683056e+00</td>\n",
       "      <td>7.284157e+00</td>\n",
       "      <td>9.336342e+00</td>\n",
       "      <td>1.196669e+01</td>\n",
       "    </tr>\n",
       "    <tr>\n",
       "      <th>7</th>\n",
       "      <td>1.0</td>\n",
       "      <td>1.540641</td>\n",
       "      <td>2.373574</td>\n",
       "      <td>3.656825</td>\n",
       "      <td>5.633854e+00</td>\n",
       "      <td>8.679746e+00</td>\n",
       "      <td>1.337237e+01</td>\n",
       "      <td>2.060202e+01</td>\n",
       "      <td>3.174031e+01</td>\n",
       "      <td>4.890042e+01</td>\n",
       "      <td>7.533798e+01</td>\n",
       "    </tr>\n",
       "    <tr>\n",
       "      <th>8</th>\n",
       "      <td>1.0</td>\n",
       "      <td>1.755750</td>\n",
       "      <td>3.082657</td>\n",
       "      <td>5.412373</td>\n",
       "      <td>9.502772e+00</td>\n",
       "      <td>1.668449e+01</td>\n",
       "      <td>2.929378e+01</td>\n",
       "      <td>5.143254e+01</td>\n",
       "      <td>9.030267e+01</td>\n",
       "      <td>1.585489e+02</td>\n",
       "      <td>2.783721e+02</td>\n",
       "    </tr>\n",
       "    <tr>\n",
       "      <th>9</th>\n",
       "      <td>1.0</td>\n",
       "      <td>1.909632</td>\n",
       "      <td>3.646694</td>\n",
       "      <td>6.963844</td>\n",
       "      <td>1.329838e+01</td>\n",
       "      <td>2.539501e+01</td>\n",
       "      <td>4.849513e+01</td>\n",
       "      <td>9.260784e+01</td>\n",
       "      <td>1.768469e+02</td>\n",
       "      <td>3.377125e+02</td>\n",
       "      <td>6.449066e+02</td>\n",
       "    </tr>\n",
       "    <tr>\n",
       "      <th>10</th>\n",
       "      <td>1.0</td>\n",
       "      <td>1.989821</td>\n",
       "      <td>3.959389</td>\n",
       "      <td>7.878478</td>\n",
       "      <td>1.567676e+01</td>\n",
       "      <td>3.119396e+01</td>\n",
       "      <td>6.207041e+01</td>\n",
       "      <td>1.235090e+02</td>\n",
       "      <td>2.457609e+02</td>\n",
       "      <td>4.890204e+02</td>\n",
       "      <td>9.730632e+02</td>\n",
       "    </tr>\n",
       "  </tbody>\n",
       "</table>\n",
       "</div>"
      ],
      "text/plain": [
       "      0         1         2         3             4             5  \\\n",
       "0   1.0  0.010179  0.000104  0.000001  1.073359e-08  1.092525e-10   \n",
       "1   1.0  0.090368  0.008166  0.000738  6.668970e-05  6.026615e-06   \n",
       "2   1.0  0.244250  0.059658  0.014572  3.559109e-03  8.693139e-04   \n",
       "3   1.0  0.459359  0.211011  0.096930  4.452558e-02  2.045324e-02   \n",
       "4   1.0  0.718267  0.515908  0.370560  2.661612e-01  1.911749e-01   \n",
       "5   1.0  1.000000  1.000000  1.000000  1.000000e+00  1.000000e+00   \n",
       "6   1.0  1.281733  1.642838  2.105679  2.698918e+00  3.459291e+00   \n",
       "7   1.0  1.540641  2.373574  3.656825  5.633854e+00  8.679746e+00   \n",
       "8   1.0  1.755750  3.082657  5.412373  9.502772e+00  1.668449e+01   \n",
       "9   1.0  1.909632  3.646694  6.963844  1.329838e+01  2.539501e+01   \n",
       "10  1.0  1.989821  3.959389  7.878478  1.567676e+01  3.119396e+01   \n",
       "\n",
       "               6             7             8             9            10  \n",
       "0   1.112033e-12  1.131889e-14  1.152100e-16  1.172671e-18  1.193610e-20  \n",
       "1   5.446132e-07  4.921561e-08  4.447516e-09  4.019132e-10  3.632009e-11  \n",
       "2   2.123303e-04  5.186177e-05  1.266726e-05  3.093983e-06  7.557067e-07  \n",
       "3   9.395381e-03  4.315855e-03  1.982527e-03  9.106922e-04  4.183348e-04  \n",
       "4   1.373147e-01  9.862869e-02  7.084178e-02  5.088334e-02  3.654785e-02  \n",
       "5   1.000000e+00  1.000000e+00  1.000000e+00  1.000000e+00  1.000000e+00  \n",
       "6   4.433886e+00  5.683056e+00  7.284157e+00  9.336342e+00  1.196669e+01  \n",
       "7   1.337237e+01  2.060202e+01  3.174031e+01  4.890042e+01  7.533798e+01  \n",
       "8   2.929378e+01  5.143254e+01  9.030267e+01  1.585489e+02  2.783721e+02  \n",
       "9   4.849513e+01  9.260784e+01  1.768469e+02  3.377125e+02  6.449066e+02  \n",
       "10  6.207041e+01  1.235090e+02  2.457609e+02  4.890204e+02  9.730632e+02  "
      ]
     },
     "execution_count": 8,
     "metadata": {},
     "output_type": "execute_result"
    }
   ],
   "source": [
    "X = np.zeros((11, 11))\n",
    "\n",
    "for i in range(11):\n",
    "    for j in range(11):\n",
    "        X[j][i] = t[j]**i\n",
    "\n",
    "pd.DataFrame(X)"
   ]
  },
  {
   "cell_type": "code",
   "execution_count": 9,
   "metadata": {},
   "outputs": [
    {
     "data": {
      "text/plain": [
       "array([0.99053933, 0.96193758, 1.08598087, 1.5023927 , 2.17910857,\n",
       "       3.        , 3.86311324, 4.68442976, 5.38537656, 5.89640338,\n",
       "       6.16567992])"
      ]
     },
     "execution_count": 9,
     "metadata": {},
     "output_type": "execute_result"
    }
   ],
   "source": [
    "y = np.array([f(x) for x in t])\n",
    "y"
   ]
  },
  {
   "cell_type": "code",
   "execution_count": 10,
   "metadata": {},
   "outputs": [
    {
     "data": {
      "text/plain": [
       "array([-5.77293364e-05,  1.81782528e-02, -1.83371309e-01,  7.55797859e-01,\n",
       "       -1.48339783e+00,  7.90276111e-01,  2.58894137e+00, -6.41728381e+00,\n",
       "        6.92737670e+00, -9.96430218e-01,  9.99970600e-01])"
      ]
     },
     "execution_count": 10,
     "metadata": {},
     "output_type": "execute_result"
    }
   ],
   "source": [
    "acoef = solve(X, y)\n",
    "acoef[::-1]"
   ]
  },
  {
   "cell_type": "code",
   "execution_count": 11,
   "metadata": {},
   "outputs": [
    {
     "name": "stdout",
     "output_type": "stream",
     "text": [
      "Интеграл от интерполяционного полинома Лагранжа: 6.28924418\n"
     ]
    }
   ],
   "source": [
    "L_int = np.polyint(np.poly1d(acoef[::-1]))\n",
    "print('Интеграл от интерполяционного полинома Лагранжа:', round(L_int(2) - L_int(0), 8))"
   ]
  }
 ],
 "metadata": {
  "kernelspec": {
   "display_name": "Python 3",
   "language": "python",
   "name": "python3"
  },
  "language_info": {
   "codemirror_mode": {
    "name": "ipython",
    "version": 3
   },
   "file_extension": ".py",
   "mimetype": "text/x-python",
   "name": "python",
   "nbconvert_exporter": "python",
   "pygments_lexer": "ipython3",
   "version": "3.8.2"
  }
 },
 "nbformat": 4,
 "nbformat_minor": 4
}
